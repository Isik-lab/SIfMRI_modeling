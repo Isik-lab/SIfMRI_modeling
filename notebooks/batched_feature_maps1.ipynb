{
 "cells": [
  {
   "cell_type": "markdown",
   "id": "9ed353da",
   "metadata": {},
   "source": [
    "## Batched Feature Maps:\n",
    "\n",
    "For more flexible manipulation of data in various batch sizes, and for troubleshooting of feature extraction errors that may be inconsistent across batches (i.e. with next-token-predicting LLMs.) Below are two examples of the use of batched feature maps:\n",
    "- The canonical AlexNet example.\n",
    "- A more complicated GPT example."
   ]
  },
  {
   "cell_type": "markdown",
   "id": "7b943db1",
   "metadata": {},
   "source": [
    "First, some setup..."
   ]
  },
  {
   "cell_type": "code",
   "execution_count": 1,
   "id": "ca6b193d",
   "metadata": {},
   "outputs": [],
   "source": [
    "import sys; sys.path += ['..']\n",
    "# add deepjuice to your path"
   ]
  },
  {
   "cell_type": "code",
   "execution_count": 2,
   "id": "03ccb75b",
   "metadata": {},
   "outputs": [],
   "source": [
    "%load_ext autoreload\n",
    "%autoreload complete"
   ]
  },
  {
   "cell_type": "code",
   "execution_count": 3,
   "id": "08fbedcb-03bf-42a2-bf2b-79fc7c2bcf78",
   "metadata": {},
   "outputs": [],
   "source": [
    "from deepjuice import * # the juice"
   ]
  },
  {
   "cell_type": "code",
   "execution_count": 4,
   "id": "68ae5c96",
   "metadata": {},
   "outputs": [
    {
     "name": "stdout",
     "output_type": "stream",
     "text": [
      "Initializing DeepJuice Benchmarks (JuicyFruits)\n",
      "Loading DeepJuice NSDBenchmark: \n",
      "  Image Set: shared1000\n",
      "  Voxel Set: ['EVC', 'OTC']\n"
     ]
    }
   ],
   "source": [
    "from juicyfruits import NSDBenchmark\n",
    "benchmark = NSDBenchmark() #load brain data benchmark\n",
    "\n",
    "model_uid = 'torchvision_alexnet_imagenet1k_v1'\n",
    "model, preprocess = get_deepjuice_model(model_uid)\n",
    "\n",
    "# here, we'll subset our images to simulate\n",
    "# a slightly uneven split across batches:\n",
    "image_subset = benchmark.image_paths[:160]\n",
    "\n",
    "dataloader = get_data_loader(image_subset, preprocess, batch_size=64)"
   ]
  },
  {
   "cell_type": "markdown",
   "id": "d62fdfa0",
   "metadata": {},
   "source": [
    "**The Modified Extraction Procedure**\n",
    "\n",
    "...works almost exactly the same as before, except there's a new key argument:\n",
    "\n",
    "**batch_strategy**: 3 main variants\n",
    "- *join* constructs empty tensors in full dimension, and fills them iteratively with each batch.\n",
    "- *list* quite literally adds each batch of features to a list, and returns that list.\n",
    "- *stack* wraps this list in a class that allows for easier manipulation of the underlying nested list.\n",
    "\n",
    "\n",
    "*join* is the canonical version you're used to and is most efficient, but also can lead to a lot of degeneracies it turns out if batch_sizes are irregular, transfer between tensor devices is slow, or many other things...*list* is as it's written on the tin; each new batch of feature is dropped into a list, and that list is returned at the end of the function. *stack* is the version that directly uses the BatchedFeatureMaps class, but keep in mind that you can simply use the output of the *list* version after it's been built to initialize this class.\n",
    "\n",
    "Let's have a look at the list version first:"
   ]
  },
  {
   "cell_type": "code",
   "execution_count": 5,
   "id": "6d81d736",
   "metadata": {},
   "outputs": [
    {
     "name": "stdout",
     "output_type": "stream",
     "text": [
      "Extracting sample feature_maps with torchinfo (CUDA:0 to CPU)\n",
      "Keeping 18 / 24 total maps (6 duplicates removed).\n"
     ]
    },
    {
     "data": {
      "application/vnd.jupyter.widget-view+json": {
       "model_id": "173b916b5e184888881b25078e86e85a",
       "version_major": 2,
       "version_minor": 0
      },
      "text/plain": [
       "Feature Extraction (DataLoader):   0%|          | 0/3 [00:00<?, ?it/s]"
      ]
     },
     "metadata": {},
     "output_type": "display_data"
    }
   ],
   "source": [
    "# MPS is a mac GPU device that I'm using as stopgap:\n",
    "devices = {'device': 'cuda:0', 'output_device': 'cpu'}\n",
    "\n",
    "# notice that I'm invoking the get_feature_maps function directly\n",
    "# this is the function internally called by the FeatureExtractor:\n",
    "feature_map_list = get_feature_maps(model, dataloader, **devices,\n",
    "                                   batch_strategy='list') # <- the new argument!"
   ]
  },
  {
   "cell_type": "markdown",
   "id": "0d2e495b",
   "metadata": {},
   "source": [
    "So what does feature_map_list look like?"
   ]
  },
  {
   "cell_type": "code",
   "execution_count": 6,
   "id": "8326f2df",
   "metadata": {},
   "outputs": [
    {
     "data": {
      "text/plain": [
       "[FeatureMaps Handle\n",
       "  18 maps; 64 inputs; 262.60 MB \n",
       "  0 maps on GPU (0 duplicates),\n",
       " FeatureMaps Handle\n",
       "  18 maps; 64 inputs; 262.60 MB \n",
       "  0 maps on GPU (0 duplicates),\n",
       " FeatureMaps Handle\n",
       "  18 maps; 32 inputs; 131.30 MB \n",
       "  0 maps on GPU (0 duplicates)]"
      ]
     },
     "execution_count": 6,
     "metadata": {},
     "output_type": "execute_result"
    }
   ],
   "source": [
    "feature_map_list # notice the last of these feature_maps has only 32 inputs"
   ]
  },
  {
   "cell_type": "markdown",
   "id": "d2de7171",
   "metadata": {},
   "source": [
    "...in this example, feature_map_list is not a list of dictionaries as you might expect, but a list of what I call \"FeatureMap\" handles. These basically behave almost EXACTLY like a dictionary, but don't pollute ipython with numerical printouts. they also give us access to a bunch of quick stats."
   ]
  },
  {
   "cell_type": "code",
   "execution_count": 7,
   "id": "1ce622cd",
   "metadata": {},
   "outputs": [
    {
     "name": "stdout",
     "output_type": "stream",
     "text": [
      "Linear-2-15 [64, 4096]\n",
      "Linear-2-18 [64, 4096]\n",
      "Linear-2-20 [64, 1000]\n",
      "\n",
      " Number of inputs: 64\n"
     ]
    }
   ],
   "source": [
    "batch_one_maps = feature_map_list[0]\n",
    "\n",
    "# note how these behave exactly like dictionaries:\n",
    "for uid, feature_map in batch_one_maps.items():\n",
    "    if 'Linear' in uid: # print linear layers:\n",
    "        print(uid, [x for x in feature_map.shape])\n",
    "    \n",
    "# but also give you cool, quick stats:\n",
    "print('\\n Number of inputs:', batch_one_maps.get_input_size())"
   ]
  },
  {
   "cell_type": "markdown",
   "id": "2cac2a06",
   "metadata": {},
   "source": [
    "With this in mind now, you can think of BatchedFeatureMaps as simply a wrapper around the FeatureMap wrappers (don't worry -- this is the most recursive this will get, I think...)"
   ]
  },
  {
   "cell_type": "code",
   "execution_count": 8,
   "id": "807016fe",
   "metadata": {},
   "outputs": [],
   "source": [
    "from deepjuice.extraction import BatchedFeatureMaps\n",
    "\n",
    "batched_maps = BatchedFeatureMaps(feature_map_list)"
   ]
  },
  {
   "cell_type": "code",
   "execution_count": 9,
   "id": "31bd8a3b",
   "metadata": {},
   "outputs": [
    {
     "data": {
      "text/plain": [
       "Batch Tensor Maps Handler\n",
       "  Total Batch Count: 3\n",
       "  # Total Inputs: 160\n",
       "  # of Unique Feature Maps: 18\n",
       "  No irregularities found."
      ]
     },
     "execution_count": 9,
     "metadata": {},
     "output_type": "execute_result"
    }
   ],
   "source": [
    "batched_maps # the initial report"
   ]
  },
  {
   "cell_type": "code",
   "execution_count": 10,
   "id": "5bb310c5",
   "metadata": {},
   "outputs": [
    {
     "data": {
      "text/plain": [
       "{}"
      ]
     },
     "execution_count": 10,
     "metadata": {},
     "output_type": "execute_result"
    }
   ],
   "source": [
    "# this returns None in this case:\n",
    "batched_maps.get_irregular_shapes()"
   ]
  },
  {
   "cell_type": "markdown",
   "id": "a24e3c6d",
   "metadata": {},
   "source": [
    "Note, this modification to the \"batch_strategy\" procedure can be wrapped directly into a FeatureExtractor:"
   ]
  },
  {
   "cell_type": "code",
   "execution_count": 11,
   "id": "55e01618",
   "metadata": {},
   "outputs": [
    {
     "name": "stdout",
     "output_type": "stream",
     "text": [
      "Extracting sample feature_maps with torchinfo (CUDA:0 to CPU)\n",
      "FeatureExtractor Handle for AlexNet\n",
      "  24 feature maps (+6 duplicates); 160 inputs\n",
      "  Memory required for full extraction: 677.15 MB\n",
      "  Memory usage limiting device set to: cpu\n",
      "  Memory usage limit currently set to: 289.411 GB\n",
      "  1 batch(es) required for current memory limit \n",
      "   Batch-001: 24 feature maps; 677.15 MB\n"
     ]
    }
   ],
   "source": [
    "devices = {'device': 'cuda:0', 'output_device': 'cpu'}\n",
    "\n",
    "extractor = FeatureExtractor(model, dataloader, **devices,\n",
    "                             batch_strategy='stack',\n",
    "                             max_memory_limit='16GB')"
   ]
  },
  {
   "cell_type": "code",
   "execution_count": 12,
   "id": "1e68483d",
   "metadata": {},
   "outputs": [
    {
     "data": {
      "application/vnd.jupyter.widget-view+json": {
       "model_id": "476a66598d334b6fb9e36a711c283009",
       "version_major": 2,
       "version_minor": 0
      },
      "text/plain": [
       "Global Progress:   0%|          | 0/1 [00:00<?, ?it/s]"
      ]
     },
     "metadata": {},
     "output_type": "display_data"
    },
    {
     "name": "stdout",
     "output_type": "stream",
     "text": [
      "Joining all regularly shaped feature_maps into a set:\n"
     ]
    },
    {
     "data": {
      "application/vnd.jupyter.widget-view+json": {
       "model_id": "b7a04370747645749efbf39462589706",
       "version_major": 2,
       "version_minor": 0
      },
      "text/plain": [
       "Joining Batched Feature Maps:   0%|          | 0/3 [00:00<?, ?it/s]"
      ]
     },
     "metadata": {},
     "output_type": "display_data"
    },
    {
     "name": "stdout",
     "output_type": "stream",
     "text": [
      "Linear-2-15 [160, 4096]\n",
      "Linear-2-18 [160, 4096]\n",
      "Linear-2-20 [160, 1000]\n"
     ]
    }
   ],
   "source": [
    "for batched_feature_maps in tqdm(extractor, 'Global Progress'):\n",
    "    feature_maps = batched_feature_maps.join_batches()\n",
    "    for uid, feature_map in feature_maps.items():\n",
    "        if 'Linear' in uid: # print linear layers:\n",
    "            print(uid, [x for x in feature_map.shape])"
   ]
  },
  {
   "cell_type": "code",
   "execution_count": 13,
   "id": "4b578732",
   "metadata": {},
   "outputs": [
    {
     "data": {
      "application/vnd.jupyter.widget-view+json": {
       "model_id": "0bf131092d194b0ba54e9725481f4948",
       "version_major": 2,
       "version_minor": 0
      },
      "text/plain": [
       "Global Progress:   0%|          | 0/1 [00:00<?, ?it/s]"
      ]
     },
     "metadata": {},
     "output_type": "display_data"
    },
    {
     "name": "stdout",
     "output_type": "stream",
     "text": [
      "Joining all regularly shaped feature_maps into a set:\n"
     ]
    },
    {
     "data": {
      "application/vnd.jupyter.widget-view+json": {
       "model_id": "9dfebed14afc4cd5a909aed8eaaa430a",
       "version_major": 2,
       "version_minor": 0
      },
      "text/plain": [
       "Joining Batched Feature Maps:   0%|          | 0/3 [00:00<?, ?it/s]"
      ]
     },
     "metadata": {},
     "output_type": "display_data"
    },
    {
     "name": "stdout",
     "output_type": "stream",
     "text": [
      "Conv2d-2-1 [160, 193600]\n",
      "Conv2d-2-4 [160, 139968]\n",
      "Conv2d-2-7 [160, 64896]\n",
      "Conv2d-2-9 [160, 43264]\n",
      "Conv2d-2-11 [160, 43264]\n"
     ]
    }
   ],
   "source": [
    "# this will also work if we add a flattening modification\n",
    "\n",
    "extractor.modify_settings(flatten=True)\n",
    "\n",
    "for batched_feature_maps in tqdm(extractor, 'Global Progress'):\n",
    "    feature_maps = batched_feature_maps.join_batches()\n",
    "    for uid, feature_map in feature_maps.items():\n",
    "        if 'Conv2d' in uid: # print linear layers:\n",
    "            print(uid, [x for x in feature_map.shape])"
   ]
  },
  {
   "cell_type": "code",
   "execution_count": null,
   "id": "c6581a33-d0a1-450a-aea5-71bbcaa5c93d",
   "metadata": {},
   "outputs": [],
   "source": []
  }
 ],
 "metadata": {
  "kernelspec": {
   "display_name": "Synthese",
   "language": "python",
   "name": "synthese"
  },
  "language_info": {
   "codemirror_mode": {
    "name": "ipython",
    "version": 3
   },
   "file_extension": ".py",
   "mimetype": "text/x-python",
   "name": "python",
   "nbconvert_exporter": "python",
   "pygments_lexer": "ipython3",
   "version": "3.10.13"
  },
  "widgets": {
   "application/vnd.jupyter.widget-state+json": {
    "state": {
     "075f7737defc45a8bc8b5a7e25094775": {
      "model_module": "@jupyter-widgets/base",
      "model_module_version": "2.0.0",
      "model_name": "LayoutModel",
      "state": {}
     },
     "0a8be4226b5f4f37accdb584f0516e24": {
      "model_module": "@jupyter-widgets/controls",
      "model_module_version": "2.0.0",
      "model_name": "HTMLModel",
      "state": {
       "layout": "IPY_MODEL_9d4b4d6be29946acb78751b523df1b33",
       "style": "IPY_MODEL_e0ef9912f9cf46bda0479b2ace3ae51d",
       "value": " 3/3 [00:00&lt;00:00, 76.96it/s]"
      }
     },
     "0bf131092d194b0ba54e9725481f4948": {
      "model_module": "@jupyter-widgets/controls",
      "model_module_version": "2.0.0",
      "model_name": "HBoxModel",
      "state": {
       "children": [
        "IPY_MODEL_138f3232898d4d808a6dc5d290982f55",
        "IPY_MODEL_d2bd4609234140a29be94358240f2b75",
        "IPY_MODEL_e9f648c33f8b4b49895d9b660b5622ac"
       ],
       "layout": "IPY_MODEL_afcd43b6b0944eeea6816f041fa616e9"
      }
     },
     "0e0740887e534f5e8bc39212b45b9a3a": {
      "model_module": "@jupyter-widgets/base",
      "model_module_version": "2.0.0",
      "model_name": "LayoutModel",
      "state": {}
     },
     "12a3e13f368c44d4b27acfc05e3bd9ec": {
      "model_module": "@jupyter-widgets/base",
      "model_module_version": "2.0.0",
      "model_name": "LayoutModel",
      "state": {}
     },
     "138f3232898d4d808a6dc5d290982f55": {
      "model_module": "@jupyter-widgets/controls",
      "model_module_version": "2.0.0",
      "model_name": "HTMLModel",
      "state": {
       "layout": "IPY_MODEL_1c130af58ea54dfd81f34daea89c2c68",
       "style": "IPY_MODEL_50e7afac0f514198b745f9f4ca209103",
       "value": "Global Progress: 100%"
      }
     },
     "173b916b5e184888881b25078e86e85a": {
      "model_module": "@jupyter-widgets/controls",
      "model_module_version": "2.0.0",
      "model_name": "HBoxModel",
      "state": {
       "children": [
        "IPY_MODEL_38d8e5ee7498409f9bc250176a8bc827",
        "IPY_MODEL_23d5c43b4cee424480c0b802267d7eae",
        "IPY_MODEL_71c2180212e04464a1f21ac67e5ad9f9"
       ],
       "layout": "IPY_MODEL_fdb7a474925240bcbe06a5e997cca7be"
      }
     },
     "1c130af58ea54dfd81f34daea89c2c68": {
      "model_module": "@jupyter-widgets/base",
      "model_module_version": "2.0.0",
      "model_name": "LayoutModel",
      "state": {}
     },
     "1cdf0bcdd0704ce8b64aea966c0b2200": {
      "model_module": "@jupyter-widgets/base",
      "model_module_version": "2.0.0",
      "model_name": "LayoutModel",
      "state": {}
     },
     "1db3a53de84443fda2c0d9dbef07be60": {
      "model_module": "@jupyter-widgets/base",
      "model_module_version": "2.0.0",
      "model_name": "LayoutModel",
      "state": {}
     },
     "23d5c43b4cee424480c0b802267d7eae": {
      "model_module": "@jupyter-widgets/controls",
      "model_module_version": "2.0.0",
      "model_name": "FloatProgressModel",
      "state": {
       "bar_style": "success",
       "layout": "IPY_MODEL_b74288da301340dfabe46963ba67885e",
       "max": 3,
       "style": "IPY_MODEL_9dfa51dbba1647e8a0378fc70ec1604f",
       "value": 3
      }
     },
     "29eb8e70816b4143ab8c477cc42e1f39": {
      "model_module": "@jupyter-widgets/controls",
      "model_module_version": "2.0.0",
      "model_name": "HTMLStyleModel",
      "state": {
       "description_width": "",
       "font_size": null,
       "text_color": null
      }
     },
     "2fed6a360df9423bbc7b2e9c32bca4e5": {
      "model_module": "@jupyter-widgets/controls",
      "model_module_version": "2.0.0",
      "model_name": "ProgressStyleModel",
      "state": {
       "description_width": ""
      }
     },
     "3283ce94ce9b49caa7cd69802d21c3fa": {
      "model_module": "@jupyter-widgets/controls",
      "model_module_version": "2.0.0",
      "model_name": "HTMLModel",
      "state": {
       "layout": "IPY_MODEL_12a3e13f368c44d4b27acfc05e3bd9ec",
       "style": "IPY_MODEL_9dd4eefd1fa941a29479dcf953c62979",
       "value": "Joining Batched Feature Maps: 100%"
      }
     },
     "38d8e5ee7498409f9bc250176a8bc827": {
      "model_module": "@jupyter-widgets/controls",
      "model_module_version": "2.0.0",
      "model_name": "HTMLModel",
      "state": {
       "layout": "IPY_MODEL_3f92ac9f8e984791863120525f06cdb0",
       "style": "IPY_MODEL_57ff62ba69e04220975e0c91923afb1b",
       "value": "Feature Extraction (DataLoader): 100%"
      }
     },
     "3abcc767bf1744bc8bd0f39828840436": {
      "model_module": "@jupyter-widgets/controls",
      "model_module_version": "2.0.0",
      "model_name": "HTMLStyleModel",
      "state": {
       "description_width": "",
       "font_size": null,
       "text_color": null
      }
     },
     "3f92ac9f8e984791863120525f06cdb0": {
      "model_module": "@jupyter-widgets/base",
      "model_module_version": "2.0.0",
      "model_name": "LayoutModel",
      "state": {}
     },
     "476a66598d334b6fb9e36a711c283009": {
      "model_module": "@jupyter-widgets/controls",
      "model_module_version": "2.0.0",
      "model_name": "HBoxModel",
      "state": {
       "children": [
        "IPY_MODEL_7a6dce17e71e4a59a8cb61290ec8f81d",
        "IPY_MODEL_9a7c3d87286b4d77bf0dcba00da19f00",
        "IPY_MODEL_9a00cdf69d5348fdada82e7bdaef901e"
       ],
       "layout": "IPY_MODEL_aed8e74b7ef24884b4ead6d948d9dc21"
      }
     },
     "50e7afac0f514198b745f9f4ca209103": {
      "model_module": "@jupyter-widgets/controls",
      "model_module_version": "2.0.0",
      "model_name": "HTMLStyleModel",
      "state": {
       "description_width": "",
       "font_size": null,
       "text_color": null
      }
     },
     "54090e7bb1314fa8a55f0868d205a162": {
      "model_module": "@jupyter-widgets/controls",
      "model_module_version": "2.0.0",
      "model_name": "HTMLStyleModel",
      "state": {
       "description_width": "",
       "font_size": null,
       "text_color": null
      }
     },
     "57ff62ba69e04220975e0c91923afb1b": {
      "model_module": "@jupyter-widgets/controls",
      "model_module_version": "2.0.0",
      "model_name": "HTMLStyleModel",
      "state": {
       "description_width": "",
       "font_size": null,
       "text_color": null
      }
     },
     "6302426d426e4d85963b824d10d22a36": {
      "model_module": "@jupyter-widgets/base",
      "model_module_version": "2.0.0",
      "model_name": "LayoutModel",
      "state": {}
     },
     "71c2180212e04464a1f21ac67e5ad9f9": {
      "model_module": "@jupyter-widgets/controls",
      "model_module_version": "2.0.0",
      "model_name": "HTMLModel",
      "state": {
       "layout": "IPY_MODEL_1cdf0bcdd0704ce8b64aea966c0b2200",
       "style": "IPY_MODEL_54090e7bb1314fa8a55f0868d205a162",
       "value": " 3/3 [00:01&lt;00:00,  2.40it/s]"
      }
     },
     "7a6dce17e71e4a59a8cb61290ec8f81d": {
      "model_module": "@jupyter-widgets/controls",
      "model_module_version": "2.0.0",
      "model_name": "HTMLModel",
      "state": {
       "layout": "IPY_MODEL_0e0740887e534f5e8bc39212b45b9a3a",
       "style": "IPY_MODEL_29eb8e70816b4143ab8c477cc42e1f39",
       "value": "Global Progress: 100%"
      }
     },
     "7c3dd3864fce4cd8956447fb58af2520": {
      "model_module": "@jupyter-widgets/base",
      "model_module_version": "2.0.0",
      "model_name": "LayoutModel",
      "state": {}
     },
     "9a00cdf69d5348fdada82e7bdaef901e": {
      "model_module": "@jupyter-widgets/controls",
      "model_module_version": "2.0.0",
      "model_name": "HTMLModel",
      "state": {
       "layout": "IPY_MODEL_b4f6a0351dbb4024934b4b356fbccc0f",
       "style": "IPY_MODEL_d6d409975b1c4c449aeef5e7b7e4a920",
       "value": " 1/1 [00:01&lt;00:00,  1.47s/it]"
      }
     },
     "9a7c3d87286b4d77bf0dcba00da19f00": {
      "model_module": "@jupyter-widgets/controls",
      "model_module_version": "2.0.0",
      "model_name": "FloatProgressModel",
      "state": {
       "bar_style": "success",
       "layout": "IPY_MODEL_6302426d426e4d85963b824d10d22a36",
       "max": 1,
       "style": "IPY_MODEL_c0ffab3d83364fd9b21d94694b364dd9",
       "value": 1
      }
     },
     "9d3ceeb05c4f495588efd82904a42598": {
      "model_module": "@jupyter-widgets/base",
      "model_module_version": "2.0.0",
      "model_name": "LayoutModel",
      "state": {}
     },
     "9d4b4d6be29946acb78751b523df1b33": {
      "model_module": "@jupyter-widgets/base",
      "model_module_version": "2.0.0",
      "model_name": "LayoutModel",
      "state": {}
     },
     "9dd4eefd1fa941a29479dcf953c62979": {
      "model_module": "@jupyter-widgets/controls",
      "model_module_version": "2.0.0",
      "model_name": "HTMLStyleModel",
      "state": {
       "description_width": "",
       "font_size": null,
       "text_color": null
      }
     },
     "9dfa51dbba1647e8a0378fc70ec1604f": {
      "model_module": "@jupyter-widgets/controls",
      "model_module_version": "2.0.0",
      "model_name": "ProgressStyleModel",
      "state": {
       "description_width": ""
      }
     },
     "9dfebed14afc4cd5a909aed8eaaa430a": {
      "model_module": "@jupyter-widgets/controls",
      "model_module_version": "2.0.0",
      "model_name": "HBoxModel",
      "state": {
       "children": [
        "IPY_MODEL_f5130e7536a548f8a872ef51842b8ba1",
        "IPY_MODEL_d640493ef9b54546bac05bc09c636a11",
        "IPY_MODEL_0a8be4226b5f4f37accdb584f0516e24"
       ],
       "layout": "IPY_MODEL_9d3ceeb05c4f495588efd82904a42598"
      }
     },
     "aed8e74b7ef24884b4ead6d948d9dc21": {
      "model_module": "@jupyter-widgets/base",
      "model_module_version": "2.0.0",
      "model_name": "LayoutModel",
      "state": {}
     },
     "afcd43b6b0944eeea6816f041fa616e9": {
      "model_module": "@jupyter-widgets/base",
      "model_module_version": "2.0.0",
      "model_name": "LayoutModel",
      "state": {}
     },
     "b4f6a0351dbb4024934b4b356fbccc0f": {
      "model_module": "@jupyter-widgets/base",
      "model_module_version": "2.0.0",
      "model_name": "LayoutModel",
      "state": {}
     },
     "b5ee5dbde6f34c178cce937e513d6f0d": {
      "model_module": "@jupyter-widgets/base",
      "model_module_version": "2.0.0",
      "model_name": "LayoutModel",
      "state": {}
     },
     "b74288da301340dfabe46963ba67885e": {
      "model_module": "@jupyter-widgets/base",
      "model_module_version": "2.0.0",
      "model_name": "LayoutModel",
      "state": {}
     },
     "b7a04370747645749efbf39462589706": {
      "model_module": "@jupyter-widgets/controls",
      "model_module_version": "2.0.0",
      "model_name": "HBoxModel",
      "state": {
       "children": [
        "IPY_MODEL_3283ce94ce9b49caa7cd69802d21c3fa",
        "IPY_MODEL_db730aea42964254b56e3df0f087c69f",
        "IPY_MODEL_c999d7fa5ee74ca59c93516ceb745a92"
       ],
       "layout": "IPY_MODEL_ef440192d6024cd5b8e750afa561910a"
      }
     },
     "c0ffab3d83364fd9b21d94694b364dd9": {
      "model_module": "@jupyter-widgets/controls",
      "model_module_version": "2.0.0",
      "model_name": "ProgressStyleModel",
      "state": {
       "description_width": ""
      }
     },
     "c999d7fa5ee74ca59c93516ceb745a92": {
      "model_module": "@jupyter-widgets/controls",
      "model_module_version": "2.0.0",
      "model_name": "HTMLModel",
      "state": {
       "layout": "IPY_MODEL_1db3a53de84443fda2c0d9dbef07be60",
       "style": "IPY_MODEL_3abcc767bf1744bc8bd0f39828840436",
       "value": " 3/3 [00:00&lt;00:00, 64.91it/s]"
      }
     },
     "d1d1eeb5e64f49f3ba34b650f9ea8c2f": {
      "model_module": "@jupyter-widgets/controls",
      "model_module_version": "2.0.0",
      "model_name": "ProgressStyleModel",
      "state": {
       "description_width": ""
      }
     },
     "d2bd4609234140a29be94358240f2b75": {
      "model_module": "@jupyter-widgets/controls",
      "model_module_version": "2.0.0",
      "model_name": "FloatProgressModel",
      "state": {
       "bar_style": "success",
       "layout": "IPY_MODEL_e6f095b9bee54e868a28445de37ee39d",
       "max": 1,
       "style": "IPY_MODEL_fab6da0270e248c5947e32d0560e80f5",
       "value": 1
      }
     },
     "d640493ef9b54546bac05bc09c636a11": {
      "model_module": "@jupyter-widgets/controls",
      "model_module_version": "2.0.0",
      "model_name": "FloatProgressModel",
      "state": {
       "bar_style": "success",
       "layout": "IPY_MODEL_b5ee5dbde6f34c178cce937e513d6f0d",
       "max": 3,
       "style": "IPY_MODEL_d1d1eeb5e64f49f3ba34b650f9ea8c2f",
       "value": 3
      }
     },
     "d6d409975b1c4c449aeef5e7b7e4a920": {
      "model_module": "@jupyter-widgets/controls",
      "model_module_version": "2.0.0",
      "model_name": "HTMLStyleModel",
      "state": {
       "description_width": "",
       "font_size": null,
       "text_color": null
      }
     },
     "db730aea42964254b56e3df0f087c69f": {
      "model_module": "@jupyter-widgets/controls",
      "model_module_version": "2.0.0",
      "model_name": "FloatProgressModel",
      "state": {
       "bar_style": "success",
       "layout": "IPY_MODEL_075f7737defc45a8bc8b5a7e25094775",
       "max": 3,
       "style": "IPY_MODEL_2fed6a360df9423bbc7b2e9c32bca4e5",
       "value": 3
      }
     },
     "dbb7506cb03946158e44cf626e97211a": {
      "model_module": "@jupyter-widgets/base",
      "model_module_version": "2.0.0",
      "model_name": "LayoutModel",
      "state": {}
     },
     "e0ef9912f9cf46bda0479b2ace3ae51d": {
      "model_module": "@jupyter-widgets/controls",
      "model_module_version": "2.0.0",
      "model_name": "HTMLStyleModel",
      "state": {
       "description_width": "",
       "font_size": null,
       "text_color": null
      }
     },
     "e6f095b9bee54e868a28445de37ee39d": {
      "model_module": "@jupyter-widgets/base",
      "model_module_version": "2.0.0",
      "model_name": "LayoutModel",
      "state": {}
     },
     "e9f648c33f8b4b49895d9b660b5622ac": {
      "model_module": "@jupyter-widgets/controls",
      "model_module_version": "2.0.0",
      "model_name": "HTMLModel",
      "state": {
       "layout": "IPY_MODEL_7c3dd3864fce4cd8956447fb58af2520",
       "style": "IPY_MODEL_eed2bb43e9a0402ebd1b36828573d511",
       "value": " 1/1 [00:01&lt;00:00,  1.82s/it]"
      }
     },
     "eed2bb43e9a0402ebd1b36828573d511": {
      "model_module": "@jupyter-widgets/controls",
      "model_module_version": "2.0.0",
      "model_name": "HTMLStyleModel",
      "state": {
       "description_width": "",
       "font_size": null,
       "text_color": null
      }
     },
     "ef440192d6024cd5b8e750afa561910a": {
      "model_module": "@jupyter-widgets/base",
      "model_module_version": "2.0.0",
      "model_name": "LayoutModel",
      "state": {}
     },
     "f5130e7536a548f8a872ef51842b8ba1": {
      "model_module": "@jupyter-widgets/controls",
      "model_module_version": "2.0.0",
      "model_name": "HTMLModel",
      "state": {
       "layout": "IPY_MODEL_dbb7506cb03946158e44cf626e97211a",
       "style": "IPY_MODEL_fbaeb8ba04294a269564ec83dc23cf2a",
       "value": "Joining Batched Feature Maps: 100%"
      }
     },
     "fab6da0270e248c5947e32d0560e80f5": {
      "model_module": "@jupyter-widgets/controls",
      "model_module_version": "2.0.0",
      "model_name": "ProgressStyleModel",
      "state": {
       "description_width": ""
      }
     },
     "fbaeb8ba04294a269564ec83dc23cf2a": {
      "model_module": "@jupyter-widgets/controls",
      "model_module_version": "2.0.0",
      "model_name": "HTMLStyleModel",
      "state": {
       "description_width": "",
       "font_size": null,
       "text_color": null
      }
     },
     "fdb7a474925240bcbe06a5e997cca7be": {
      "model_module": "@jupyter-widgets/base",
      "model_module_version": "2.0.0",
      "model_name": "LayoutModel",
      "state": {}
     }
    },
    "version_major": 2,
    "version_minor": 0
   }
  }
 },
 "nbformat": 4,
 "nbformat_minor": 5
}
