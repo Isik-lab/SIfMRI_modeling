{
 "cells": [
  {
   "cell_type": "code",
   "execution_count": 1,
   "id": "936dac24-ad68-414a-9760-fae96194d4db",
   "metadata": {},
   "outputs": [
    {
     "name": "stdout",
     "output_type": "stream",
     "text": [
      "/scratch4/lisik3/emcmaho7/SIfMRI_modeling/notebooks\n"
     ]
    }
   ],
   "source": [
    "import os\n",
    "from glob import glob\n",
    "from tqdm import tqdm\n",
    "from pathlib import Path\n",
    "import time\n",
    "\n",
    "import pandas as pd\n",
    "import numpy as np\n",
    "from src.stats import calculate_p\n",
    "print(os.getcwd())"
   ]
  },
  {
   "cell_type": "code",
   "execution_count": 2,
   "id": "6409aacf-896d-4045-97e1-39cdc299eab5",
   "metadata": {},
   "outputs": [],
   "source": [
    "model_class = 'VisionNeuralEncoding'\n",
    "model_subpath = 'grouped_average'"
   ]
  },
  {
   "cell_type": "code",
   "execution_count": 3,
   "id": "2d7d2403-f23a-4588-be82-38c1a582797c",
   "metadata": {},
   "outputs": [],
   "source": [
    "top_dir = f'/home/emcmaho7/scratch4-lisik3/emcmaho7/SIfMRI_modeling/data/interim'"
   ]
  },
  {
   "cell_type": "code",
   "execution_count": 4,
   "id": "f3030e17-c05c-41b3-9a30-8db6b94ccc5a",
   "metadata": {},
   "outputs": [],
   "source": [
    "out_path = f'{top_dir}/ModelAveraging'\n",
    "Path(out_path).mkdir(exist_ok=True, parents=True)"
   ]
  },
  {
   "cell_type": "code",
   "execution_count": 5,
   "id": "93a02395-bbed-4cd1-afc9-4a19afdf3d52",
   "metadata": {
    "tags": []
   },
   "outputs": [
    {
     "name": "stdout",
     "output_type": "stream",
     "text": [
      "342 files found\n"
     ]
    }
   ],
   "source": [
    "if model_subpath is not None: \n",
    "    file_path = f'{top_dir}/{model_class}/{model_subpath}/'\n",
    "else: \n",
    "    file_path = f'{top_dir}/{model_class}'\n",
    "cols2keep = ['voxel_id', 'layer_relative_depth',\n",
    "             'train_score', 'test_score',\n",
    "             'r_null_dist', 'r_var_dist']\n",
    "voxel_id = 9539 #test voxel in EVC\n",
    "files = glob(f'{file_path}/*.pkl.gz')\n",
    "n_files = len(files)\n",
    "print(f'{len(files)} files found')"
   ]
  },
  {
   "cell_type": "code",
   "execution_count": 6,
   "id": "997937a2-2d4e-4bca-b515-b2f8b219633e",
   "metadata": {},
   "outputs": [],
   "source": [
    "def sum_of_arrays(series):\n",
    "    # Stack arrays vertically and compute sum along the first axis (rows)\n",
    "    return np.nansum(np.vstack(series), axis=0)\n",
    "\n",
    "def compute_confidence_intervals(arr):\n",
    "    lower = np.nanpercentile(arr, 2.5)\n",
    "    upper = np.nanpercentile(arr, 97.5)\n",
    "    return lower, upper\n",
    "\n",
    "def divide_array(arr):\n",
    "    return arr / n_final_files\n",
    "\n",
    "def calculate_p_df(row):\n",
    "    r_value = row['test_score']  # The 'r' value for the current row\n",
    "    r_null_array = row['r_null_dist']  # The 'r_null' array for the current row\n",
    "    return calculate_p(r_null_array, r_value, n_perm_=len(r_null_array), H0_='greater')"
   ]
  },
  {
   "cell_type": "code",
   "execution_count": 7,
   "id": "2ec51f1d-a4b6-4993-9c0a-90122e947f6c",
   "metadata": {},
   "outputs": [
    {
     "name": "stderr",
     "output_type": "stream",
     "text": [
      "Loading files:  14%|█▎        | 47/342 [35:42<3:00:42, 36.75s/it]"
     ]
    },
    {
     "name": "stdout",
     "output_type": "stream",
     "text": [
      "could not load /home/emcmaho7/scratch4-lisik3/emcmaho7/SIfMRI_modeling/data/interim/VisionNeuralEncoding/grouped_average/model-timm_deit3_large_patch16_384.pkl.gz\n"
     ]
    },
    {
     "name": "stderr",
     "output_type": "stream",
     "text": [
      "Loading files:  26%|██▌       | 88/342 [1:06:21<2:22:09, 33.58s/it]"
     ]
    },
    {
     "name": "stdout",
     "output_type": "stream",
     "text": [
      "could not load /home/emcmaho7/scratch4-lisik3/emcmaho7/SIfMRI_modeling/data/interim/VisionNeuralEncoding/grouped_average/model-timm_ghostnet_100.pkl.gz\n"
     ]
    },
    {
     "name": "stderr",
     "output_type": "stream",
     "text": [
      "Loading files:  38%|███▊      | 129/342 [1:37:49<2:19:27, 39.28s/it]"
     ]
    },
    {
     "name": "stdout",
     "output_type": "stream",
     "text": [
      "could not load /home/emcmaho7/scratch4-lisik3/emcmaho7/SIfMRI_modeling/data/interim/VisionNeuralEncoding/grouped_average/model-timm_efficientnet_b2.pkl.gz\n"
     ]
    },
    {
     "name": "stderr",
     "output_type": "stream",
     "text": [
      "Loading files:  44%|████▍     | 151/342 [1:54:06<2:04:25, 39.09s/it]"
     ]
    },
    {
     "name": "stdout",
     "output_type": "stream",
     "text": [
      "could not load /home/emcmaho7/scratch4-lisik3/emcmaho7/SIfMRI_modeling/data/interim/VisionNeuralEncoding/grouped_average/model-timm_cait_s36_384.pkl.gz\n"
     ]
    },
    {
     "name": "stderr",
     "output_type": "stream",
     "text": [
      "Loading files:  62%|██████▏   | 213/342 [2:40:30<1:27:25, 40.66s/it]"
     ]
    },
    {
     "name": "stdout",
     "output_type": "stream",
     "text": [
      "could not load /home/emcmaho7/scratch4-lisik3/emcmaho7/SIfMRI_modeling/data/interim/VisionNeuralEncoding/grouped_average/model-timm_dm_nfnet_f4.pkl.gz\n"
     ]
    },
    {
     "name": "stderr",
     "output_type": "stream",
     "text": [
      "Loading files:  73%|███████▎  | 249/342 [3:08:18<59:14, 38.22s/it]  "
     ]
    },
    {
     "name": "stdout",
     "output_type": "stream",
     "text": [
      "could not load /home/emcmaho7/scratch4-lisik3/emcmaho7/SIfMRI_modeling/data/interim/VisionNeuralEncoding/grouped_average/model-timm_deit3_large_patch16_384_in21ft1k.pkl.gz\n"
     ]
    },
    {
     "name": "stderr",
     "output_type": "stream",
     "text": [
      "Loading files:  76%|███████▋  | 261/342 [3:17:15<48:44, 36.10s/it]  "
     ]
    },
    {
     "name": "stdout",
     "output_type": "stream",
     "text": [
      "could not load /home/emcmaho7/scratch4-lisik3/emcmaho7/SIfMRI_modeling/data/interim/VisionNeuralEncoding/grouped_average/model-timm_gernet_s.pkl.gz\n"
     ]
    },
    {
     "name": "stderr",
     "output_type": "stream",
     "text": [
      "Loading files:  90%|█████████ | 308/342 [3:52:39<19:45, 34.88s/it]"
     ]
    },
    {
     "name": "stdout",
     "output_type": "stream",
     "text": [
      "could not load /home/emcmaho7/scratch4-lisik3/emcmaho7/SIfMRI_modeling/data/interim/VisionNeuralEncoding/grouped_average/model-timm_gernet_m.pkl.gz\n"
     ]
    },
    {
     "name": "stderr",
     "output_type": "stream",
     "text": [
      "Loading files: 100%|██████████| 342/342 [4:17:27<00:00, 45.17s/it]\n"
     ]
    },
    {
     "data": {
      "text/html": [
       "<div>\n",
       "<style scoped>\n",
       "    .dataframe tbody tr th:only-of-type {\n",
       "        vertical-align: middle;\n",
       "    }\n",
       "\n",
       "    .dataframe tbody tr th {\n",
       "        vertical-align: top;\n",
       "    }\n",
       "\n",
       "    .dataframe thead th {\n",
       "        text-align: right;\n",
       "    }\n",
       "</style>\n",
       "<table border=\"1\" class=\"dataframe\">\n",
       "  <thead>\n",
       "    <tr style=\"text-align: right;\">\n",
       "      <th></th>\n",
       "      <th>voxel_id</th>\n",
       "      <th>train_score</th>\n",
       "      <th>test_score</th>\n",
       "      <th>layer_relative_depth</th>\n",
       "      <th>r_null_dist</th>\n",
       "      <th>r_var_dist</th>\n",
       "    </tr>\n",
       "  </thead>\n",
       "  <tbody>\n",
       "    <tr>\n",
       "      <th>9539</th>\n",
       "      <td>9539</td>\n",
       "      <td>174.142181</td>\n",
       "      <td>141.718506</td>\n",
       "      <td>98.288762</td>\n",
       "      <td>[24.27768939829548, -39.30439875662486, -26.34...</td>\n",
       "      <td>[78.70186874154024, 85.00554099213332, 106.027...</td>\n",
       "    </tr>\n",
       "  </tbody>\n",
       "</table>\n",
       "</div>"
      ],
      "text/plain": [
       "      voxel_id  train_score  test_score  layer_relative_depth  \\\n",
       "9539      9539   174.142181  141.718506             98.288762   \n",
       "\n",
       "                                            r_null_dist  \\\n",
       "9539  [24.27768939829548, -39.30439875662486, -26.34...   \n",
       "\n",
       "                                             r_var_dist  \n",
       "9539  [78.70186874154024, 85.00554099213332, 106.027...  "
      ]
     },
     "execution_count": 7,
     "metadata": {},
     "output_type": "execute_result"
    }
   ],
   "source": [
    "df = None\n",
    "n_final_files = 0\n",
    "for file in tqdm(files, total=n_files, desc='Loading files'): \n",
    "    try: \n",
    "        pkl = pd.read_pickle(file)[cols2keep]\n",
    "\n",
    "        # remove voxels not in roi\n",
    "        if 'roi_name' in pkl.columns: \n",
    "            pkl = pkl.loc[pkl.roi_name != 'none'].reset_index()\n",
    "\n",
    "        if df is None: \n",
    "            df = pkl\n",
    "        else:\n",
    "            #After the first file has been loaded, concatenate the data and add it together\n",
    "            df = pd.concat([df, pkl])\n",
    "            df = df.groupby('voxel_id').agg({\n",
    "                                            'train_score': 'sum',\n",
    "                                            'test_score': 'sum',\n",
    "                                            'layer_relative_depth': 'sum',\n",
    "                                            'r_null_dist': sum_of_arrays,\n",
    "                                            'r_var_dist': sum_of_arrays\n",
    "                                            }).reset_index()\n",
    "        n_final_files += 1\n",
    "    except:\n",
    "        print(f'could not load {file}')\n",
    "df.loc[df.voxel_id == voxel_id]"
   ]
  },
  {
   "cell_type": "code",
   "execution_count": 8,
   "id": "87075d82-da75-41a4-b47c-15293942c714",
   "metadata": {},
   "outputs": [
    {
     "data": {
      "text/html": [
       "<div>\n",
       "<style scoped>\n",
       "    .dataframe tbody tr th:only-of-type {\n",
       "        vertical-align: middle;\n",
       "    }\n",
       "\n",
       "    .dataframe tbody tr th {\n",
       "        vertical-align: top;\n",
       "    }\n",
       "\n",
       "    .dataframe thead th {\n",
       "        text-align: right;\n",
       "    }\n",
       "</style>\n",
       "<table border=\"1\" class=\"dataframe\">\n",
       "  <thead>\n",
       "    <tr style=\"text-align: right;\">\n",
       "      <th></th>\n",
       "      <th>voxel_id</th>\n",
       "      <th>train_score</th>\n",
       "      <th>test_score</th>\n",
       "      <th>layer_relative_depth</th>\n",
       "      <th>r_null_dist</th>\n",
       "      <th>r_var_dist</th>\n",
       "    </tr>\n",
       "  </thead>\n",
       "  <tbody>\n",
       "    <tr>\n",
       "      <th>9539</th>\n",
       "      <td>9539</td>\n",
       "      <td>0.509188</td>\n",
       "      <td>0.414382</td>\n",
       "      <td>0.287394</td>\n",
       "      <td>[0.0726876928092679, -0.1176778405886972, -0.0...</td>\n",
       "      <td>[0.23563433754952168, 0.2545076077608782, 0.31...</td>\n",
       "    </tr>\n",
       "  </tbody>\n",
       "</table>\n",
       "</div>"
      ],
      "text/plain": [
       "      voxel_id  train_score  test_score  layer_relative_depth  \\\n",
       "9539      9539     0.509188    0.414382              0.287394   \n",
       "\n",
       "                                            r_null_dist  \\\n",
       "9539  [0.0726876928092679, -0.1176778405886972, -0.0...   \n",
       "\n",
       "                                             r_var_dist  \n",
       "9539  [0.23563433754952168, 0.2545076077608782, 0.31...  "
      ]
     },
     "execution_count": 8,
     "metadata": {},
     "output_type": "execute_result"
    }
   ],
   "source": [
    "# Get the mean by\n",
    "columns_to_divide = ['train_score', 'test_score', 'layer_relative_depth', 'r_null_dist', 'r_var_dist']\n",
    "for col in columns_to_divide:\n",
    "    if isinstance(df[col][0], np.ndarray):\n",
    "        # Apply division to arrays\n",
    "        df[col] = df[col].apply(divide_array)\n",
    "    else:\n",
    "        # Apply division to numeric columns\n",
    "        df[col] = df[col] / n_files\n",
    "df.loc[df.voxel_id == voxel_id]"
   ]
  },
  {
   "cell_type": "code",
   "execution_count": 9,
   "id": "17ce24da-c9f2-4475-98ad-e1ae455305f9",
   "metadata": {},
   "outputs": [
    {
     "data": {
      "text/html": [
       "<div>\n",
       "<style scoped>\n",
       "    .dataframe tbody tr th:only-of-type {\n",
       "        vertical-align: middle;\n",
       "    }\n",
       "\n",
       "    .dataframe tbody tr th {\n",
       "        vertical-align: top;\n",
       "    }\n",
       "\n",
       "    .dataframe thead th {\n",
       "        text-align: right;\n",
       "    }\n",
       "</style>\n",
       "<table border=\"1\" class=\"dataframe\">\n",
       "  <thead>\n",
       "    <tr style=\"text-align: right;\">\n",
       "      <th></th>\n",
       "      <th>voxel_id</th>\n",
       "      <th>train_score</th>\n",
       "      <th>test_score</th>\n",
       "      <th>layer_relative_depth</th>\n",
       "      <th>r_null_dist</th>\n",
       "      <th>r_var_dist</th>\n",
       "      <th>lower_ci</th>\n",
       "      <th>upper_ci</th>\n",
       "    </tr>\n",
       "  </thead>\n",
       "  <tbody>\n",
       "    <tr>\n",
       "      <th>9539</th>\n",
       "      <td>9539</td>\n",
       "      <td>0.509188</td>\n",
       "      <td>0.414382</td>\n",
       "      <td>0.287394</td>\n",
       "      <td>[0.0726876928092679, -0.1176778405886972, -0.0...</td>\n",
       "      <td>[0.23563433754952168, 0.2545076077608782, 0.31...</td>\n",
       "      <td>0.093456</td>\n",
       "      <td>0.368982</td>\n",
       "    </tr>\n",
       "  </tbody>\n",
       "</table>\n",
       "</div>"
      ],
      "text/plain": [
       "      voxel_id  train_score  test_score  layer_relative_depth  \\\n",
       "9539      9539     0.509188    0.414382              0.287394   \n",
       "\n",
       "                                            r_null_dist  \\\n",
       "9539  [0.0726876928092679, -0.1176778405886972, -0.0...   \n",
       "\n",
       "                                             r_var_dist  lower_ci  upper_ci  \n",
       "9539  [0.23563433754952168, 0.2545076077608782, 0.31...  0.093456  0.368982  "
      ]
     },
     "execution_count": 9,
     "metadata": {},
     "output_type": "execute_result"
    }
   ],
   "source": [
    "df[['lower_ci', 'upper_ci']] = df['r_var_dist'].apply(lambda arr: pd.Series(compute_confidence_intervals(arr)))\n",
    "df.loc[df.voxel_id == voxel_id]"
   ]
  },
  {
   "cell_type": "code",
   "execution_count": 10,
   "id": "38862219-a024-4a0d-8496-611e69dfc086",
   "metadata": {},
   "outputs": [
    {
     "data": {
      "text/html": [
       "<div>\n",
       "<style scoped>\n",
       "    .dataframe tbody tr th:only-of-type {\n",
       "        vertical-align: middle;\n",
       "    }\n",
       "\n",
       "    .dataframe tbody tr th {\n",
       "        vertical-align: top;\n",
       "    }\n",
       "\n",
       "    .dataframe thead th {\n",
       "        text-align: right;\n",
       "    }\n",
       "</style>\n",
       "<table border=\"1\" class=\"dataframe\">\n",
       "  <thead>\n",
       "    <tr style=\"text-align: right;\">\n",
       "      <th></th>\n",
       "      <th>voxel_id</th>\n",
       "      <th>train_score</th>\n",
       "      <th>test_score</th>\n",
       "      <th>layer_relative_depth</th>\n",
       "      <th>r_null_dist</th>\n",
       "      <th>r_var_dist</th>\n",
       "      <th>lower_ci</th>\n",
       "      <th>upper_ci</th>\n",
       "      <th>p</th>\n",
       "    </tr>\n",
       "  </thead>\n",
       "  <tbody>\n",
       "    <tr>\n",
       "      <th>9539</th>\n",
       "      <td>9539</td>\n",
       "      <td>0.509188</td>\n",
       "      <td>0.414382</td>\n",
       "      <td>0.287394</td>\n",
       "      <td>[0.0726876928092679, -0.1176778405886972, -0.0...</td>\n",
       "      <td>[0.23563433754952168, 0.2545076077608782, 0.31...</td>\n",
       "      <td>0.093456</td>\n",
       "      <td>0.368982</td>\n",
       "      <td>0.0</td>\n",
       "    </tr>\n",
       "  </tbody>\n",
       "</table>\n",
       "</div>"
      ],
      "text/plain": [
       "      voxel_id  train_score  test_score  layer_relative_depth  \\\n",
       "9539      9539     0.509188    0.414382              0.287394   \n",
       "\n",
       "                                            r_null_dist  \\\n",
       "9539  [0.0726876928092679, -0.1176778405886972, -0.0...   \n",
       "\n",
       "                                             r_var_dist  lower_ci  upper_ci  \\\n",
       "9539  [0.23563433754952168, 0.2545076077608782, 0.31...  0.093456  0.368982   \n",
       "\n",
       "        p  \n",
       "9539  0.0  "
      ]
     },
     "execution_count": 10,
     "metadata": {},
     "output_type": "execute_result"
    }
   ],
   "source": [
    "df['p'] = df.apply(calculate_p_df, axis=1)\n",
    "df.loc[df.voxel_id == voxel_id]"
   ]
  },
  {
   "cell_type": "code",
   "execution_count": 11,
   "id": "d703e0cc-4960-40ad-a736-91437e7142a1",
   "metadata": {},
   "outputs": [
    {
     "name": "stdout",
     "output_type": "stream",
     "text": [
      "Saved in 00:01:47!\n"
     ]
    }
   ],
   "source": [
    "start_time = time.time()\n",
    "df.to_pickle(f'{out_path}/{model_class}.pkl.gz')\n",
    "end_time = time.time()\n",
    "elapsed = end_time - start_time\n",
    "elapsed = time.strftime(\"%H:%M:%S\", time.gmtime(elapsed))\n",
    "print(f'Saved in {elapsed}!')"
   ]
  },
  {
   "cell_type": "code",
   "execution_count": null,
   "id": "65069fc1-ac29-4e40-988d-e4891c5b2951",
   "metadata": {},
   "outputs": [],
   "source": []
  }
 ],
 "metadata": {
  "kernelspec": {
   "display_name": "deepjuice",
   "language": "python",
   "name": "deepjuice"
  },
  "language_info": {
   "codemirror_mode": {
    "name": "ipython",
    "version": 3
   },
   "file_extension": ".py",
   "mimetype": "text/x-python",
   "name": "python",
   "nbconvert_exporter": "python",
   "pygments_lexer": "ipython3",
   "version": "3.12.1"
  }
 },
 "nbformat": 4,
 "nbformat_minor": 5
}
