{
 "cells": [
  {
   "cell_type": "code",
   "execution_count": 1,
   "id": "936dac24-ad68-414a-9760-fae96194d4db",
   "metadata": {},
   "outputs": [
    {
     "name": "stderr",
     "output_type": "stream",
     "text": [
      "/home/emcmaho7/.conda/envs/deepjuice/lib/python3.12/site-packages/tqdm/auto.py:21: TqdmWarning: IProgress not found. Please update jupyter and ipywidgets. See https://ipywidgets.readthedocs.io/en/stable/user_install.html\n",
      "  from .autonotebook import tqdm as notebook_tqdm\n"
     ]
    }
   ],
   "source": [
    "import os\n",
    "from glob import glob\n",
    "from tqdm import tqdm\n",
    "from pathlib import Path\n",
    "import time\n",
    "\n",
    "import pandas as pd\n",
    "import numpy as np\n",
    "import seaborn as sns\n",
    "import matplotlib.pyplot as plt\n",
    "from src.stats import calculate_p\n",
    "from itertools import product\n",
    "\n",
    "from deepjuice.model_zoo.options import get_model_options\n",
    "model_info = get_model_options()"
   ]
  },
  {
   "cell_type": "code",
   "execution_count": 2,
   "id": "d4a7eb03-5ff7-4bfc-9a15-5a3852bf29e6",
   "metadata": {},
   "outputs": [],
   "source": [
    "figure_path = '../reports/figures/ResultsSummary'"
   ]
  },
  {
   "cell_type": "code",
   "execution_count": 3,
   "id": "931fe980-ced2-4f78-8801-beaa19e3d157",
   "metadata": {},
   "outputs": [],
   "source": [
    "rois = ['EVC', 'MT', 'EBA', 'LOC', 'pSTS', 'aSTS', 'FFA', 'PPA']\n",
    "perturbations = ['shuffled', 'no nouns', 'only verbs', 'no verbs', 'only nouns',]\n",
    "annotated_features = ['spatial expanse', 'agent distance', 'facingness',\n",
    "                      'object directedness', 'joint action', \n",
    "                      'communication', 'valence', 'arousal']\n",
    "\n",
    "def feature_naming(features): \n",
    "    feature_rename_mapping = {}\n",
    "    for orig in features:\n",
    "        revised = orig.replace('rating-', '').replace('_', ' ')\n",
    "        if 'expanse' in orig: \n",
    "            revised = 'spatial expanse'\n",
    "        elif 'object' in orig: \n",
    "            revised = 'object directedness'\n",
    "        feature_rename_mapping[orig] = revised\n",
    "    return feature_rename_mapping"
   ]
  },
  {
   "cell_type": "code",
   "execution_count": 4,
   "id": "0c0b8977-67aa-4a95-8891-4956d5a98ee4",
   "metadata": {},
   "outputs": [],
   "source": [
    "def add_perturbation(file_, df_):\n",
    "    if 'none' in file_:\n",
    "        df_['perturbation'] = 'original'\n",
    "    elif 'mask_nonverbs' in file_:\n",
    "        df_['perturbation'] = 'only verbs'\n",
    "    elif 'mask_nonnouns' in file_:\n",
    "        df_['perturbation'] = 'only nouns'\n",
    "    elif 'mask_nouns' in file_:\n",
    "        df_['perturbation'] = 'no nouns'\n",
    "    elif 'mask_verbs' in file_:\n",
    "        df_['perturbation'] = 'no verbs'\n",
    "    else:\n",
    "        df_['perturbation'] = 'shuffled'\n",
    "    return df_\n",
    "\n",
    "\n",
    "def add_model_class(file_, df_):\n",
    "    if 'Vision' in file_:\n",
    "        df_['model_class'] = 'image'\n",
    "    elif 'Video' in file_:\n",
    "        df_['model_class'] = 'video'\n",
    "    else:\n",
    "        df_['model_class'] = 'language'\n",
    "    return df_\n",
    "\n",
    "\n",
    "def add_model_type(file_, df_):\n",
    "    if 'Language' in file_:\n",
    "        df_['model_type'] = 'language'\n",
    "    else:\n",
    "        df_['model_type'] = 'vision'\n",
    "    return df_"
   ]
  },
  {
   "cell_type": "code",
   "execution_count": 5,
   "id": "71fd3223-7c53-4384-b1f8-53150bca2c30",
   "metadata": {},
   "outputs": [
    {
     "data": {
      "text/html": [
       "<div>\n",
       "<style scoped>\n",
       "    .dataframe tbody tr th:only-of-type {\n",
       "        vertical-align: middle;\n",
       "    }\n",
       "\n",
       "    .dataframe tbody tr th {\n",
       "        vertical-align: top;\n",
       "    }\n",
       "\n",
       "    .dataframe thead th {\n",
       "        text-align: right;\n",
       "    }\n",
       "</style>\n",
       "<table border=\"1\" class=\"dataframe\">\n",
       "  <thead>\n",
       "    <tr style=\"text-align: right;\">\n",
       "      <th></th>\n",
       "      <th>feature</th>\n",
       "      <th>reliability</th>\n",
       "    </tr>\n",
       "  </thead>\n",
       "  <tbody>\n",
       "    <tr>\n",
       "      <th>0</th>\n",
       "      <td>spatial expanse</td>\n",
       "      <td>0.719483</td>\n",
       "    </tr>\n",
       "    <tr>\n",
       "      <th>1</th>\n",
       "      <td>object directedness</td>\n",
       "      <td>0.928456</td>\n",
       "    </tr>\n",
       "    <tr>\n",
       "      <th>2</th>\n",
       "      <td>agent distance</td>\n",
       "      <td>0.885451</td>\n",
       "    </tr>\n",
       "    <tr>\n",
       "      <th>3</th>\n",
       "      <td>facingness</td>\n",
       "      <td>0.957481</td>\n",
       "    </tr>\n",
       "    <tr>\n",
       "      <th>4</th>\n",
       "      <td>joint action</td>\n",
       "      <td>0.768867</td>\n",
       "    </tr>\n",
       "    <tr>\n",
       "      <th>5</th>\n",
       "      <td>communication</td>\n",
       "      <td>0.762171</td>\n",
       "    </tr>\n",
       "    <tr>\n",
       "      <th>6</th>\n",
       "      <td>valence</td>\n",
       "      <td>0.747964</td>\n",
       "    </tr>\n",
       "    <tr>\n",
       "      <th>7</th>\n",
       "      <td>arousal</td>\n",
       "      <td>0.683388</td>\n",
       "    </tr>\n",
       "  </tbody>\n",
       "</table>\n",
       "</div>"
      ],
      "text/plain": [
       "               feature  reliability\n",
       "0      spatial expanse     0.719483\n",
       "1  object directedness     0.928456\n",
       "2       agent distance     0.885451\n",
       "3           facingness     0.957481\n",
       "4         joint action     0.768867\n",
       "5        communication     0.762171\n",
       "6              valence     0.747964\n",
       "7              arousal     0.683388"
      ]
     },
     "execution_count": 5,
     "metadata": {},
     "output_type": "execute_result"
    }
   ],
   "source": [
    "behavior_reliability = pd.read_csv(f'../data/interim/ReorganizeBehavior/metadata.csv')\n",
    "behavior_reliability.replace(feature_naming(behavior_reliability.feature.unique()), inplace=True)\n",
    "behavior_reliability['feature'] = pd.Categorical(behavior_reliability['feature'], categories=annotated_features, ordered=True)\n",
    "behavior_reliability"
   ]
  },
  {
   "cell_type": "markdown",
   "id": "00bf2bcb-4de8-4b61-8222-b88203136c49",
   "metadata": {},
   "source": [
    "# Perturbations"
   ]
  },
  {
   "cell_type": "markdown",
   "id": "952b3178-878c-4377-9d9a-9d89f8ff4f75",
   "metadata": {},
   "source": [
    "## Behavior"
   ]
  },
  {
   "cell_type": "code",
   "execution_count": 9,
   "id": "2736f456-e13d-4b79-ae48-d5d27d94f3c9",
   "metadata": {},
   "outputs": [],
   "source": [
    "df = []\n",
    "for file in glob('../data/interim/ModelAveraging/*LanguageBehaviorEncoding*pkl.gz'):\n",
    "    df.append(add_perturbation(file, pd.read_pickle(file)))\n",
    "df = pd.concat(df)\n",
    "df['feature'] = df['feature'].replace(feature_naming(df.feature.unique()))\n",
    "df.set_index(['perturbation', 'feature'], inplace=True)\n",
    "\n",
    "stats = []\n",
    "for perturbation in perturbations:\n",
    "    for feature in annotated_features:\n",
    "        null_diff = df.loc['original', feature]['r_null_dist'] - df.loc[perturbation, feature]['r_null_dist'] \n",
    "        diff = df.loc['original', feature]['test_score'] - df.loc[perturbation, feature]['test_score']\n",
    "        p = calculate_p(null_diff, diff, n_perm_=len(null_diff), H0_='greater')\n",
    "        stats.append({'perturbation': perturbation, 'feature': feature, 'p': p})\n",
    "stats = pd.DataFrame(stats)\n",
    "stats['perturbation'] = pd.Categorical(stats['perturbation'], categories=['original']+perturbations, ordered=True)\n",
    "stats['feature'] = pd.Categorical(stats['feature'], categories=annotated_features, ordered=True)\n",
    "stats = stats.sort_values(by=['perturbation', 'feature']).reset_index(drop=True)"
   ]
  },
  {
   "cell_type": "code",
   "execution_count": 10,
   "id": "c58e29f6-3b76-4142-ab6c-ac1f950fec1d",
   "metadata": {},
   "outputs": [],
   "source": [
    "run_summary = False\n",
    "if run_summary: \n",
    "    for perturb in ['none', 'shuffle', 'mask_nouns', 'mask_verbs', 'mask_nonnouns', 'mask_nonverbs']:\n",
    "        os.system(f'ml anaconda; conda activate deepjuice; python ../scripts/model_summary.py --model_class LanguageBehaviorEncoding --model_subpath {perturb}')\n",
    "\n",
    "df = []\n",
    "for file in glob('../data/interim/ModelSummary/*LanguageBehaviorEncoding*csv.gz'):\n",
    "    df.append(add_perturbation(file, pd.read_csv(file)))\n",
    "df = pd.concat(df)\n",
    "df = df.loc[df.set == 'test'].reset_index(drop=True)\n",
    "df['feature'] = df['feature'].replace(feature_naming(df.feature.unique()))\n",
    "df['perturbation'] = pd.Categorical(df['perturbation'], categories=['original']+perturbations, ordered=True)\n",
    "df['feature'] = pd.Categorical(df['feature'], categories=annotated_features, ordered=True)"
   ]
  },
  {
   "cell_type": "code",
   "execution_count": 11,
   "id": "a38fac24-de98-448a-8f47-e08df1bbaf3b",
   "metadata": {},
   "outputs": [],
   "source": [
    "def plot_perturbation_summary(df_, category, \n",
    "                              reliability_=None, out_file=None, stats=None,\n",
    "                              y_var='test_score', y_label='Score ($r$)', \n",
    "                              palette_name=None):\n",
    "    if palette_name is None:\n",
    "        palette = sns.color_palette(\"husl\", df_.perturbation.nunique())\n",
    "    else:\n",
    "        palette = sns.color_palette(palette_name, df_.perturbation.nunique())\n",
    "    _, ax = plt.subplots(figsize=(8.5,4))\n",
    "    color = ['gray', 'gray', 'gray']\n",
    "    sns.stripplot(x=category, y=y_var, hue='perturbation', data=df_,\n",
    "                  ax=ax, dodge=True, jitter=True, linewidth=.5,\n",
    "                  zorder=1, palette=palette)\n",
    "    sns.barplot(x=category, y=y_var, hue='perturbation', data=df_,\n",
    "                dodge=True, saturation=.25, errorbar=None,\n",
    "                legend=False, zorder=0, palette=palette)\n",
    "    if reliability_ is not None:\n",
    "        sns.pointplot(x=category, y='reliability', data=reliability_,\n",
    "                      ax=ax, linestyle=\"none\", errorbar=None, \n",
    "                      marker=\"_\", markersize=30, markeredgewidth=7,\n",
    "                      color='gray', alpha=.5, zorder=1)\n",
    "    ax.spines['top'].set_visible(False)\n",
    "    ax.spines['right'].set_visible(False)\n",
    "    ticks = ax.get_xticks()\n",
    "    labels = [label.get_text() for label in ax.get_xticklabels()]\n",
    "    ax.set_xticks(ticks)\n",
    "    ax.set_xticklabels(labels, rotation=45, ha='right')\n",
    "    ax.set_xlabel('')\n",
    "    ax.set_ylabel(y_label)\n",
    "    ax.legend(loc='center left', bbox_to_anchor=(1, 0.5),\n",
    "              ncol=1, fancybox=True)\n",
    "    plt.tight_layout()\n",
    "    if out_file is not None:\n",
    "        plt.savefig(out_file)"
   ]
  },
  {
   "cell_type": "code",
   "execution_count": 12,
   "id": "510bb3ff-b89a-49cf-9bf5-aa7666f86de3",
   "metadata": {},
   "outputs": [
    {
     "ename": "TypeError",
     "evalue": "plot_perturbation_summary() got an unexpected keyword argument 'stats_ypos'",
     "output_type": "error",
     "traceback": [
      "\u001b[0;31m---------------------------------------------------------------------------\u001b[0m",
      "\u001b[0;31mTypeError\u001b[0m                                 Traceback (most recent call last)",
      "Cell \u001b[0;32mIn[12], line 3\u001b[0m\n\u001b[1;32m      1\u001b[0m y_pos \u001b[38;5;241m=\u001b[39m {perturbation: (i_perturb\u001b[38;5;241m+\u001b[39m\u001b[38;5;241m1\u001b[39m)\u001b[38;5;241m*\u001b[39m\u001b[38;5;241m-\u001b[39m\u001b[38;5;241m0.02\u001b[39m \n\u001b[1;32m      2\u001b[0m          \u001b[38;5;28;01mfor\u001b[39;00m i_perturb, perturbation \u001b[38;5;129;01min\u001b[39;00m \u001b[38;5;28menumerate\u001b[39m(perturbations)}\n\u001b[0;32m----> 3\u001b[0m plot_perturbation_summary(df, \u001b[38;5;124m'\u001b[39m\u001b[38;5;124mfeature\u001b[39m\u001b[38;5;124m'\u001b[39m, reliability_\u001b[38;5;241m=\u001b[39mbehavior_reliability,\n\u001b[1;32m      4\u001b[0m                           stats\u001b[38;5;241m=\u001b[39mstats,\n\u001b[1;32m      5\u001b[0m                           y_var\u001b[38;5;241m=\u001b[39m\u001b[38;5;124m'\u001b[39m\u001b[38;5;124mscore\u001b[39m\u001b[38;5;124m'\u001b[39m, stats_ypos\u001b[38;5;241m=\u001b[39my_pos,\n\u001b[1;32m      6\u001b[0m                           out_file\u001b[38;5;241m=\u001b[39m\u001b[38;5;124m'\u001b[39m\u001b[38;5;124m../reports/figures/ResultsSummary/behavior_pertubations.pdf\u001b[39m\u001b[38;5;124m'\u001b[39m)\n",
      "\u001b[0;31mTypeError\u001b[0m: plot_perturbation_summary() got an unexpected keyword argument 'stats_ypos'"
     ]
    }
   ],
   "source": [
    "y_pos = {perturbation: (i_perturb+1)*-0.02 \n",
    "         for i_perturb, perturbation in enumerate(perturbations)}\n",
    "plot_perturbation_summary(df, 'feature', reliability_=behavior_reliability,\n",
    "                          stats=stats,\n",
    "                          y_var='score', stats_ypos=y_pos,\n",
    "                          out_file='../reports/figures/ResultsSummary/behavior_pertubations.pdf')"
   ]
  },
  {
   "cell_type": "markdown",
   "id": "0cba1a81-5270-4a42-89dc-20d93809cd82",
   "metadata": {},
   "source": [
    "## Neural"
   ]
  },
  {
   "cell_type": "code",
   "execution_count": null,
   "id": "e55cc237-7959-4763-a57e-ff592663714d",
   "metadata": {},
   "outputs": [],
   "source": [
    "run_averaging = False\n",
    "if run_averaging: \n",
    "    for perturb in ['none', 'shuffle', 'mask_nouns', 'mask_verbs', 'mask_nonnouns', 'mask_nonverbs']:\n",
    "        os.system(f'ml anaconda; conda activate deepjuice; python ../scripts/model_averaging.py --model_class LanguageNeuralEncoding --model_subpath {perturb}')\n",
    "\n",
    "df = []\n",
    "for file in glob('../data/interim/ModelAveraging/*LanguageNeuralEncoding*pkl.gz'):\n",
    "    df.append(add_perturbation(file, pd.read_pickle(file)))\n",
    "df = pd.concat(df)\n",
    "\n",
    "neural_metadata = pd.read_csv('../data/interim/ReorganziefMRI/metadata.csv')\n",
    "df = df.merge(neural_metadata, on='voxel_id')"
   ]
  },
  {
   "cell_type": "code",
   "execution_count": null,
   "id": "aa4a28d7-e3d9-40f0-9cf9-576a295e37f1",
   "metadata": {},
   "outputs": [],
   "source": [
    "def mean_of_arrays(series):\n",
    "    # Stack arrays vertically and compute mean along the first axis (rows)\n",
    "    return np.nanmean(np.vstack(series),axis=0)\n",
    "\n",
    "stream_df = df.groupby('stream_name').agg({'test_score': 'mean', \n",
    "                                            'train_score': 'mean',\n",
    "                                            'layer_relative_depth': 'mean',\n",
    "                                            'reliability': 'mean',\n",
    "                                            # 'r_null_dist': mean_of_arrays,\n",
    "                                          }).reset_index()"
   ]
  },
  {
   "cell_type": "code",
   "execution_count": null,
   "id": "7bbbb148-cd1f-4cbd-935d-cc9055175918",
   "metadata": {
    "tags": []
   },
   "outputs": [],
   "source": [
    "# stats = []\n",
    "# for roi in rois:\n",
    "#     for feature in annotated_features:\n",
    "#         null_diff = df.loc['original', roi]['r_null_dist'] - df.loc[perturbation, roi]['r_null_dist'] \n",
    "#         diff = df.loc['original', roi]['test_score'] - df.loc[perturbation, roi]['test_score']\n",
    "#         p = calculate_p(null_diff, diff, n_perm_=len(null_diff), H0_='greater')\n",
    "#         stats.append({'perturbation': perturbation, 'roi_name': roi, 'p': p})\n",
    "# stats = pd.DataFrame(stats)\n",
    "# stats['perturbation'] = pd.Categorical(stats['perturbation'], categories=['original']+perturbations, ordered=True)\n",
    "# stats['roi_name'] = pd.Categorical(stats['roi_name'], categories=rois, ordered=True)\n",
    "# stats.sort_values(by=['roi_name', 'perturbation'], inplace=True)\n",
    "# stats.set_index(['roi'], inplace=True)\n",
    "\n",
    "# stats['sig_text'] = 'none'\n",
    "# stats.loc[(0.05 > stats.p) & (stats.p >= 0.01), 'sig_text'] = '*'\n",
    "# stats.loc[(0.01 > stats.p) & (stats.p >= 0.001), 'sig_text'] = '**'\n",
    "# stats.loc[(0.001 > stats.p), 'sig_text'] = '***'"
   ]
  },
  {
   "cell_type": "code",
   "execution_count": null,
   "id": "f975cc70-9b42-4659-82ee-2c53120cbbb6",
   "metadata": {
    "tags": []
   },
   "outputs": [],
   "source": [
    "run_summary = False\n",
    "if run_summary: \n",
    "    for perturb in ['none', 'shuffle', 'mask_nouns', 'mask_verbs', 'mask_nonnouns', 'mask_nonverbs']:\n",
    "        os.system(f'ml anaconda; conda activate deepjuice; python ../scripts/model_summary.py --model_class LanguageNeuralEncoding --model_subpath {perturb}')\n",
    "\n",
    "df = []\n",
    "for file in glob('../data/interim/ModelSummary/*LanguageNeuralEncoding*csv.gz'):\n",
    "    df.append(add_perturbation(file, pd.read_csv(file)))\n",
    "df = pd.concat(df)\n",
    "df = df.loc[df.set == 'test'].reset_index(drop=True)\n",
    "df['perturbation'] = pd.Categorical(df['perturbation'], categories=['original']+perturbations, ordered=True)\n",
    "df['roi_name'] = pd.Categorical(df['roi_name'], categories=rois, ordered=True)"
   ]
  },
  {
   "cell_type": "code",
   "execution_count": null,
   "id": "d764318d-9f67-4f97-9a35-ad7224fab77a",
   "metadata": {},
   "outputs": [],
   "source": [
    "def plot_neural_perturbation_summary(df_, category, \n",
    "                                      reliability_=None, out_file=None, stats=None,\n",
    "                                      y_var='test_score', y_label='Score ($r$)', \n",
    "                                      palette_name=None, stats_ypos=None):\n",
    "    if palette_name is None:\n",
    "        palette = sns.color_palette(\"Paired\", df_.perturbation.nunique())\n",
    "    else:\n",
    "        palette = sns.color_palette(palette_name, df_.perturbation.nunique())\n",
    "    _, ax = plt.subplots(figsize=(8.5,4))\n",
    "    color = ['gray', 'gray', 'gray']\n",
    "    sns.stripplot(x=category, y=y_var, hue='perturbation', data=df_,\n",
    "                  ax=ax, dodge=True, jitter=True, linewidth=.5,\n",
    "                  zorder=1, palette=palette)\n",
    "    bars = sns.barplot(x=category, y=y_var, hue='perturbation', data=df_,\n",
    "                        dodge=True, errorbar=None, saturation=.25,\n",
    "                        legend=False, zorder=0, palette=palette)\n",
    "    \n",
    "    if stats is not None: \n",
    "        # Adding significance lines    \n",
    "        original_container = bars.containers[0]\n",
    "        containers = bars.containers[1:]\n",
    "        \n",
    "        counter = -1\n",
    "        for i_container, container in enumerate(containers):\n",
    "            for i_bar, bar in enumerate(container.patches):\n",
    "                counter += 1\n",
    "                if stats.iloc[counter]['p'] < 0.05: \n",
    "                    x_min = original_container.patches[i_bar].get_x() + bar.get_width() / 2\n",
    "                    x_max = bar.get_x() + bar.get_width() / 2\n",
    "                    yval = stats_ypos[stats.iloc[counter]['perturbation']]\n",
    "                    plt.hlines(y=yval, xmin=x_min, xmax=x_max,\n",
    "                               color=bar.get_facecolor(), linewidth=2)\n",
    "                    \n",
    "    if reliability_ is not None:\n",
    "        sns.pointplot(x=category, y='reliability', data=reliability_,\n",
    "                      ax=ax, linestyle=\"none\", errorbar=None, \n",
    "                      marker=\"_\", markersize=30, markeredgewidth=5,\n",
    "                      color='gray', alpha=.5, zorder=1)\n",
    "\n",
    "    ax.spines['top'].set_visible(False)\n",
    "    ax.spines['right'].set_visible(False)\n",
    "    ticks = ax.get_xticks()\n",
    "    labels = [label.get_text() for label in ax.get_xticklabels()]\n",
    "    ax.set_xticks(ticks)\n",
    "    ax.set_xlabel('')\n",
    "    ax.set_ylabel(y_label)\n",
    "    ax.legend(loc='center right', bbox_to_anchor=(1, 0.5),\n",
    "              ncol=1, fancybox=True)\n",
    "    if out_file is not None:\n",
    "        plt.tight_layout()\n",
    "        plt.savefig(out_file)"
   ]
  },
  {
   "cell_type": "code",
   "execution_count": null,
   "id": "1cbd3730-b247-4db6-b498-87a7ad421bb9",
   "metadata": {},
   "outputs": [],
   "source": [
    "plot_neural_perturbation_summary(df, 'roi_name', \n",
    "                          y_var='score',\n",
    "                          out_file=f'{figure_path}/neural_pertubations.pdf')"
   ]
  },
  {
   "cell_type": "markdown",
   "id": "69133d65-24ef-4a64-b487-4059b9866e6f",
   "metadata": {},
   "source": [
    "# Image vs Video vs Language"
   ]
  },
  {
   "cell_type": "markdown",
   "id": "cfcf4eb2-3538-4f7b-b257-2c1947062fc7",
   "metadata": {},
   "source": [
    "## Behavior"
   ]
  },
  {
   "cell_type": "code",
   "execution_count": null,
   "id": "ebcf40f5-dfb5-475d-8adc-df42b4fd723c",
   "metadata": {},
   "outputs": [],
   "source": [
    "def plot_combined_behavior_summary(df_, reliability_, hue='model_class', out_file=None):\n",
    "    anchor = (.7, 1.2)\n",
    "    if hue == 'model_class':\n",
    "        sns.set_palette(['tab:cyan', 'tab:purple'])\n",
    "        anchor = (.7, 1.2)\n",
    "    elif hue == 'model_type':\n",
    "        sns.set_palette(['tab:cyan', 'tab:purple'])\n",
    "        anchor = (.65, 1.2)\n",
    "    elif hue == 'architecture_type':\n",
    "        sns.set_palette(['tab:orange', 'tab:green'])\n",
    "    elif hue == 'task_cluster':\n",
    "        sns.set_palette(['tab:red', 'gold'])\n",
    "    elif hue == 'modality':\n",
    "        sns.set_palette(['tab:pink', 'skyblue'])\n",
    "    _, ax = plt.subplots(figsize=(8.5,4.25))\n",
    "    \n",
    "    if df_[hue].nunique() == 3:\n",
    "        dodge = 0.55\n",
    "        markersize = 14\n",
    "    else:\n",
    "        dodge = 0.4\n",
    "        markersize = 18\n",
    "\n",
    "    sns.stripplot(x='feature', y='score', hue=hue, data=df_,\n",
    "                  ax=ax, dodge=True, jitter=True, linewidth=.5, alpha=0.25, zorder=0, legend=False)\n",
    "    sns.pointplot(x='feature', y='score', hue=hue, data=df_,\n",
    "                  dodge=dodge, linestyle=\"none\", errorbar=None,\n",
    "                  marker=\"_\", markersize=markersize, markeredgewidth=3, zorder=1)\n",
    "    sns.pointplot(x='feature', y='reliability', data=reliability_,\n",
    "                  ax=ax, linestyle=\"none\", errorbar=None, \n",
    "                  marker=\"_\", markersize=30, markeredgewidth=5,\n",
    "                  color='gray', alpha=.5, zorder=1)\n",
    "    \n",
    "    ax.spines['top'].set_visible(False)\n",
    "    ax.spines['right'].set_visible(False)\n",
    "    ticks = ax.get_xticks()\n",
    "    labels = [label.get_text() for label in ax.get_xticklabels()]\n",
    "    ax.set_xticks(ticks)\n",
    "    ax.set_xticklabels(labels, rotation=45, ha='right')\n",
    "    ax.set_xlabel('Behavioral ratings')\n",
    "    ax.set_ylabel('Score ($r$)')\n",
    "    ax.legend(loc='upper right', bbox_to_anchor=anchor,\n",
    "              ncol=df_[hue].nunique(), fancybox=True)\n",
    "    plt.tight_layout()\n",
    "    if out_file is not None:\n",
    "        plt.savefig(out_file)"
   ]
  },
  {
   "cell_type": "code",
   "execution_count": null,
   "id": "9748c0c3-980f-4a98-a1f3-d3151f791206",
   "metadata": {},
   "outputs": [],
   "source": [
    "top = '../data/interim/ModelSummary/'\n",
    "files = [f'{top}/LanguageBehaviorEncoding_none.csv.gz']\n",
    "files += [f'{top}/VisionBehaviorEncoding_grouped_average.csv.gz']\n",
    "files += [f'{top}/VideoBehaviorEncoding_None.csv.gz']\n",
    "df = []\n",
    "for file in files:\n",
    "    cdf = pd.read_csv(file)\n",
    "    add_model_class(file, cdf)\n",
    "    add_model_type(file, cdf)\n",
    "    df.append(cdf)\n",
    "df = pd.concat(df)\n",
    "df.replace(feature_naming(df.feature.unique()), inplace=True)\n",
    "df['model_class'] = pd.Categorical(df['model_class'], ordered=True, \n",
    "                                   categories=['image', 'video', 'language'])\n",
    "df['model_type'] = pd.Categorical(df['model_type'], ordered=True, \n",
    "                                   categories=['vision', 'language'])\n",
    "df['feature'] = pd.Categorical(df['feature'], ordered=True, \n",
    "                                   categories=annotated_features)\n",
    "df = df.loc[df.set == 'test'].reset_index(drop=True)"
   ]
  },
  {
   "cell_type": "code",
   "execution_count": null,
   "id": "006a4562-1dcb-4993-8b19-9249668e2eb8",
   "metadata": {},
   "outputs": [],
   "source": [
    "plot_combined_behavior_summary(df, behavior_reliability,\n",
    "                               out_file=f'{figure_path}/behavior_summary.pdf')"
   ]
  },
  {
   "cell_type": "code",
   "execution_count": null,
   "id": "06c64bb4-e52d-4567-92a2-f50272ad2ffc",
   "metadata": {},
   "outputs": [],
   "source": [
    "plot_combined_behavior_summary(df, behavior_reliability, hue='model_type',\n",
    "                               out_file=f'{figure_path}/behavior_vision-language.pdf')"
   ]
  },
  {
   "cell_type": "code",
   "execution_count": null,
   "id": "f542ee45-481f-4812-b3ba-9c5f2471468d",
   "metadata": {},
   "outputs": [],
   "source": [
    "image_df = df.loc[df.model_class == 'image'].reset_index(drop=True).merge(model_info, on='model_uid')"
   ]
  },
  {
   "cell_type": "code",
   "execution_count": null,
   "id": "a08d0d17-fb36-4f44-aff7-d54f4587f665",
   "metadata": {},
   "outputs": [],
   "source": [
    "conv_meta_max = image_df[image_df['architecture_type'].isin(['Convolutional', 'Transformer'])]\n",
    "mapping = {i: i.lower() for i in ['Convolutional', 'Transformer']}\n",
    "conv_meta_max.replace(mapping, inplace=True)\n",
    "conv_meta_max['architecture_type'] = pd.Categorical(conv_meta_max['architecture_type'], \n",
    "                                                    categories=mapping.values(), ordered=True)\n",
    "plot_combined_behavior_summary(conv_meta_max, behavior_reliability,\n",
    "                               hue='architecture_type',\n",
    "                               out_file=f'{figure_path}/behavior_conv-transformer.pdf')"
   ]
  },
  {
   "cell_type": "code",
   "execution_count": null,
   "id": "42ab8ed5-b994-4d6e-bbd2-0abc2c76627b",
   "metadata": {},
   "outputs": [],
   "source": [
    "categories = ['Supervised', 'Self-Supervised']\n",
    "\n",
    "resnet_info = model_info[(model_info['model_source'].isin(['torchvision', 'vissl', 'dino', 'timm'])) & (model_info['architecture'].str.contains('resnet50'))]\n",
    "resnet_df = image_df[image_df['model_uid'].isin(resnet_info.model_uid)]\n",
    "sup_meta_max = resnet_df[resnet_df['task_cluster'].isin(categories)]\n",
    "mapping = {i: i.lower() for i in categories}\n",
    "sup_meta_max.replace(mapping, inplace=True)\n",
    "sup_meta_max['task_cluster'] = pd.Categorical(sup_meta_max['task_cluster'], \n",
    "                                                    categories=mapping.values(), ordered=True)\n",
    "\n",
    "plot_combined_behavior_summary(sup_meta_max, behavior_reliability,\n",
    "                               hue='task_cluster',\n",
    "                               out_file=f'{figure_path}/behavior_sup-selfsup.pdf')"
   ]
  },
  {
   "cell_type": "code",
   "execution_count": null,
   "id": "8e530a46-16a7-420a-a990-0a7a91b9802c",
   "metadata": {},
   "outputs": [],
   "source": [
    "categories = ['Vision', 'Vision-Language']\n",
    "vis_lang_meta_max = image_df.loc[(image_df['task_cluster']=='Supervised') & (image_df['modality']==categories[0]) | (image_df['modality']==categories[1])]\n",
    "mapping = {i: i.lower() for i in categories}\n",
    "vis_lang_meta_max.replace(mapping, inplace=True)\n",
    "vis_lang_meta_max['modality'] = pd.Categorical(vis_lang_meta_max['modality'], \n",
    "                                            categories=mapping.values(), ordered=True)\n",
    "\n",
    "plot_combined_behavior_summary(vis_lang_meta_max, behavior_reliability, hue='modality',\n",
    "                               out_file=f'{figure_path}/behavior_vision-vislanguage.pdf')"
   ]
  },
  {
   "cell_type": "markdown",
   "id": "c5d389e1-116f-42f2-a9ec-5dd2641142c5",
   "metadata": {},
   "source": [
    "## Neural"
   ]
  },
  {
   "cell_type": "code",
   "execution_count": null,
   "id": "cd298ad9-6f79-4ea5-9aa6-bd2be0d0d33e",
   "metadata": {},
   "outputs": [],
   "source": [
    "top = '../data/interim/ModelSummary/'\n",
    "files = [f'{top}/LanguageNeuralEncoding_none.csv.gz']\n",
    "files += [f'{top}/VisionNeuralEncoding_grouped_average.csv.gz']\n",
    "files += [f'{top}/VideoNeuralEncoding_None.csv.gz']\n",
    "df = []\n",
    "for file in files:\n",
    "    cdf = pd.read_csv(file)\n",
    "    add_model_class(file, cdf)\n",
    "    add_model_type(file, cdf)\n",
    "    df.append(cdf)\n",
    "df = pd.concat(df)\n",
    "df['model_class'] = pd.Categorical(df['model_class'], ordered=True, \n",
    "                                   categories=['image', 'video', 'language'])\n",
    "df['model_type'] = pd.Categorical(df['model_type'], ordered=True, \n",
    "                                   categories=['vision', 'language'])\n",
    "df = df.loc[df.set == 'test'].reset_index(drop=True)"
   ]
  },
  {
   "cell_type": "code",
   "execution_count": null,
   "id": "5c3eb10f-8ae3-4432-bb84-c85fa6d8043c",
   "metadata": {},
   "outputs": [],
   "source": [
    "def plot_combined_neural(df_, hue='model_class', out_file=None):\n",
    "    anchor = (1, 1.2)\n",
    "    if hue == 'model_class':\n",
    "        sns.set_palette(['tab:cyan', 'tab:purple'])\n",
    "        anchor = (1, 1.2)\n",
    "    elif hue == 'model_type':\n",
    "        sns.set_palette(['tab:cyan', 'tab:purple'])\n",
    "    elif hue == 'architecture_type':\n",
    "        sns.set_palette(['tab:orange', 'tab:green'])\n",
    "    elif hue == 'task_cluster':\n",
    "        sns.set_palette(['tab:red', 'gold'])\n",
    "    elif hue == 'modality':\n",
    "        sns.set_palette(['tab:pink', 'skyblue'])\n",
    "    regions = ['Lateral ROIs', 'Ventral ROIs']\n",
    "    \n",
    "    if df_[hue].nunique() == 3:\n",
    "        dodge = 0.55\n",
    "        markersize = 14\n",
    "    else:\n",
    "        dodge = 0.4\n",
    "        markersize = 18\n",
    "\n",
    "    _, axes = plt.subplots(1, 2, figsize=(6.5, 3.5), gridspec_kw={'width_ratios': [3, 1]},\n",
    "                          sharey=True)\n",
    "    for i_ax, (ax, cur_rois) in enumerate(zip(axes,\n",
    "                                              [['EVC', 'MT', 'EBA', 'LOC', 'pSTS', 'aSTS'],\n",
    "                                               ['FFA', 'PPA']])):\n",
    "        legend = True if i_ax == 0 else False\n",
    "        roi_positions = {roi: i for i, roi in enumerate(cur_rois)}\n",
    "\n",
    "        cur_scores = df_[df_.roi_name.isin(cur_rois)]\n",
    "        cur_scores['roi_name'] = pd.Categorical(cur_scores['roi_name'],\n",
    "                                                categories=cur_rois, ordered=True)\n",
    "        sns.stripplot(x='roi_name', y='score', hue=hue, data=cur_scores,\n",
    "                      ax=ax, dodge=True, jitter=True, linewidth=.5,\n",
    "                      alpha=0.25, zorder=0, legend=False)\n",
    "        sns.pointplot(x='roi_name', y='score', hue=hue,\n",
    "                      data=cur_scores, legend=legend,\n",
    "                      ax=ax, dodge=dodge, linestyle=\"none\", errorbar=None,\n",
    "                      marker=\"_\", markersize=markersize,\n",
    "                      markeredgewidth=3, zorder=1)\n",
    "        sns.pointplot(x='roi_name', y='reliability', data=cur_scores,\n",
    "              linestyle=\"none\", errorbar=None, color='gray',\n",
    "              marker=\"_\", markersize=45, markeredgewidth=5,\n",
    "              alpha=.5, zorder=1, ax=ax)\n",
    "\n",
    "        ax.spines['top'].set_visible(False)\n",
    "        ax.spines['right'].set_visible(False)\n",
    "        ax.set_xlabel(regions[i_ax])\n",
    "        if i_ax == 0: \n",
    "            ax.set_ylabel('Score ($r$)')\n",
    "            ax.legend(loc='upper right', bbox_to_anchor=anchor,\n",
    "                      ncol=df_[hue].nunique(), fancybox=True)\n",
    "    plt.tight_layout()\n",
    "    if out_file is not None:\n",
    "        plt.savefig(out_file)"
   ]
  },
  {
   "cell_type": "code",
   "execution_count": null,
   "id": "1b9f1ef9-239a-4297-a91b-ed18e7a0a12d",
   "metadata": {},
   "outputs": [],
   "source": [
    "plot_combined_neural(df, hue='model_class',\n",
    "                     out_file=f'{figure_path}/neural_summary.pdf')"
   ]
  },
  {
   "cell_type": "code",
   "execution_count": null,
   "id": "db9dd37f-e4c4-4fa9-8ed6-07b22a6ee83d",
   "metadata": {},
   "outputs": [],
   "source": [
    "plot_combined_neural(df, hue='model_type',\n",
    "                     out_file=f'{figure_path}/neural_vision-language.pdf')"
   ]
  },
  {
   "cell_type": "code",
   "execution_count": null,
   "id": "ab4b2d54-7089-4800-b6a2-077bb4cbc0e1",
   "metadata": {},
   "outputs": [],
   "source": [
    "image_df = df.loc[df.model_class == 'image'].reset_index(drop=True).merge(model_info, on='model_uid')"
   ]
  },
  {
   "cell_type": "code",
   "execution_count": null,
   "id": "a61bdef0-9360-4957-a0bb-e4166d48fbda",
   "metadata": {},
   "outputs": [],
   "source": [
    "categories = ['Convolutional', 'Transformer']\n",
    "hue = 'architecture_type' \n",
    "\n",
    "conv_meta_max = image_df[image_df[hue].isin(categories)]\n",
    "mapping = {i: i.lower() for i in categories}\n",
    "conv_meta_max.replace(mapping, inplace=True)\n",
    "conv_meta_max[hue] = pd.Categorical(conv_meta_max[hue],\n",
    "                                    categories=mapping.values(), ordered=True)\n",
    "plot_combined_neural(conv_meta_max, hue=hue,\n",
    "                     out_file=f'{figure_path}/neural_conv-transformer.pdf')"
   ]
  },
  {
   "cell_type": "code",
   "execution_count": null,
   "id": "2f5568f6-0cda-4888-85ed-44e3973d66f9",
   "metadata": {},
   "outputs": [],
   "source": [
    "categories = ['Supervised', 'Self-Supervised']\n",
    "hue = 'task_cluster' \n",
    "\n",
    "resnet_info = model_info[(model_info['model_source'].isin(['torchvision', 'vissl', 'dino', 'timm'])) & (model_info['architecture'].str.contains('resnet50'))]\n",
    "resnet_df = image_df[image_df['model_uid'].isin(resnet_info.model_uid)]\n",
    "sup_meta_max = resnet_df[resnet_df[hue].isin(categories)]\n",
    "mapping = {i: i.lower() for i in categories}\n",
    "sup_meta_max.replace(mapping, inplace=True)\n",
    "sup_meta_max[hue] = pd.Categorical(sup_meta_max[hue],\n",
    "                                   categories=mapping.values(), ordered=True)\n",
    "\n",
    "plot_combined_neural(sup_meta_max, hue=hue,\n",
    "                     out_file=f'{figure_path}/neural_sup-selfsup.pdf')"
   ]
  },
  {
   "cell_type": "code",
   "execution_count": null,
   "id": "923e6016-409c-4044-aa5b-59a0ad834734",
   "metadata": {},
   "outputs": [],
   "source": [
    "categories = ['Vision', 'Vision-Language']\n",
    "hue = 'modality' \n",
    "\n",
    "vis_lang_meta_max = image_df.loc[(image_df['task_cluster']=='Supervised') & (image_df[hue]==categories[0]) | (image_df[hue]==categories[1])]\n",
    "mapping = {i: i.lower() for i in categories}\n",
    "vis_lang_meta_max.replace(mapping, inplace=True)\n",
    "vis_lang_meta_max[hue] = pd.Categorical(vis_lang_meta_max[hue], \n",
    "                                            categories=mapping.values(), ordered=True)\n",
    "\n",
    "plot_combined_neural(vis_lang_meta_max, hue=hue,\n",
    "                     out_file=f'{figure_path}/neural_vision-vislanguage.pdf')"
   ]
  },
  {
   "cell_type": "code",
   "execution_count": null,
   "id": "a8e1e83d-b260-4014-999b-002a2e24e000",
   "metadata": {},
   "outputs": [],
   "source": []
  }
 ],
 "metadata": {
  "kernelspec": {
   "display_name": "deepjuice",
   "language": "python",
   "name": "deepjuice"
  },
  "language_info": {
   "codemirror_mode": {
    "name": "ipython",
    "version": 3
   },
   "file_extension": ".py",
   "mimetype": "text/x-python",
   "name": "python",
   "nbconvert_exporter": "python",
   "pygments_lexer": "ipython3",
   "version": "3.12.1"
  }
 },
 "nbformat": 4,
 "nbformat_minor": 5
}
