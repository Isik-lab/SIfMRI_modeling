{
 "cells": [
  {
   "cell_type": "code",
   "execution_count": 1,
   "id": "6902208b-74ec-49f3-b40b-59d0bea85b51",
   "metadata": {},
   "outputs": [],
   "source": [
    "import re\n",
    "from glob import glob\n",
    "import os\n",
    "from pathlib import Path\n",
    "\n",
    "import pandas as pd\n",
    "import numpy as np\n",
    "from scipy.spatial.distance import pdist, squareform\n",
    "import matplotlib.pyplot as plt\n",
    "import seaborn as sns"
   ]
  },
  {
   "cell_type": "code",
   "execution_count": 2,
   "id": "883b132f-b839-4500-b8bf-da1e3bc1e377",
   "metadata": {},
   "outputs": [],
   "source": [
    "pd.set_option('display.max_columns', None)\n",
    "pd.set_option('display.max_rows', None)"
   ]
  },
  {
   "cell_type": "code",
   "execution_count": 3,
   "id": "f08991d1-6c12-49d3-97fe-85908d032f86",
   "metadata": {},
   "outputs": [],
   "source": [
    "top_dir = '/scratch4/lisik3/emcmaho7/SIfMRI_modeling'\n",
    "figures_dir = f'{top_dir}/reports/figures'\n",
    "interim_dir = f'{top_dir}/data/interim'\n",
    "raw_dir = f'{top_dir}/data/raw'\n",
    "remote_caption_path = '/projects/SI_fmri/SIfMRI_modeling/data/raw/sentence_captions'\n",
    "remote_annotation_path = '/projects/SI_fmri/SIfMRI_analysis/data/raw/annotations'\n",
    "\n",
    "caption_path = f'{raw_dir}/sentence_captions'\n",
    "Path(caption_path).mkdir(exist_ok=True, parents=True)\n",
    "\n",
    "annotation_path = f'{raw_dir}/annotations'\n",
    "Path(annotation_path).mkdir(exist_ok=True, parents=True)\n",
    "\n",
    "out_path = f'{interim_dir}/CaptionData'\n",
    "Path(out_path).mkdir(exist_ok=True, parents=True)"
   ]
  },
  {
   "cell_type": "code",
   "execution_count": 4,
   "id": "562c65cb-80a9-4aaa-a298-5e6e8df6b564",
   "metadata": {},
   "outputs": [],
   "source": [
    "catch_trials = ['flickr-0-5-7-5-4-0-7-0-2605754070_54.mp4', 'yt-dfOVWymr76U_103.mp4']"
   ]
  },
  {
   "cell_type": "code",
   "execution_count": 20,
   "id": "a919ad49-776a-4c02-9a13-5adcc5669128",
   "metadata": {},
   "outputs": [
    {
     "name": "stdin",
     "output_type": "stream",
     "text": [
      "Enter your Personal Access Token:  ········\n"
     ]
    },
    {
     "name": "stdout",
     "output_type": "stream",
     "text": [
      "annotation_sub-5c3f0188ba40520001d33fc2_condition-01_20230831142811.csv\n",
      "annotation_sub-5ca216d52a83ec00175c4eaf_condition-00_20230831142730.csv\n",
      "annotation_sub-5cf15c363858150001955011_condition-01_20230831142825.csv\n",
      "annotation_sub-590819e205fbfc000147720c_condition-01_20230831142814.csv\n",
      "annotation_sub-59ad56559fdf6c0001cba91c_condition-01_20230831142823.csv\n",
      "annotation_sub-59d4e426c618a50001cf5cab_condition-00_20230831142749.csv\n",
      "annotation_sub-5a4d194c87c6f8000137d680_condition-00_20230831142734.csv\n",
      "annotation_sub-5b5a4c642696a70001ee1722_condition-00_20230831142739.csv\n",
      "annotation_sub-5ce7046a9390750017b64ac6_condition-01_20230831142848.csv\n",
      "annotation_sub-5cf517728951b400019b1a24_condition-02_20230831142856.csv\n",
      "annotation_sub-5cf656e90acc8f000147f643_condition-06_20230831150330.csv\n",
      "annotation_sub-5d3112122401af0018ba2919_condition-01_20230831142821.csv\n",
      "annotation_sub-5d5ad9a38fd0020001d2403f_condition-01_20230831142845.csv\n",
      "annotation_sub-5ea5d14393216f4545bb2368_condition-01_20230831142839.csv\n",
      "annotation_sub-5ebb26c872b18c0f47c14bb4_condition-03_20230831143058.csv\n",
      "annotation_sub-5efa66c030577f1782e0311a_condition-08_20230831150336.csv\n",
      "annotation_sub-5f1e1924c9f24d7af7632e2e_condition-01_20230831142833.csv\n",
      "annotation_sub-5f4380bb7ca9ca5ca407fc04_condition-04_20230831143231.csv\n",
      "annotation_sub-5f7886db76d26207cd969fe6_condition-22_20230831140804.csv\n",
      "annotation_sub-5f86e6019a0cbc03afd4ac20_condition-07_20230831150334.csv\n",
      "annotation_sub-603cfe49880ceeb4bf3aa72e_condition-10_20230831150340.csv\n",
      "annotation_sub-606194ac4588bc4748d83964_condition-01_20230831142848.csv\n",
      "annotation_sub-60b7ae30dc4cd72192734427_condition-01_20230831142837.csv\n",
      "annotation_sub-60bbe5dac754ff6671006e16_condition-01_20230831142842.csv\n",
      "annotation_sub-6124ea99728014c37c9635c7_condition-00_20230831142735.csv\n",
      "annotation_sub-61587f16e25d1946774ea99a_condition-00_20230831142754.csv\n",
      "annotation_sub-62861bcc5f0edf6340c914df_condition-09_20230831150339.csv\n",
      "annotation_sub-62d18a8949920240954954c4_condition-01_20230831142808.csv\n",
      "annotation_sub-630be3605287a0f49b87c709_condition-05_20230831143613.csv\n",
      "annotation_sub-6384e8f79ddf2df1432db0e8_condition-05_20230831143522.csv\n",
      "annotation_sub-646a80bdba313585345b567a_condition-00_20230831142753.csv\n",
      "annotation_sub-5671927473f58b000d664293_condition-18_20230901110503.csv\n",
      "annotation_sub-5b773e58a1c0710001a0ebad_condition-16_20230901105530.csv\n",
      "annotation_sub-5bfec39e571cea00018aa783_condition-11_20230901103927.csv\n",
      "annotation_sub-5c576553fcbb880001fd0acd_condition-21_20230901112100.csv\n",
      "annotation_sub-5e3842b92fdfd2000fc286a4_condition-22_20230901112246.csv\n",
      "annotation_sub-5e64e1d3ffed3225090e814d_condition-14_20230901104433.csv\n",
      "annotation_sub-5e93138a7d69590115fa1e21_condition-12_20230901104009.csv\n",
      "annotation_sub-5f516a44067fba1b4c562a55_condition-20_20230901112032.csv\n",
      "annotation_sub-5f904410ef86570b6eeebcb6_condition-13_20230901104158.csv\n",
      "annotation_sub-609140cea1442672dd2141d7_condition-19_20230901111735.csv\n",
      "annotation_sub-63af557b3d4f219c3226b7d6_condition-23_20230901112151.csv\n",
      "annotation_sub-63d196c147d1f420690e5b87_condition-24_20230901112232.csv\n",
      "annotation_sub-6401041925b69c601d8c81eb_condition-15_20230901105315.csv\n",
      "annotation_sub-6466249c27b5e4161f763c32_condition-17_20230901110415.csv\n"
     ]
    }
   ],
   "source": [
    "download_captions = True\n",
    "if download_captions:\n",
    "    import dropbox, getpass\n",
    "    personal_access_token = getpass.getpass('Enter your Personal Access Token: ')\n",
    "    dbx = dropbox.Dropbox(personal_access_token)\n",
    "\n",
    "    list_folder_result = dbx.files_list_folder(path=remote_caption_path)\n",
    "    for entry in list_folder_result.entries:\n",
    "        file = entry.path_lower.split('/')[-1]\n",
    "        print(file)\n",
    "        dbx.files_download_to_file(f'{caption_path}/{file}', entry.path_lower)"
   ]
  },
  {
   "cell_type": "code",
   "execution_count": 21,
   "id": "3d40f580-e764-4944-b3b1-e84072b9666d",
   "metadata": {},
   "outputs": [],
   "source": [
    "download_annotations = False\n",
    "if download_annotations:\n",
    "    list_folder_result = dbx.files_list_folder(path=remote_annotation_path)\n",
    "    for entry in list_folder_result.entries:\n",
    "        file = entry.path_lower.split('/')[-1]\n",
    "        print(file)\n",
    "        dbx.files_download_to_file(f'{annotation_path}/{file}', entry.path_lower)"
   ]
  },
  {
   "cell_type": "code",
   "execution_count": 22,
   "id": "e076a0a1-ec58-4907-9249-c63d095c75e3",
   "metadata": {},
   "outputs": [],
   "source": [
    "from sentence_transformers import SentenceTransformer\n",
    "model = SentenceTransformer('sentence-transformers/all-MiniLM-L12-v1')"
   ]
  },
  {
   "cell_type": "code",
   "execution_count": 23,
   "id": "221e3495-75fe-48a3-ad82-3104dc7197b0",
   "metadata": {},
   "outputs": [
    {
     "name": "stdout",
     "output_type": "stream",
     "text": [
      "sub_id: 5ca216d52a83ec00175c4eaf, condition: 00, date: 20230831142730\n",
      "sub_id: 6401041925b69c601d8c81eb, condition: 15, date: 20230901105315\n",
      "sub_id: 6124ea99728014c37c9635c7, condition: 00, date: 20230831142735\n",
      "sub_id: 63d196c147d1f420690e5b87, condition: 24, date: 20230901112232\n",
      "sub_id: 5e64e1d3ffed3225090e814d, condition: 14, date: 20230901104433\n",
      "sub_id: 5d5ad9a38fd0020001d2403f, condition: 01, date: 20230831142845\n",
      "sub_id: 60bbe5dac754ff6671006e16, condition: 01, date: 20230831142842\n",
      "sub_id: 5efa66c030577f1782e0311a, condition: 08, date: \n",
      "oops that file is empty. moving on...\n",
      "sub_id: 62d18a8949920240954954c4, condition: 01, date: 20230831142808\n",
      "sub_id: 5c3f0188ba40520001d33fc2, condition: 01, date: 20230831142811\n",
      "sub_id: 630be3605287a0f49b87c709, condition: 05, date: 20230831143613\n",
      "sub_id: 61587f16e25d1946774ea99a, condition: 00, date: 20230831142754\n",
      "sub_id: 5cf517728951b400019b1a24, condition: 02, date: 20230831142856\n",
      "sub_id: 5f904410ef86570b6eeebcb6, condition: 13, date: 20230901104158\n",
      "sub_id: 5e3842b92fdfd2000fc286a4, condition: 22, date: 20230901112246\n",
      "sub_id: 5d3112122401af0018ba2919, condition: 01, date: 20230831142821\n",
      "sub_id: 5ce7046a9390750017b64ac6, condition: 01, date: 20230831142848\n",
      "sub_id: 5f86e6019a0cbc03afd4ac20, condition: 07, date: 20230831150334\n",
      "sub_id: 5bfec39e571cea00018aa783, condition: 11, date: 20230901103927\n",
      "sub_id: 5cf656e90acc8f000147f643, condition: 06, date: 20230831150330\n",
      "sub_id: 5a4d194c87c6f8000137d680, condition: 00, date: 20230831142734\n",
      "sub_id: 59d4e426c618a50001cf5cab, condition: 00, date: 20230831142749\n",
      "sub_id: 5c576553fcbb880001fd0acd, condition: 21, date: 20230901112100\n",
      "sub_id: 62861bcc5f0edf6340c914df, condition: 09, date: 20230831150339\n",
      "sub_id: 63af557b3d4f219c3226b7d6, condition: 23, date: 20230901112151\n",
      "sub_id: 6466249c27b5e4161f763c32, condition: 17, date: 20230901110415\n",
      "sub_id: 5ea5d14393216f4545bb2368, condition: 01, date: 20230831142839\n",
      "sub_id: 603cfe49880ceeb4bf3aa72e, condition: 10, date: 20230831150340\n",
      "sub_id: 5671927473f58b000d664293, condition: 18, date: 20230901110503\n",
      "sub_id: 5e93138a7d69590115fa1e21, condition: 12, date: 20230901104009\n",
      "sub_id: 5b773e58a1c0710001a0ebad, condition: 16, date: 20230901105530\n",
      "sub_id: 5f4380bb7ca9ca5ca407fc04, condition: 04, date: 20230831143231\n",
      "sub_id: 5b5a4c642696a70001ee1722, condition: 00, date: 20230831142739\n",
      "sub_id: 5f7886db76d26207cd969fe6, condition: 22, date: 20230831140804\n",
      "sub_id: 609140cea1442672dd2141d7, condition: 19, date: 20230901111735\n",
      "sub_id: 5f1e1924c9f24d7af7632e2e, condition: 01, date: 20230831142833\n",
      "sub_id: 590819e205fbfc000147720c, condition: 01, date: 20230831142814\n",
      "sub_id: 606194ac4588bc4748d83964, condition: 01, date: 20230831142848\n",
      "sub_id: 5f516a44067fba1b4c562a55, condition: 20, date: 20230901112032\n",
      "sub_id: 5efa66c030577f1782e0311a, condition: 08, date: 20230831150336\n",
      "sub_id: 5cf15c363858150001955011, condition: 01, date: 20230831142825\n",
      "sub_id: 646a80bdba313585345b567a, condition: 00, date: 20230831142753\n",
      "sub_id: 5ebb26c872b18c0f47c14bb4, condition: 03, date: 20230831143058\n",
      "sub_id: 59ad56559fdf6c0001cba91c, condition: 01, date: 20230831142823\n",
      "sub_id: 6384e8f79ddf2df1432db0e8, condition: 05, date: 20230831143522\n",
      "sub_id: 60b7ae30dc4cd72192734427, condition: 01, date: 20230831142837\n"
     ]
    }
   ],
   "source": [
    "all_sub_data = []\n",
    "for path in glob(f'{raw_dir}/sentence_captions/*.csv'):\n",
    "    match = re.search(r'sub-(.*?)_condition-(.*?)_(.*).csv', path)\n",
    "    if match:\n",
    "        sub_id = match.group(1)\n",
    "        condition = match.group(2)\n",
    "        date = match.group(3)\n",
    "        print(f\"sub_id: {sub_id}, condition: {condition}, date: {date}\")\n",
    "\n",
    "    if os.path.getsize(path) == 0:\n",
    "        print('oops that file is empty. moving on...')\n",
    "    else:\n",
    "        df = pd.read_csv(path, header=None)\n",
    "        df.columns = ['url', 'caption']\n",
    "        df['url'] = df['url'].str.extract(\"(https://[^']+)\")\n",
    "        df['video_name'] = df['url'].str.extract(r'/([^/]+\\.mp4)')[0]\n",
    "        df[['sub_id', 'condition', 'date']] = sub_id, condition, date\n",
    "        all_sub_data.append(df)\n",
    "all_sub_data = pd.concat(all_sub_data)"
   ]
  },
  {
   "cell_type": "code",
   "execution_count": 24,
   "id": "1ec6513a-ff80-41e6-b28d-ce01780367ec",
   "metadata": {},
   "outputs": [],
   "source": [
    "incomplete_data = all_sub_data.groupby('sub_id').filter(lambda x: len(x) != 12)\n",
    "data = all_sub_data.groupby('sub_id').filter(lambda x: len(x) == 12)"
   ]
  },
  {
   "cell_type": "code",
   "execution_count": 35,
   "id": "528b39ee-0a26-4c0e-a8f3-8cd7fd9f4feb",
   "metadata": {},
   "outputs": [
    {
     "name": "stdout",
     "output_type": "stream",
     "text": [
      "['5ce7046a9390750017b64ac6', '5cf15c363858150001955011', '5b773e58a1c0710001a0ebad']\n",
      "['00', '01', '02', '03', '05', '06', '07', '08', '09', '10', '11', '12', '13', '14', '15', '17', '18', '19', '20', '21', '22', '23', '24']\n"
     ]
    },
    {
     "data": {
      "image/png": "[encoded data removed]",
      "text/plain": [
       "<Figure size 640x480 with 4 Axes>"
      ]
     },
     "metadata": {},
     "output_type": "display_data"
    }
   ],
   "source": [
    "_, axes = plt.subplots(len(catch_trials), len(catch_trials))\n",
    "bad_subs = []\n",
    "for ax, catch_trial in zip(axes, catch_trials):\n",
    "    catch_data = data.loc[data.video_name == catch_trial].reset_index(drop=True)    \n",
    "    captions = catch_data.caption.to_list()\n",
    "    embeddings = model.encode(captions)\n",
    "\n",
    "    pairwise_dist = squareform(pdist(embeddings, metric='correlation'))\n",
    "    ax[0].imshow(pairwise_dist)\n",
    "    ax[0].set_title(catch_trial)\n",
    "    \n",
    "    pairwise_dist[pairwise_dist == 0] = np.nan\n",
    "    distance = np.nanmean(pairwise_dist, axis=0)\n",
    "    dist_mean = distance.mean()\n",
    "    dist_std = distance.std()\n",
    "    dist_threshold = dist_mean + (2.5 * dist_std)\n",
    "    ax[1].hist(distance)\n",
    "    ax[1].vlines(x=dist_threshold, ymin=0, ymax=10, color='red')\n",
    "    ax[1].set_title(catch_trial)\n",
    "\n",
    "    bad_subs = bad_subs + catch_data.loc[distance > dist_threshold, 'sub_id'].to_list()\n",
    "print(bad_subs)\n",
    "filtered_data = all_sub_data[(~all_sub_data['sub_id'].isin(bad_subs)) & (~all_sub_data['video_name'].isin(catch_trials))].reset_index(drop=True)\n",
    "print(sorted(filtered_data.condition.unique()))"
   ]
  },
  {
   "cell_type": "code",
   "execution_count": 44,
   "id": "1ed88a5a-c210-4c42-9595-4ca4493899c9",
   "metadata": {},
   "outputs": [
    {
     "name": "stderr",
     "output_type": "stream",
     "text": [
      "/tmp/ipykernel_1068755/1566932434.py:2: SettingWithCopyWarning: \n",
      "A value is trying to be set on a copy of a slice from a DataFrame.\n",
      "Try using .loc[row_indexer,col_indexer] = value instead\n",
      "\n",
      "See the caveats in the documentation: https://pandas.pydata.org/pandas-docs/stable/user_guide/indexing.html#returning-a-view-versus-a-copy\n",
      "  caption_df['n_caption'] = caption_df.groupby('video_name').cumcount() + 1\n",
      "/tmp/ipykernel_1068755/1566932434.py:3: SettingWithCopyWarning: \n",
      "A value is trying to be set on a copy of a slice from a DataFrame.\n",
      "Try using .loc[row_indexer,col_indexer] = value instead\n",
      "\n",
      "See the caveats in the documentation: https://pandas.pydata.org/pandas-docs/stable/user_guide/indexing.html#returning-a-view-versus-a-copy\n",
      "  caption_df['n_caption'] = 'caption' + caption_df['n_caption'].astype('str').str.zfill(2)\n"
     ]
    }
   ],
   "source": [
    "caption_df = filtered_data[['video_name', 'caption']]\n",
    "caption_df['n_caption'] = caption_df.groupby('video_name').cumcount() + 1\n",
    "caption_df['n_caption'] = 'caption' + caption_df['n_caption'].astype('str').str.zfill(2)\n",
    "captions = caption_df.pivot(columns='n_caption', index='video_name', values='caption')\n",
    "captions.to_csv(f'{out_path}/captions.csv')"
   ]
  },
  {
   "cell_type": "markdown",
   "id": "1ea3f153-dbaf-48f3-a119-b21280cca366",
   "metadata": {},
   "source": [
    "## Piloting classification"
   ]
  },
  {
   "cell_type": "code",
   "execution_count": 46,
   "id": "8bb541af-c530-48ae-92ea-dbba5b8e674b",
   "metadata": {},
   "outputs": [],
   "source": [
    "annotations = pd.read_csv(f'{annotation_path}/annotations.csv').drop(columns=['cooperation', 'dominance', 'intimacy'])\n",
    "annotations = annotations.merge(pd.read_csv(f'{annotation_path}/train.csv'), on='video_name').reset_index(drop=True)\n",
    "data = annotations.merge(captions.reset_index()[['video_name', 'caption01']], on='video_name')"
   ]
  },
  {
   "cell_type": "code",
   "execution_count": null,
   "id": "deb3074d-ff01-42b6-9df7-bff6af9deebd",
   "metadata": {},
   "outputs": [],
   "source": [
    "def get_embeddings(sentences):\n",
    "    from transformers import AutoTokenizer, AutoModel\n",
    "    import torch\n",
    "    import torch.nn.functional as F\n",
    "\n",
    "    #Mean Pooling - Take attention mask into account for correct averaging\n",
    "    def mean_pooling(model_output, attention_mask):\n",
    "        token_embeddings = model_output[0] #First element of model_output contains all token embeddings\n",
    "        input_mask_expanded = attention_mask.unsqueeze(-1).expand(token_embeddings.size()).float()\n",
    "        return torch.sum(token_embeddings * input_mask_expanded, 1) / torch.clamp(input_mask_expanded.sum(1), min=1e-9)\n",
    "\n",
    "    # Load model from HuggingFace Hub\n",
    "    tokenizer = AutoTokenizer.from_pretrained('sentence-transformers/all-MiniLM-L12-v1')\n",
    "    model_ = AutoModel.from_pretrained('sentence-transformers/all-MiniLM-L12-v1')\n",
    "\n",
    "    # Tokenize sentences\n",
    "    encoded_input = tokenizer(sentences, padding=True, truncation=True, return_tensors='pt')\n",
    "\n",
    "    # Compute token embeddings\n",
    "    with torch.no_grad():\n",
    "        model_output = model_(**encoded_input)\n",
    "\n",
    "    # Perform pooling\n",
    "    sentence_embeddings = mean_pooling(model_output, encoded_input['attention_mask'])\n",
    "\n",
    "    # Normalize embeddings\n",
    "    sentence_embeddings = F.normalize(sentence_embeddings, p=2, dim=1)\n",
    "    return sentence_embeddings"
   ]
  },
  {
   "cell_type": "code",
   "execution_count": null,
   "id": "6a6fda73-fc13-40d1-824d-45e9256066fa",
   "metadata": {},
   "outputs": [],
   "source": [
    "emb1 = model.encode(data['caption01'].to_list())\n",
    "emb2 = get_embeddings(data['caption01'].to_list())\n",
    "print(np.all(emb1, emb2))"
   ]
  },
  {
   "cell_type": "code",
   "execution_count": 62,
   "id": "e2a0292c-2f61-4fff-ba24-99032e9c0df5",
   "metadata": {},
   "outputs": [],
   "source": [
    "X = emb1.copy()\n",
    "y = data['communication'].to_numpy()"
   ]
  },
  {
   "cell_type": "code",
   "execution_count": 18,
   "id": "aa68f00c-d976-4751-bd28-71054fb567a5",
   "metadata": {},
   "outputs": [],
   "source": [
    "def scale2d(train_, test_):\n",
    "    mean = np.nanmean(train_, axis=0).squeeze()\n",
    "    variance = np.nanstd(train_, axis=0).squeeze()\n",
    "    variance[np.isclose(variance, 0.)] = np.nan\n",
    "    return (train_ - mean) / variance, (test_ - mean) / variance\n",
    "\n",
    "def scale1d(train_, test_):\n",
    "    mean = train_.mean()\n",
    "    variance = train_.std()\n",
    "    return (train_ - mean) / variance, (test_ - mean) / variance\n",
    "\n",
    "def preprocess(train, test):\n",
    "    if train.ndim > 1:\n",
    "        train_scaled, test_scaled = scale2d(train, test)\n",
    "    else:\n",
    "        train_scaled, test_scaled = scale1d(train, test)\n",
    "    return train_scaled, test_scaled\n",
    "\n",
    "def corr(x, y):\n",
    "    x_m = x - np.nanmean(x)\n",
    "    y_m = y - np.nanmean(y)\n",
    "    numer = np.nansum(x_m * y_m)\n",
    "    denom = np.sqrt(np.nansum(x_m * x_m) * np.nansum(y_m * y_m))\n",
    "    if denom != 0:\n",
    "        return numer / denom\n",
    "    else:\n",
    "        return np.nan\n",
    "\n",
    "def pearson_r_scorer(y_true, y_pred):\n",
    "    r = corr(y_true, y_pred)\n",
    "    return r"
   ]
  },
  {
   "cell_type": "code",
   "execution_count": 28,
   "id": "f0cc0d96-188c-41bf-b32a-bcc985fdbdf2",
   "metadata": {},
   "outputs": [
    {
     "name": "stdout",
     "output_type": "stream",
     "text": [
      "-0.08077467867606782\n",
      "-0.0769478138665653\n"
     ]
    }
   ],
   "source": [
    "from sklearn.linear_model import RidgeCV\n",
    "from sklearn.model_selection import KFold\n",
    "from sklearn.metrics import make_scorer\n",
    "import warnings\n",
    "warnings.filterwarnings(\"ignore\")\n",
    "\n",
    "kf = KFold(n_splits=10)\n",
    "pearson_scorer = make_scorer(pearson_r_scorer)\n",
    "rcv = RidgeCV(alphas=(1e-2, 1e-1, 1e0, 1e1, 1e2, 1e3, 1e4), fit_intercept=False,\n",
    "              scoring=pearson_scorer, cv=5)\n",
    "\n",
    "y_pred = np.zeros_like(y)\n",
    "for i, (train_index, test_index) in enumerate(kf.split(X)):\n",
    "    #split the data\n",
    "    X_train, X_test = X[train_index, :], X[test_index, :]\n",
    "    y_train, y_test = y[train_index], y[test_index]\n",
    "    \n",
    "    # preprocess\n",
    "    X_train_scaled, X_test_scaled = preprocess(X_train, X_test)\n",
    "    y_train_scaled, y_test_scaled = preprocess(y_train, y_test)\n",
    "\n",
    "    # fit and predict\n",
    "    rcv.fit(X_train, y_train)\n",
    "    y_pred[test_index] = rcv.predict(X_test)\n",
    "print(f'CV prediction = {pearson_r_scorer(y, y_pred):.3f}')"
   ]
  },
  {
   "cell_type": "code",
   "execution_count": null,
   "id": "240022af-b95b-4c6f-9619-6015727be4c6",
   "metadata": {},
   "outputs": [],
   "source": []
  }
 ],
 "metadata": {
  "kernelspec": {
   "display_name": "Python 3 (ipykernel)",
   "language": "python",
   "name": "python3"
  },
  "language_info": {
   "codemirror_mode": {
    "name": "ipython",
    "version": 3
   },
   "file_extension": ".py",
   "mimetype": "text/x-python",
   "name": "python",
   "nbconvert_exporter": "python",
   "pygments_lexer": "ipython3",
   "version": "3.9.12"
  }
 },
 "nbformat": 4,
 "nbformat_minor": 5
}
