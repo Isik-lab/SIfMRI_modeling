{
 "cells": [
  {
   "cell_type": "code",
   "execution_count": 1,
   "id": "f4f1a638-c2a4-48f6-9ac7-686b676ba329",
   "metadata": {},
   "outputs": [],
   "source": [
    "import os\n",
    "from glob import glob\n",
    "import pandas as pd\n",
    "from tqdm import tqdm\n",
    "import torch\n",
    "import numpy as np\n",
    "import shutil\n"
   ]
  },
  {
   "cell_type": "markdown",
   "id": "f4c2b268-39d8-40d4-8bc5-8183b25aa85a",
   "metadata": {},
   "source": [
    "## Visual (Behavior) Pipeline"
   ]
  },
  {
   "cell_type": "markdown",
   "id": "3383f987-4e46-48a0-a257-21c00a6f784d",
   "metadata": {},
   "source": [
    "### Extract Frame Data"
   ]
  },
  {
   "cell_type": "code",
   "execution_count": 2,
   "id": "1a7bc5d4-3410-49e6-8adb-155833a60e8e",
   "metadata": {},
   "outputs": [
    {
     "name": "stderr",
     "output_type": "stream",
     "text": [
      "/home/emcmaho7/.conda/envs/deepjuice/lib/python3.12/site-packages/tqdm/auto.py:21: TqdmWarning: IProgress not found. Please update jupyter and ipywidgets. See https://ipywidgets.readthedocs.io/en/stable/user_install.html\n",
      "  from .autonotebook import tqdm as notebook_tqdm\n"
     ]
    }
   ],
   "source": [
    "from deepjuice.procedural import pandas_query as pdq\n",
    "from deepjuice.procedural import pandas_query\n",
    "from deepjuice.model_zoo.options import get_deepjuice_model\n",
    "\n",
    "from deepjuice.procedural.datasets import get_data_loader\n",
    "from deepjuice.extraction import FeatureExtractor\n",
    "from deepjuice.procedural.cv_ops import CVIndexer\n",
    "from deepjuice.alignment import TorchRidgeGCV\n",
    "from deepjuice.reduction import compute_srp\n",
    "\n",
    "from deepjuice.procedural import pandas_query as pdq\n",
    "from deepjuice.alignment import compute_score"
   ]
  },
  {
   "cell_type": "markdown",
   "id": "0e8fe331-6f94-4851-830c-42a68431c9be",
   "metadata": {},
   "source": [
    "### Build the Benchmark"
   ]
  },
  {
   "cell_type": "code",
   "execution_count": 5,
   "id": "3bf55168-308a-496d-bb2c-22cad43a4b44",
   "metadata": {},
   "outputs": [],
   "source": [
    "def get_nearest_multiple(a, b):\n",
    "    # Find the nearest multiple of b to a\n",
    "    nearest_multiple = round(a / b) * b\n",
    "    if nearest_multiple % 2 != 0:\n",
    "        if (nearest_multiple - a) < (a - (nearest_multiple - b)):\n",
    "            nearest_multiple += b\n",
    "        else:\n",
    "            nearest_multiple -= b\n",
    "            \n",
    "    return nearest_multiple # integer space"
   ]
  },
  {
   "cell_type": "code",
   "execution_count": 6,
   "id": "e2a511c3-7546-407b-87fe-38cce25b87ce",
   "metadata": {},
   "outputs": [
    {
     "name": "stderr",
     "output_type": "stream",
     "text": [
      "Processing Event Videos: 100%|██████████| 250/250 [01:40<00:00,  2.50it/s]\n"
     ]
    }
   ],
   "source": [
    "source_video_dir = '../data/raw/videos'\n",
    "frame_dir = '../data/interim/frame_set/video_frames'\n",
    "fresh_start = True # delete + remake\n",
    "#fresh_start = True # comment override\n",
    "\n",
    "if os.path.exists(frame_dir) and fresh_start:\n",
    "    shutil.rmtree(frame_dir) # delete dir\n",
    "\n",
    "key_frames, target_index = [0, 22, 45, 67, 89], None\n",
    "event_data = '../data/raw/annotations/annotations.csv'\n",
    "benchmark = visual_events_benchmark(event_data, source_video_dir, frame_dir,\n",
    "                                    key_frames, target_index)"
   ]
  },
  {
   "cell_type": "code",
   "execution_count": 7,
   "id": "484315eb-72ca-4348-9d8c-90a4d5466c94",
   "metadata": {},
   "outputs": [],
   "source": [
    "def run_visual_event_pipeline(model_uid, benchmark, device, **kwargs):\n",
    "\n",
    "    model, preprocess = get_deepjuice_model(model_uid)\n",
    "    \n",
    "    response_data = benchmark['response_data']\n",
    "    image_paths = benchmark['image_paths']\n",
    "    group_index = benchmark['group_indices']\n",
    "    \n",
    "    target_names = response_data.columns.tolist()\n",
    "    n_inputs = len(response_data) # unique total\n",
    "\n",
    "    dataloader = get_data_loader(image_paths, preprocess)\n",
    "    extractor_desc = 'Global Progress (Extractor Batch)'\n",
    "    \n",
    "    scoresheet_list = [] # append scoresheets by layer / metric\n",
    "    method_info = {'regression': {'encoding_model': 'RidgeCV'},\n",
    "                   'cvfunction': {'method': '10-iter-5-fold'}}\n",
    "\n",
    "    sample_group_index = list(group_index.values())[0]\n",
    "    average_over_nmany = len(sample_group_index)\n",
    "\n",
    "    stimulus_info = {'frame_set': None}\n",
    "\n",
    "    if average_over_nmany >= 1:\n",
    "        tensor_fn = None # pass\n",
    "        \n",
    "        stimulus_info['frame_set'] = 'middle_frame'\n",
    "\n",
    "    if average_over_nmany >= 2:\n",
    "        skip = average_over_nmany\n",
    "\n",
    "        stimulus_info['frame_set'] = f'average_of_{skip}'\n",
    "\n",
    "        def tensor_fn(tensor):\n",
    "            return moving_grouped_average(tensor, skip)\n",
    "\n",
    "        batch_size = dataloader.batch_size\n",
    "        if kwargs.get('batch_size', None):\n",
    "            batch_size = kwargs.pop('batch_size')\n",
    "        \n",
    "        batch_size = get_nearest_multiple(batch_size, skip)\n",
    "        \n",
    "        dataloader = get_data_loader(image_paths, preprocess,\n",
    "                                     batch_size = batch_size)\n",
    "\n",
    "    method_info['stimulus_set'] = stimulus_info.copy()\n",
    "\n",
    "    extractor = FeatureExtractor(model, dataloader, \n",
    "                                 tensor_fn=tensor_fn,\n",
    "                                 n_inputs=n_inputs,\n",
    "                                 initial_report=False)\n",
    "    \n",
    "    extractor.modify_settings(flatten=True, batch_progress=True)\n",
    "        \n",
    "    cv_indexer = CVIndexer(200, iterations=10, random_state=0,\n",
    "                           iterable_format='list')\n",
    "    \n",
    "    cv_iter_idx = cv_indexer.kfold_split(kfolds=5) # get kfolds\n",
    "\n",
    "    global_srp_matrix = extractor.get_global_srp_matrix()\n",
    "    global_srp_on_gpu = global_srp_matrix.clone().to(device)\n",
    "\n",
    "    y_actual = torch.from_numpy(response_data.to_numpy())\n",
    "    y_actual = y_actual.to(torch.float32).to(device) \n",
    "    y_cvsplit, y_heldout = y_actual[:200], y_actual[200:]\n",
    "    \n",
    "    regression = TorchRidgeGCV(alphas=np.logspace(-1,5,7).tolist(), \n",
    "                               device=device, scale_X=True)\n",
    "\n",
    "    shape_report = kwargs.pop('print_shapes', False) # for debug\n",
    "\n",
    "    scoresheet_list = [] # fill with results from each feature map\n",
    "\n",
    "    for batch_index, feature_maps in enumerate(tqdm(extractor, desc=extractor_desc)):\n",
    "\n",
    "        feature_map_iterator = tqdm(feature_maps.items(), desc='Social Event Annotation (Layer)')\n",
    "\n",
    "        for layer_index, (model_layer, feature_map) in enumerate(feature_map_iterator):\n",
    "            feature_map_info = {'model_uid': model_uid, 'model_layer': model_layer, \n",
    "                                'model_layer_index': layer_index+1}\n",
    "\n",
    "\n",
    "            try: # to run the sparse random projection on the GPU ...\n",
    "                srp_kwargs = {'device': device, 'srp_matrix': global_srp_on_gpu}\n",
    "                feature_map = compute_srp(feature_map, **srp_kwargs)\n",
    "\n",
    "            except Exception: # run SRP with CPU\n",
    "                feature_map = feature_map.to('cpu')\n",
    "                clean_and_sweep() # the CUDA cache\n",
    "                srp_kwargs = {'device': 'cpu', 'srp_matrix': global_srp_matrix}\n",
    "                feature_map = compute_srp(feature_map, **srp_kwargs)\n",
    "\n",
    "            feature_map = feature_map.squeeze().to(torch.float32).to(device)\n",
    "        \n",
    "            for cv_iter, kfold_split_idx in enumerate(cv_iter_idx):\n",
    "                y_pred = torch.ones(y_cvsplit.shape, device=device)\n",
    "                \n",
    "                for kfold, cv_split_idx in kfold_split_idx.items():\n",
    "                    X, y = {}, {} # fill with split + cv_idx\n",
    "                    for split, cv_idx in cv_split_idx.items():\n",
    "                        X[split] = feature_map[cv_idx, :]\n",
    "                        y[split] = y_cvsplit[cv_idx]\n",
    "\n",
    "                    if shape_report:\n",
    "                        print(list(X['train'].shape), list(X['test'].shape),\n",
    "                              list(y['train'].shape), list(y['test'].shape))\n",
    "        \n",
    "                    regression.fit(X['train'], y['train'])\n",
    "                    \n",
    "                    y_preds = {'train': regression.cv_y_pred_, \n",
    "                               'test': regression.predict(X['test'])}\n",
    "        \n",
    "                    y_pred[cv_split_idx['test']] = y_preds['test']\n",
    "        \n",
    "                for score_type in ['pearsonr']:\n",
    "                    y_true = y_cvsplit.clone()\n",
    "                    \n",
    "                    scores = compute_score(y_true, y_pred, score_type)\n",
    "                    \n",
    "                    for target_index, target_name in enumerate(target_names):\n",
    "                        score_val = scores[target_index].item()\n",
    "                        \n",
    "                        scoresheet = {**feature_map_info,\n",
    "                                      'target': target_name,\n",
    "                                      'cv_iter': cv_iter,\n",
    "                                      'score': score_val}\n",
    "\n",
    "                        for info_type in method_info:\n",
    "                            scoresheet = {**scoresheet, **method_info[info_type]}\n",
    "        \n",
    "                        scoresheet_list.append(scoresheet)\n",
    "\n",
    "    return pd.DataFrame(scoresheet_list)"
   ]
  },
  {
   "cell_type": "code",
   "execution_count": 8,
   "id": "8eb1a410-6607-4e1a-b489-e2819232405e",
   "metadata": {},
   "outputs": [
    {
     "name": "stdout",
     "output_type": "stream",
     "text": [
      "Extracting sample feature_maps with torchinfo.\n",
      "Constructing global SRP matrix for Extractor.\n"
     ]
    },
    {
     "name": "stderr",
     "output_type": "stream",
     "text": [
      "Global Progress (Extractor Batch):   0%|          | 0/1 [00:00<?, ?it/s]\n",
      "Feature Extraction (DataLoader):   0%|          | 0/18 [00:00<?, ?it/s]\u001b[A\n",
      "Feature Extraction (DataLoader):   6%|▌         | 1/18 [00:00<00:15,  1.13it/s]\u001b[A\n",
      "Feature Extraction (DataLoader):  11%|█         | 2/18 [00:01<00:13,  1.18it/s]\u001b[A\n",
      "Feature Extraction (DataLoader):  17%|█▋        | 3/18 [00:02<00:12,  1.19it/s]\u001b[A\n",
      "Feature Extraction (DataLoader):  22%|██▏       | 4/18 [00:03<00:11,  1.20it/s]\u001b[A\n",
      "Feature Extraction (DataLoader):  28%|██▊       | 5/18 [00:04<00:10,  1.20it/s]\u001b[A\n",
      "Feature Extraction (DataLoader):  33%|███▎      | 6/18 [00:05<00:10,  1.19it/s]\u001b[A\n",
      "Feature Extraction (DataLoader):  39%|███▉      | 7/18 [00:05<00:09,  1.19it/s]\u001b[A\n",
      "Feature Extraction (DataLoader):  44%|████▍     | 8/18 [00:06<00:08,  1.19it/s]\u001b[A\n",
      "Feature Extraction (DataLoader):  50%|█████     | 9/18 [00:07<00:07,  1.20it/s]\u001b[A\n",
      "Feature Extraction (DataLoader):  56%|█████▌    | 10/18 [00:08<00:06,  1.19it/s]\u001b[A\n",
      "Feature Extraction (DataLoader):  61%|██████    | 11/18 [00:09<00:05,  1.19it/s]\u001b[A\n",
      "Feature Extraction (DataLoader):  67%|██████▋   | 12/18 [00:10<00:05,  1.20it/s]\u001b[A\n",
      "Feature Extraction (DataLoader):  72%|███████▏  | 13/18 [00:10<00:04,  1.20it/s]\u001b[A\n",
      "Feature Extraction (DataLoader):  78%|███████▊  | 14/18 [00:11<00:03,  1.19it/s]\u001b[A\n",
      "Feature Extraction (DataLoader):  83%|████████▎ | 15/18 [00:12<00:02,  1.19it/s]\u001b[A\n",
      "Feature Extraction (DataLoader):  89%|████████▉ | 16/18 [00:13<00:01,  1.18it/s]\u001b[A\n",
      "Feature Extraction (DataLoader):  94%|█████████▍| 17/18 [00:14<00:00,  1.18it/s]\u001b[A\n",
      "Feature Extraction (DataLoader): 100%|██████████| 18/18 [00:15<00:00,  1.19it/s]\u001b[A\n",
      "\n",
      "Social Event Annotation (Layer):   0%|          | 0/24 [00:00<?, ?it/s]\u001b[A\n",
      "Social Event Annotation (Layer):   4%|▍         | 1/24 [00:06<02:21,  6.15s/it]\u001b[A\n",
      "Social Event Annotation (Layer):   8%|▊         | 2/24 [00:06<01:04,  2.92s/it]\u001b[A\n",
      "Social Event Annotation (Layer):  12%|█▎        | 3/24 [00:07<00:41,  1.98s/it]\u001b[A\n",
      "Social Event Annotation (Layer):  17%|█▋        | 4/24 [00:08<00:29,  1.48s/it]\u001b[A\n",
      "Social Event Annotation (Layer):  21%|██        | 5/24 [00:09<00:26,  1.41s/it]\u001b[A\n",
      "Social Event Annotation (Layer):  25%|██▌       | 6/24 [00:14<00:44,  2.45s/it]\u001b[A\n",
      "Social Event Annotation (Layer):  29%|██▉       | 7/24 [00:18<00:52,  3.10s/it]\u001b[A\n",
      "Social Event Annotation (Layer):  33%|███▎      | 8/24 [00:19<00:38,  2.43s/it]\u001b[A\n",
      "Social Event Annotation (Layer):  38%|███▊      | 9/24 [00:21<00:34,  2.28s/it]\u001b[A\n",
      "Social Event Annotation (Layer):  42%|████▏     | 10/24 [00:23<00:30,  2.16s/it]\u001b[A\n",
      "Social Event Annotation (Layer):  46%|████▌     | 11/24 [00:24<00:24,  1.86s/it]\u001b[A\n",
      "Social Event Annotation (Layer):  50%|█████     | 12/24 [00:25<00:19,  1.66s/it]\u001b[A\n",
      "Social Event Annotation (Layer):  54%|█████▍    | 13/24 [00:26<00:16,  1.51s/it]\u001b[A\n",
      "Social Event Annotation (Layer):  58%|█████▊    | 14/24 [00:28<00:14,  1.40s/it]\u001b[A\n",
      "Social Event Annotation (Layer):  62%|██████▎   | 15/24 [00:28<00:10,  1.17s/it]\u001b[A\n",
      "Social Event Annotation (Layer):  67%|██████▋   | 16/24 [00:29<00:08,  1.01s/it]\u001b[A\n",
      "Social Event Annotation (Layer):  71%|███████   | 17/24 [00:29<00:06,  1.13it/s]\u001b[A\n",
      "Social Event Annotation (Layer):  75%|███████▌  | 18/24 [00:30<00:04,  1.23it/s]\u001b[A\n",
      "Social Event Annotation (Layer):  79%|███████▉  | 19/24 [00:31<00:03,  1.33it/s]\u001b[A\n",
      "Social Event Annotation (Layer):  83%|████████▎ | 20/24 [00:31<00:02,  1.41it/s]\u001b[A\n",
      "Social Event Annotation (Layer):  88%|████████▊ | 21/24 [00:32<00:02,  1.48it/s]\u001b[A\n",
      "Social Event Annotation (Layer):  92%|█████████▏| 22/24 [00:33<00:01,  1.51it/s]\u001b[A\n",
      "Social Event Annotation (Layer):  96%|█████████▌| 23/24 [00:33<00:00,  1.55it/s]\u001b[A\n",
      "Social Event Annotation (Layer): 100%|██████████| 24/24 [00:34<00:00,  1.43s/it]\u001b[A\n",
      "Global Progress (Extractor Batch): 100%|██████████| 1/1 [00:50<00:00, 50.70s/it]\n"
     ]
    }
   ],
   "source": [
    "model_uid, device = 'torchvision_alexnet_imagenet1k_v1', 'cuda:0'\n",
    "results = run_visual_event_pipeline(model_uid, benchmark, device)"
   ]
  },
  {
   "cell_type": "code",
   "execution_count": 9,
   "id": "b8c70919-f7ee-4f06-b618-41b835599428",
   "metadata": {},
   "outputs": [
    {
     "data": {
      "text/html": [
       "<div>\n",
       "<style scoped>\n",
       "    .dataframe tbody tr th:only-of-type {\n",
       "        vertical-align: middle;\n",
       "    }\n",
       "\n",
       "    .dataframe tbody tr th {\n",
       "        vertical-align: top;\n",
       "    }\n",
       "\n",
       "    .dataframe thead th {\n",
       "        text-align: right;\n",
       "    }\n",
       "</style>\n",
       "<table border=\"1\" class=\"dataframe\">\n",
       "  <thead>\n",
       "    <tr style=\"text-align: right;\">\n",
       "      <th></th>\n",
       "      <th>model_uid</th>\n",
       "      <th>model_layer</th>\n",
       "      <th>target</th>\n",
       "      <th>score</th>\n",
       "    </tr>\n",
       "  </thead>\n",
       "  <tbody>\n",
       "    <tr>\n",
       "      <th>8</th>\n",
       "      <td>torchvision_alexnet_imagenet1k_v1</td>\n",
       "      <td>Linear-2-15</td>\n",
       "      <td>joint_action</td>\n",
       "      <td>-0.093655</td>\n",
       "    </tr>\n",
       "    <tr>\n",
       "      <th>3</th>\n",
       "      <td>torchvision_alexnet_imagenet1k_v1</td>\n",
       "      <td>Linear-2-15</td>\n",
       "      <td>cooperation</td>\n",
       "      <td>0.094823</td>\n",
       "    </tr>\n",
       "    <tr>\n",
       "      <th>6</th>\n",
       "      <td>torchvision_alexnet_imagenet1k_v1</td>\n",
       "      <td>Linear-2-15</td>\n",
       "      <td>facingness</td>\n",
       "      <td>0.099575</td>\n",
       "    </tr>\n",
       "    <tr>\n",
       "      <th>1</th>\n",
       "      <td>torchvision_alexnet_imagenet1k_v1</td>\n",
       "      <td>Linear-2-15</td>\n",
       "      <td>arousal</td>\n",
       "      <td>0.130174</td>\n",
       "    </tr>\n",
       "    <tr>\n",
       "      <th>4</th>\n",
       "      <td>torchvision_alexnet_imagenet1k_v1</td>\n",
       "      <td>Linear-2-15</td>\n",
       "      <td>dominance</td>\n",
       "      <td>0.133808</td>\n",
       "    </tr>\n",
       "    <tr>\n",
       "      <th>2</th>\n",
       "      <td>torchvision_alexnet_imagenet1k_v1</td>\n",
       "      <td>Linear-2-15</td>\n",
       "      <td>communication</td>\n",
       "      <td>0.229059</td>\n",
       "    </tr>\n",
       "    <tr>\n",
       "      <th>9</th>\n",
       "      <td>torchvision_alexnet_imagenet1k_v1</td>\n",
       "      <td>Linear-2-15</td>\n",
       "      <td>transitivity</td>\n",
       "      <td>0.229540</td>\n",
       "    </tr>\n",
       "    <tr>\n",
       "      <th>10</th>\n",
       "      <td>torchvision_alexnet_imagenet1k_v1</td>\n",
       "      <td>Linear-2-15</td>\n",
       "      <td>valence</td>\n",
       "      <td>0.239930</td>\n",
       "    </tr>\n",
       "    <tr>\n",
       "      <th>7</th>\n",
       "      <td>torchvision_alexnet_imagenet1k_v1</td>\n",
       "      <td>Linear-2-15</td>\n",
       "      <td>intimacy</td>\n",
       "      <td>0.456491</td>\n",
       "    </tr>\n",
       "    <tr>\n",
       "      <th>0</th>\n",
       "      <td>torchvision_alexnet_imagenet1k_v1</td>\n",
       "      <td>Linear-2-15</td>\n",
       "      <td>agent_distance</td>\n",
       "      <td>0.538364</td>\n",
       "    </tr>\n",
       "    <tr>\n",
       "      <th>5</th>\n",
       "      <td>torchvision_alexnet_imagenet1k_v1</td>\n",
       "      <td>Linear-2-15</td>\n",
       "      <td>expanse</td>\n",
       "      <td>0.743558</td>\n",
       "    </tr>\n",
       "  </tbody>\n",
       "</table>\n",
       "</div>"
      ],
      "text/plain": [
       "                            model_uid  model_layer          target     score\n",
       "8   torchvision_alexnet_imagenet1k_v1  Linear-2-15    joint_action -0.093655\n",
       "3   torchvision_alexnet_imagenet1k_v1  Linear-2-15     cooperation  0.094823\n",
       "6   torchvision_alexnet_imagenet1k_v1  Linear-2-15      facingness  0.099575\n",
       "1   torchvision_alexnet_imagenet1k_v1  Linear-2-15         arousal  0.130174\n",
       "4   torchvision_alexnet_imagenet1k_v1  Linear-2-15       dominance  0.133808\n",
       "2   torchvision_alexnet_imagenet1k_v1  Linear-2-15   communication  0.229059\n",
       "9   torchvision_alexnet_imagenet1k_v1  Linear-2-15    transitivity  0.229540\n",
       "10  torchvision_alexnet_imagenet1k_v1  Linear-2-15         valence  0.239930\n",
       "7   torchvision_alexnet_imagenet1k_v1  Linear-2-15        intimacy  0.456491\n",
       "0   torchvision_alexnet_imagenet1k_v1  Linear-2-15  agent_distance  0.538364\n",
       "5   torchvision_alexnet_imagenet1k_v1  Linear-2-15         expanse  0.743558"
      ]
     },
     "execution_count": 9,
     "metadata": {},
     "output_type": "execute_result"
    }
   ],
   "source": [
    "(results.query(pdq('model_layer', 'Linear-2-15'))\n",
    " .groupby(['model_uid','model_layer','target'])\n",
    " ['score'].mean().reset_index().sort_values(by='score'))"
   ]
  },
  {
   "cell_type": "code",
   "execution_count": null,
   "id": "cf8f7264-bddf-4ddb-87d8-a4d1882e58b9",
   "metadata": {},
   "outputs": [],
   "source": []
  }
 ],
 "metadata": {
  "kernelspec": {
   "display_name": "deepjuice",
   "language": "python",
   "name": "deepjuice"
  },
  "language_info": {
   "codemirror_mode": {
    "name": "ipython",
    "version": 3
   },
   "file_extension": ".py",
   "mimetype": "text/x-python",
   "name": "python",
   "nbconvert_exporter": "python",
   "pygments_lexer": "ipython3",
   "version": "3.12.1"
  },
  "widgets": {
   "application/vnd.jupyter.widget-state+json": {
    "state": {
     "0092aa7e313c41b18d9279156b22985c": {
      "model_module": "@jupyter-widgets/controls",
      "model_module_version": "2.0.0",
      "model_name": "HTMLStyleModel",
      "state": {
       "description_width": "",
       "font_size": null,
       "text_color": null
      }
     },
     "00ca7d5be16243a982b86fb9aad6558e": {
      "model_module": "@jupyter-widgets/controls",
      "model_module_version": "2.0.0",
      "model_name": "FloatProgressModel",
      "state": {
       "bar_style": "success",
       "layout": "IPY_MODEL_553d1af3fd144bdab1b1b8d9db5d9748",
       "max": 250,
       "style": "IPY_MODEL_ab23c03af3354c6c8e9da3eda47d1f9d",
       "value": 250
      }
     },
     "01a026d716134728b3283ae5003f0ba1": {
      "model_module": "@jupyter-widgets/controls",
      "model_module_version": "2.0.0",
      "model_name": "HTMLModel",
      "state": {
       "layout": "IPY_MODEL_34f86f8c5c1d48e49db657d29d34e0c3",
       "style": "IPY_MODEL_42b72247f3494ad6b2e6b0294724d528",
       "value": " 18/18 [00:18&lt;00:00,  1.03it/s]"
      }
     },
     "024c34e9ba1a40938802a997f0c299f4": {
      "model_module": "@jupyter-widgets/controls",
      "model_module_version": "2.0.0",
      "model_name": "HTMLModel",
      "state": {
       "layout": "IPY_MODEL_2a887be497ed4900838a7384cacba821",
       "style": "IPY_MODEL_184b1708a24e4cffb87bb77dff5bec81",
       "value": "Feature Extraction (DataLoader): 100%"
      }
     },
     "025144a070ae4530be0e1c1dfa070129": {
      "model_module": "@jupyter-widgets/controls",
      "model_module_version": "2.0.0",
      "model_name": "HTMLStyleModel",
      "state": {
       "description_width": "",
       "font_size": null,
       "text_color": null
      }
     },
     "03825997e0fd454f99e779d46b80a440": {
      "model_module": "@jupyter-widgets/controls",
      "model_module_version": "2.0.0",
      "model_name": "HTMLModel",
      "state": {
       "layout": "IPY_MODEL_c18d9cdf170b4300a3822827dff0edba",
       "style": "IPY_MODEL_1590e2d671724a7da0920988f21bb6bb",
       "value": "Feature Extraction (DataLoader): 100%"
      }
     },
     "0398602eb21a43c4a5ea7016d54c2034": {
      "model_module": "@jupyter-widgets/base",
      "model_module_version": "2.0.0",
      "model_name": "LayoutModel",
      "state": {}
     },
     "055daf0a474f441c8a4ca5252b47f9f2": {
      "model_module": "@jupyter-widgets/controls",
      "model_module_version": "2.0.0",
      "model_name": "HTMLStyleModel",
      "state": {
       "description_width": "",
       "font_size": null,
       "text_color": null
      }
     },
     "0573679be180454abf669536ba88f3c1": {
      "model_module": "@jupyter-widgets/controls",
      "model_module_version": "2.0.0",
      "model_name": "HTMLModel",
      "state": {
       "layout": "IPY_MODEL_ee38ac69fd3f4faf87467fda33312f1c",
       "style": "IPY_MODEL_dfac3575c9ff46b4b4f5392e34288f43",
       "value": "Feature Extraction (DataLoader): 100%"
      }
     },
     "07b5a16023fb40619c278c1ad0cf89a1": {
      "model_module": "@jupyter-widgets/base",
      "model_module_version": "2.0.0",
      "model_name": "LayoutModel",
      "state": {}
     },
     "07f0073e72884c76ad696f898ea51e7f": {
      "model_module": "@jupyter-widgets/controls",
      "model_module_version": "2.0.0",
      "model_name": "HTMLStyleModel",
      "state": {
       "description_width": "",
       "font_size": null,
       "text_color": null
      }
     },
     "09e37336234f46b0a9b360e1bd6ea2db": {
      "model_module": "@jupyter-widgets/base",
      "model_module_version": "2.0.0",
      "model_name": "LayoutModel",
      "state": {}
     },
     "0a74349ce6fb4b6ea2897fa97fbe4930": {
      "model_module": "@jupyter-widgets/controls",
      "model_module_version": "2.0.0",
      "model_name": "HTMLModel",
      "state": {
       "layout": "IPY_MODEL_dce0b33468644c67bf440606989df480",
       "style": "IPY_MODEL_b554e7d67a1b43a180bffb7ac319b45b",
       "value": " 250/250 [00:00&lt;00:00, 7196.72it/s]"
      }
     },
     "0a9b12ffd5e8488797521269a0a3c975": {
      "model_module": "@jupyter-widgets/controls",
      "model_module_version": "2.0.0",
      "model_name": "HBoxModel",
      "state": {
       "children": [
        "IPY_MODEL_786856f2954945f3bef178b7d3b35dc0",
        "IPY_MODEL_a5b7e56e483346a08466e04534ea11ab",
        "IPY_MODEL_f852890ccff541b19a85de072c63b624"
       ],
       "layout": "IPY_MODEL_590bef71a9064b1b9a08ef83001174dc"
      }
     },
     "0ba5a1e57d424faa91ee5b1427bb8958": {
      "model_module": "@jupyter-widgets/controls",
      "model_module_version": "2.0.0",
      "model_name": "ProgressStyleModel",
      "state": {
       "description_width": ""
      }
     },
     "0e1aa785ac644a919060e2796875ad5a": {
      "model_module": "@jupyter-widgets/controls",
      "model_module_version": "2.0.0",
      "model_name": "FloatProgressModel",
      "state": {
       "bar_style": "success",
       "layout": "IPY_MODEL_0f805ede9f8b46828ce7c8b4347458f5",
       "max": 4,
       "style": "IPY_MODEL_0ba5a1e57d424faa91ee5b1427bb8958",
       "value": 4
      }
     },
     "0f473e06089040eebe04301a69373d31": {
      "model_module": "@jupyter-widgets/base",
      "model_module_version": "2.0.0",
      "model_name": "LayoutModel",
      "state": {}
     },
     "0f805ede9f8b46828ce7c8b4347458f5": {
      "model_module": "@jupyter-widgets/base",
      "model_module_version": "2.0.0",
      "model_name": "LayoutModel",
      "state": {}
     },
     "0fd4af62fffa440f926af4d9a3c3ac48": {
      "model_module": "@jupyter-widgets/base",
      "model_module_version": "2.0.0",
      "model_name": "LayoutModel",
      "state": {}
     },
     "12c5dfc48d95482d80f25f32e612ed7c": {
      "model_module": "@jupyter-widgets/controls",
      "model_module_version": "2.0.0",
      "model_name": "HBoxModel",
      "state": {
       "children": [
        "IPY_MODEL_c73a6d5e861646c79dbd7718ea0a2025",
        "IPY_MODEL_28cf2cd1f8c04f56a2bd581362072471",
        "IPY_MODEL_26da96147c8549189bc6f34671048868"
       ],
       "layout": "IPY_MODEL_32b9efd4585a4e9db709a4eed9312a24"
      }
     },
     "1590e2d671724a7da0920988f21bb6bb": {
      "model_module": "@jupyter-widgets/controls",
      "model_module_version": "2.0.0",
      "model_name": "HTMLStyleModel",
      "state": {
       "description_width": "",
       "font_size": null,
       "text_color": null
      }
     },
     "15eb420d3037497fae4559061392c870": {
      "model_module": "@jupyter-widgets/controls",
      "model_module_version": "2.0.0",
      "model_name": "HBoxModel",
      "state": {
       "children": [
        "IPY_MODEL_e5a4e6e939534efa92f9a7cc11e42ed2",
        "IPY_MODEL_c73342e147594c20b2449e82cc806b3b",
        "IPY_MODEL_1a8fdfdde6bd47b390c52ad5411d0813"
       ],
       "layout": "IPY_MODEL_4851ffc2c3644a0f98e93191c6550f74"
      }
     },
     "177129fb1e914ada980ed7238fc54658": {
      "model_module": "@jupyter-widgets/base",
      "model_module_version": "2.0.0",
      "model_name": "LayoutModel",
      "state": {}
     },
     "18170754050e44f5b53cab336a91839d": {
      "model_module": "@jupyter-widgets/controls",
      "model_module_version": "2.0.0",
      "model_name": "FloatProgressModel",
      "state": {
       "bar_style": "success",
       "layout": "IPY_MODEL_4948e12a83a648329ab5b8c5b39cb7c4",
       "max": 250,
       "style": "IPY_MODEL_a54fac00f9c749a2bfba5241ea136182",
       "value": 250
      }
     },
     "184b1708a24e4cffb87bb77dff5bec81": {
      "model_module": "@jupyter-widgets/controls",
      "model_module_version": "2.0.0",
      "model_name": "HTMLStyleModel",
      "state": {
       "description_width": "",
       "font_size": null,
       "text_color": null
      }
     },
     "1a8fdfdde6bd47b390c52ad5411d0813": {
      "model_module": "@jupyter-widgets/controls",
      "model_module_version": "2.0.0",
      "model_name": "HTMLModel",
      "state": {
       "layout": "IPY_MODEL_ee29928e8e5041809a5c8d59642b771e",
       "style": "IPY_MODEL_ae7668f1994a42db922e7395bc661aef",
       "value": " 250/250 [00:00&lt;00:00, 8097.99it/s]"
      }
     },
     "1e27b7dd9fad4b2e9b788f3202356885": {
      "model_module": "@jupyter-widgets/controls",
      "model_module_version": "2.0.0",
      "model_name": "FloatProgressModel",
      "state": {
       "bar_style": "success",
       "layout": "IPY_MODEL_22fa7aa45a874ed4969a173ce1269223",
       "max": 250,
       "style": "IPY_MODEL_f8578504542e4cdfb9f279eee9f4f1c4",
       "value": 250
      }
     },
     "1f0ffda9c8924f3fbbed20a9e865d2f2": {
      "model_module": "@jupyter-widgets/base",
      "model_module_version": "2.0.0",
      "model_name": "LayoutModel",
      "state": {}
     },
     "1f3e2d24dc404be8ae89e0f4e5607e1b": {
      "model_module": "@jupyter-widgets/controls",
      "model_module_version": "2.0.0",
      "model_name": "HTMLModel",
      "state": {
       "layout": "IPY_MODEL_6ce789da22dd43b7b257bb5901ed0499",
       "style": "IPY_MODEL_07f0073e72884c76ad696f898ea51e7f",
       "value": " 1/1 [00:47&lt;00:00, 47.59s/it]"
      }
     },
     "21c7d5b1068141fb877bbb81362d6afe": {
      "model_module": "@jupyter-widgets/base",
      "model_module_version": "2.0.0",
      "model_name": "LayoutModel",
      "state": {}
     },
     "225dbb8a9d884cc2b1e502262c838c43": {
      "model_module": "@jupyter-widgets/base",
      "model_module_version": "2.0.0",
      "model_name": "LayoutModel",
      "state": {}
     },
     "22fa7aa45a874ed4969a173ce1269223": {
      "model_module": "@jupyter-widgets/base",
      "model_module_version": "2.0.0",
      "model_name": "LayoutModel",
      "state": {}
     },
     "237091aaa5284293a7c0ad33a045e8aa": {
      "model_module": "@jupyter-widgets/controls",
      "model_module_version": "2.0.0",
      "model_name": "ProgressStyleModel",
      "state": {
       "description_width": ""
      }
     },
     "243fb3d4f8304c1a9094a0fa3c550e97": {
      "model_module": "@jupyter-widgets/controls",
      "model_module_version": "2.0.0",
      "model_name": "ProgressStyleModel",
      "state": {
       "description_width": ""
      }
     },
     "24653bbc83a34cecbd172bfafdfc3f35": {
      "model_module": "@jupyter-widgets/base",
      "model_module_version": "2.0.0",
      "model_name": "LayoutModel",
      "state": {}
     },
     "248c8a6c1a95412a800775b598d73d1a": {
      "model_module": "@jupyter-widgets/controls",
      "model_module_version": "2.0.0",
      "model_name": "HTMLModel",
      "state": {
       "layout": "IPY_MODEL_9bfc5680e20d41fe8c28370b2be0d3f8",
       "style": "IPY_MODEL_b44f0fe94e3744a2973e3cda66dfb48c",
       "value": " 4/4 [00:03&lt;00:00,  1.13it/s]"
      }
     },
     "26da96147c8549189bc6f34671048868": {
      "model_module": "@jupyter-widgets/controls",
      "model_module_version": "2.0.0",
      "model_name": "HTMLModel",
      "state": {
       "layout": "IPY_MODEL_e926bf1bab7c4b00805b1f0bb890bd93",
       "style": "IPY_MODEL_055daf0a474f441c8a4ca5252b47f9f2",
       "value": " 250/250 [00:00&lt;00:00, 6920.47it/s]"
      }
     },
     "26eac1f5b63e4426946e72156bfb641b": {
      "model_module": "@jupyter-widgets/base",
      "model_module_version": "2.0.0",
      "model_name": "LayoutModel",
      "state": {}
     },
     "28cf2cd1f8c04f56a2bd581362072471": {
      "model_module": "@jupyter-widgets/controls",
      "model_module_version": "2.0.0",
      "model_name": "FloatProgressModel",
      "state": {
       "bar_style": "success",
       "layout": "IPY_MODEL_984f14366f0b40d299d3871cb9f41a9b",
       "max": 250,
       "style": "IPY_MODEL_cf0e06a2c0a749e394d92686407abbc2",
       "value": 250
      }
     },
     "29962f07fa4748698a43dd86b58804c6": {
      "model_module": "@jupyter-widgets/controls",
      "model_module_version": "2.0.0",
      "model_name": "HBoxModel",
      "state": {
       "children": [
        "IPY_MODEL_32949ecba1dc4b1ab2aec6f6a27510d4",
        "IPY_MODEL_5ea4218bf8d140c3b8451f9c62943333",
        "IPY_MODEL_9fe31b3b74574b18b077ca96c9b706eb"
       ],
       "layout": "IPY_MODEL_85b91a2ccb2748daa85f4193ec2ef3c4"
      }
     },
     "2a887be497ed4900838a7384cacba821": {
      "model_module": "@jupyter-widgets/base",
      "model_module_version": "2.0.0",
      "model_name": "LayoutModel",
      "state": {}
     },
     "2d95fb233e6b4cbba684ed113a5a4461": {
      "model_module": "@jupyter-widgets/controls",
      "model_module_version": "2.0.0",
      "model_name": "HTMLStyleModel",
      "state": {
       "description_width": "",
       "font_size": null,
       "text_color": null
      }
     },
     "2ddc37da47ac4b28ba9f295696677e7f": {
      "model_module": "@jupyter-widgets/base",
      "model_module_version": "2.0.0",
      "model_name": "LayoutModel",
      "state": {}
     },
     "2e3ee5d0cc924b8bb20a5b3b5c6f9b47": {
      "model_module": "@jupyter-widgets/controls",
      "model_module_version": "2.0.0",
      "model_name": "HTMLModel",
      "state": {
       "layout": "IPY_MODEL_6bdf9f05e5994c10b65b2ed2806aa9d5",
       "style": "IPY_MODEL_be16b6b25ea342f69986aa0d090c3826",
       "value": "Processing Event Videos: 100%"
      }
     },
     "2e9e8180076d44308cd37b98648757fb": {
      "model_module": "@jupyter-widgets/base",
      "model_module_version": "2.0.0",
      "model_name": "LayoutModel",
      "state": {}
     },
     "2fccd3aa081d4b9584a1a86a1851b856": {
      "model_module": "@jupyter-widgets/base",
      "model_module_version": "2.0.0",
      "model_name": "LayoutModel",
      "state": {}
     },
     "307ab2ea3c604120906c5bf9cfd9bfb1": {
      "model_module": "@jupyter-widgets/controls",
      "model_module_version": "2.0.0",
      "model_name": "HTMLStyleModel",
      "state": {
       "description_width": "",
       "font_size": null,
       "text_color": null
      }
     },
     "32949ecba1dc4b1ab2aec6f6a27510d4": {
      "model_module": "@jupyter-widgets/controls",
      "model_module_version": "2.0.0",
      "model_name": "HTMLModel",
      "state": {
       "layout": "IPY_MODEL_aa1318daf5814b9eb28820337e75ac6e",
       "style": "IPY_MODEL_2d95fb233e6b4cbba684ed113a5a4461",
       "value": "Social Event Mapping (Layer): 100%"
      }
     },
     "32b9efd4585a4e9db709a4eed9312a24": {
      "model_module": "@jupyter-widgets/base",
      "model_module_version": "2.0.0",
      "model_name": "LayoutModel",
      "state": {}
     },
     "347ee2fec09d42ec958dd41c9d1d5edd": {
      "model_module": "@jupyter-widgets/controls",
      "model_module_version": "2.0.0",
      "model_name": "FloatProgressModel",
      "state": {
       "bar_style": "success",
       "layout": "IPY_MODEL_07b5a16023fb40619c278c1ad0cf89a1",
       "max": 1,
       "style": "IPY_MODEL_237091aaa5284293a7c0ad33a045e8aa",
       "value": 1
      }
     },
     "34f86f8c5c1d48e49db657d29d34e0c3": {
      "model_module": "@jupyter-widgets/base",
      "model_module_version": "2.0.0",
      "model_name": "LayoutModel",
      "state": {}
     },
     "37d805ef0ead428ea8bf106a910f4c13": {
      "model_module": "@jupyter-widgets/controls",
      "model_module_version": "2.0.0",
      "model_name": "HTMLStyleModel",
      "state": {
       "description_width": "",
       "font_size": null,
       "text_color": null
      }
     },
     "37ecf2e587c0463c8319f04f5dcd28d4": {
      "model_module": "@jupyter-widgets/controls",
      "model_module_version": "2.0.0",
      "model_name": "ProgressStyleModel",
      "state": {
       "description_width": ""
      }
     },
     "3e1ed312985e4144ac3bcc7612fc9e3e": {
      "model_module": "@jupyter-widgets/controls",
      "model_module_version": "2.0.0",
      "model_name": "HTMLModel",
      "state": {
       "layout": "IPY_MODEL_5771545a8f66491681944743a6818c1a",
       "style": "IPY_MODEL_8fafbda2a44743c18c12fde762348ff5",
       "value": " 1/1 [00:33&lt;00:00, 33.58s/it]"
      }
     },
     "41348531eb8845ee8c2166969d45c206": {
      "model_module": "@jupyter-widgets/controls",
      "model_module_version": "2.0.0",
      "model_name": "HTMLModel",
      "state": {
       "layout": "IPY_MODEL_24653bbc83a34cecbd172bfafdfc3f35",
       "style": "IPY_MODEL_fda770d7f6954bcb899565421fc15bcc",
       "value": " 1/1 [00:35&lt;00:00, 35.03s/it]"
      }
     },
     "41d92db1c4b74ea1a5ef292895913920": {
      "model_module": "@jupyter-widgets/base",
      "model_module_version": "2.0.0",
      "model_name": "LayoutModel",
      "state": {}
     },
     "42b72247f3494ad6b2e6b0294724d528": {
      "model_module": "@jupyter-widgets/controls",
      "model_module_version": "2.0.0",
      "model_name": "HTMLStyleModel",
      "state": {
       "description_width": "",
       "font_size": null,
       "text_color": null
      }
     },
     "44dd89d64bd5417790f2c74b2a3816ca": {
      "model_module": "@jupyter-widgets/controls",
      "model_module_version": "2.0.0",
      "model_name": "ProgressStyleModel",
      "state": {
       "description_width": ""
      }
     },
     "4851ffc2c3644a0f98e93191c6550f74": {
      "model_module": "@jupyter-widgets/base",
      "model_module_version": "2.0.0",
      "model_name": "LayoutModel",
      "state": {}
     },
     "4948e12a83a648329ab5b8c5b39cb7c4": {
      "model_module": "@jupyter-widgets/base",
      "model_module_version": "2.0.0",
      "model_name": "LayoutModel",
      "state": {}
     },
     "496a13c5de4944558548f2560f9726c2": {
      "model_module": "@jupyter-widgets/base",
      "model_module_version": "2.0.0",
      "model_name": "LayoutModel",
      "state": {}
     },
     "4c2b6c89ccda44af8487458ffa84e2fa": {
      "model_module": "@jupyter-widgets/base",
      "model_module_version": "2.0.0",
      "model_name": "LayoutModel",
      "state": {}
     },
     "4cb3e2eb778146a2959acfd6c10edd16": {
      "model_module": "@jupyter-widgets/controls",
      "model_module_version": "2.0.0",
      "model_name": "HBoxModel",
      "state": {
       "children": [
        "IPY_MODEL_90f89d790ab241abafe08d785c434dbd",
        "IPY_MODEL_18170754050e44f5b53cab336a91839d",
        "IPY_MODEL_5930cd304978485091fec543bfa0a892"
       ],
       "layout": "IPY_MODEL_496a13c5de4944558548f2560f9726c2"
      }
     },
     "4e2aa80101494252a4b771ae925c606b": {
      "model_module": "@jupyter-widgets/controls",
      "model_module_version": "2.0.0",
      "model_name": "HTMLModel",
      "state": {
       "layout": "IPY_MODEL_c7b34482b6c243b6bff51a16012ee622",
       "style": "IPY_MODEL_9925ba1973ad4362911abfd1e2f7444f",
       "value": " 24/24 [00:27&lt;00:00,  1.88it/s]"
      }
     },
     "52bbdd0068ba475f95ee1efff39371cc": {
      "model_module": "@jupyter-widgets/controls",
      "model_module_version": "2.0.0",
      "model_name": "HBoxModel",
      "state": {
       "children": [
        "IPY_MODEL_eb9f3eecbeb24c158f9162384618aae7",
        "IPY_MODEL_f28491dd52314460a6b50d1b90d92715",
        "IPY_MODEL_1f3e2d24dc404be8ae89e0f4e5607e1b"
       ],
       "layout": "IPY_MODEL_57a064cfd18e422c825ad72b0495fba2"
      }
     },
     "553d1af3fd144bdab1b1b8d9db5d9748": {
      "model_module": "@jupyter-widgets/base",
      "model_module_version": "2.0.0",
      "model_name": "LayoutModel",
      "state": {}
     },
     "55b11d8506204dfc97af35e948ebbd66": {
      "model_module": "@jupyter-widgets/controls",
      "model_module_version": "2.0.0",
      "model_name": "ProgressStyleModel",
      "state": {
       "description_width": ""
      }
     },
     "5771545a8f66491681944743a6818c1a": {
      "model_module": "@jupyter-widgets/base",
      "model_module_version": "2.0.0",
      "model_name": "LayoutModel",
      "state": {}
     },
     "57a064cfd18e422c825ad72b0495fba2": {
      "model_module": "@jupyter-widgets/base",
      "model_module_version": "2.0.0",
      "model_name": "LayoutModel",
      "state": {}
     },
     "588f917ff6fa495792920184e9846baa": {
      "model_module": "@jupyter-widgets/base",
      "model_module_version": "2.0.0",
      "model_name": "LayoutModel",
      "state": {}
     },
     "590bef71a9064b1b9a08ef83001174dc": {
      "model_module": "@jupyter-widgets/base",
      "model_module_version": "2.0.0",
      "model_name": "LayoutModel",
      "state": {}
     },
     "5930cd304978485091fec543bfa0a892": {
      "model_module": "@jupyter-widgets/controls",
      "model_module_version": "2.0.0",
      "model_name": "HTMLModel",
      "state": {
       "layout": "IPY_MODEL_eb4b23e7313e44e0856b88c11f8a0437",
       "style": "IPY_MODEL_0092aa7e313c41b18d9279156b22985c",
       "value": " 250/250 [00:00&lt;00:00, 7942.25it/s]"
      }
     },
     "5d2469983c9e41c28857bf4cc7c2103a": {
      "model_module": "@jupyter-widgets/controls",
      "model_module_version": "2.0.0",
      "model_name": "FloatProgressModel",
      "state": {
       "bar_style": "success",
       "layout": "IPY_MODEL_0f473e06089040eebe04301a69373d31",
       "max": 250,
       "style": "IPY_MODEL_37ecf2e587c0463c8319f04f5dcd28d4",
       "value": 250
      }
     },
     "5d3b9db148b8483d89d971e0088fce4c": {
      "model_module": "@jupyter-widgets/base",
      "model_module_version": "2.0.0",
      "model_name": "LayoutModel",
      "state": {}
     },
     "5ea4218bf8d140c3b8451f9c62943333": {
      "model_module": "@jupyter-widgets/controls",
      "model_module_version": "2.0.0",
      "model_name": "FloatProgressModel",
      "state": {
       "bar_style": "success",
       "layout": "IPY_MODEL_c2edb14ab8b34e9490bf65a9bc022791",
       "max": 24,
       "style": "IPY_MODEL_836f283f047641898557322ddd1fa61f",
       "value": 24
      }
     },
     "5f3c6202696840df87aec7cce995d09a": {
      "model_module": "@jupyter-widgets/base",
      "model_module_version": "2.0.0",
      "model_name": "LayoutModel",
      "state": {}
     },
     "5fcc1d4204b14f88b48c66b63b440023": {
      "model_module": "@jupyter-widgets/controls",
      "model_module_version": "2.0.0",
      "model_name": "HTMLStyleModel",
      "state": {
       "description_width": "",
       "font_size": null,
       "text_color": null
      }
     },
     "62d8019551d14d91ab11fb32f3fbd011": {
      "model_module": "@jupyter-widgets/controls",
      "model_module_version": "2.0.0",
      "model_name": "HTMLStyleModel",
      "state": {
       "description_width": "",
       "font_size": null,
       "text_color": null
      }
     },
     "64d96148e9c540c4be96e5e1c99fc4dc": {
      "model_module": "@jupyter-widgets/controls",
      "model_module_version": "2.0.0",
      "model_name": "ProgressStyleModel",
      "state": {
       "description_width": ""
      }
     },
     "65180d364411413dbca9e1b323e6ce44": {
      "model_module": "@jupyter-widgets/controls",
      "model_module_version": "2.0.0",
      "model_name": "HBoxModel",
      "state": {
       "children": [
        "IPY_MODEL_cc2575b0493844229b621f036b1962cb",
        "IPY_MODEL_98755ac01efb4d7e8e8744719e12335f",
        "IPY_MODEL_4e2aa80101494252a4b771ae925c606b"
       ],
       "layout": "IPY_MODEL_eb8d8c572d854ed5a0aed66fddca8693"
      }
     },
     "6a059bd5616f4870b2d64aec0f6c38b3": {
      "model_module": "@jupyter-widgets/controls",
      "model_module_version": "2.0.0",
      "model_name": "HTMLModel",
      "state": {
       "layout": "IPY_MODEL_ada36379e2194cb0ae0440eca54ed004",
       "style": "IPY_MODEL_ff7e115da9b24f78aaae399a458730d3",
       "value": " 250/250 [00:00&lt;00:00, 7896.44it/s]"
      }
     },
     "6a169627451e425e81f3ba01a78f4b54": {
      "model_module": "@jupyter-widgets/base",
      "model_module_version": "2.0.0",
      "model_name": "LayoutModel",
      "state": {}
     },
     "6bdf9f05e5994c10b65b2ed2806aa9d5": {
      "model_module": "@jupyter-widgets/base",
      "model_module_version": "2.0.0",
      "model_name": "LayoutModel",
      "state": {}
     },
     "6ce789da22dd43b7b257bb5901ed0499": {
      "model_module": "@jupyter-widgets/base",
      "model_module_version": "2.0.0",
      "model_name": "LayoutModel",
      "state": {}
     },
     "6eeb365027504986a7d66bf846bb0c81": {
      "model_module": "@jupyter-widgets/controls",
      "model_module_version": "2.0.0",
      "model_name": "HTMLModel",
      "state": {
       "layout": "IPY_MODEL_0fd4af62fffa440f926af4d9a3c3ac48",
       "style": "IPY_MODEL_7061671a56a5458184c697a1d03aae6c",
       "value": "Processing Event Videos: 100%"
      }
     },
     "7061671a56a5458184c697a1d03aae6c": {
      "model_module": "@jupyter-widgets/controls",
      "model_module_version": "2.0.0",
      "model_name": "HTMLStyleModel",
      "state": {
       "description_width": "",
       "font_size": null,
       "text_color": null
      }
     },
     "70a48a5532bd49238df90a7389e9b1ca": {
      "model_module": "@jupyter-widgets/controls",
      "model_module_version": "2.0.0",
      "model_name": "HTMLStyleModel",
      "state": {
       "description_width": "",
       "font_size": null,
       "text_color": null
      }
     },
     "70e7f02f9a6546fbb11469ab75487d3d": {
      "model_module": "@jupyter-widgets/controls",
      "model_module_version": "2.0.0",
      "model_name": "HTMLModel",
      "state": {
       "layout": "IPY_MODEL_fce645771a874b8ab6762bb5ad062fba",
       "style": "IPY_MODEL_aa79bc6394584598955876a61429290a",
       "value": "Global Progress (Extractor Batch): 100%"
      }
     },
     "72489e62e40c4789b000ae609ffa65b9": {
      "model_module": "@jupyter-widgets/controls",
      "model_module_version": "2.0.0",
      "model_name": "HTMLModel",
      "state": {
       "layout": "IPY_MODEL_fc2ff03f7c49494c8720f18c4a06bb2e",
       "style": "IPY_MODEL_95dace80cbe6415ebee15f34b53e9f3f",
       "value": "Processing Event Videos: 100%"
      }
     },
     "77d5aded1f004bdfabccb132b603b9f8": {
      "model_module": "@jupyter-widgets/base",
      "model_module_version": "2.0.0",
      "model_name": "LayoutModel",
      "state": {}
     },
     "786856f2954945f3bef178b7d3b35dc0": {
      "model_module": "@jupyter-widgets/controls",
      "model_module_version": "2.0.0",
      "model_name": "HTMLModel",
      "state": {
       "layout": "IPY_MODEL_d637545acedc47c6a81231a823edd389",
       "style": "IPY_MODEL_62d8019551d14d91ab11fb32f3fbd011",
       "value": "Processing Event Videos: 100%"
      }
     },
     "79f3fad10ade4cb499113e12b4567599": {
      "model_module": "@jupyter-widgets/base",
      "model_module_version": "2.0.0",
      "model_name": "LayoutModel",
      "state": {}
     },
     "7dcd2384840a422095a64bf775c37b2c": {
      "model_module": "@jupyter-widgets/controls",
      "model_module_version": "2.0.0",
      "model_name": "ProgressStyleModel",
      "state": {
       "description_width": ""
      }
     },
     "7e6fb69c53e14748bdd25c2b9d55a5a7": {
      "model_module": "@jupyter-widgets/base",
      "model_module_version": "2.0.0",
      "model_name": "LayoutModel",
      "state": {}
     },
     "80846c9a7bd1428c8950ba59acbfb7c9": {
      "model_module": "@jupyter-widgets/base",
      "model_module_version": "2.0.0",
      "model_name": "LayoutModel",
      "state": {}
     },
     "836f283f047641898557322ddd1fa61f": {
      "model_module": "@jupyter-widgets/controls",
      "model_module_version": "2.0.0",
      "model_name": "ProgressStyleModel",
      "state": {
       "description_width": ""
      }
     },
     "85b91a2ccb2748daa85f4193ec2ef3c4": {
      "model_module": "@jupyter-widgets/base",
      "model_module_version": "2.0.0",
      "model_name": "LayoutModel",
      "state": {}
     },
     "8921c5dfa4f342f18a7c67d01f4cb13c": {
      "model_module": "@jupyter-widgets/controls",
      "model_module_version": "2.0.0",
      "model_name": "HTMLModel",
      "state": {
       "layout": "IPY_MODEL_41d92db1c4b74ea1a5ef292895913920",
       "style": "IPY_MODEL_8abca206d9ad4e4da67a12fa4db7e2a0",
       "value": "Social Event Annotation (Layer): 100%"
      }
     },
     "8abca206d9ad4e4da67a12fa4db7e2a0": {
      "model_module": "@jupyter-widgets/controls",
      "model_module_version": "2.0.0",
      "model_name": "HTMLStyleModel",
      "state": {
       "description_width": "",
       "font_size": null,
       "text_color": null
      }
     },
     "8ba33cd988b247b08323c581ba02ba32": {
      "model_module": "@jupyter-widgets/controls",
      "model_module_version": "2.0.0",
      "model_name": "HBoxModel",
      "state": {
       "children": [
        "IPY_MODEL_8921c5dfa4f342f18a7c67d01f4cb13c",
        "IPY_MODEL_90c970ff833c417493e5159a253e861b",
        "IPY_MODEL_b5e9553e06ff479689d7d2623e8aa06b"
       ],
       "layout": "IPY_MODEL_588f917ff6fa495792920184e9846baa"
      }
     },
     "8f8854520c154f63adc4a2426bb007b9": {
      "model_module": "@jupyter-widgets/controls",
      "model_module_version": "2.0.0",
      "model_name": "ProgressStyleModel",
      "state": {
       "description_width": ""
      }
     },
     "8fafbda2a44743c18c12fde762348ff5": {
      "model_module": "@jupyter-widgets/controls",
      "model_module_version": "2.0.0",
      "model_name": "HTMLStyleModel",
      "state": {
       "description_width": "",
       "font_size": null,
       "text_color": null
      }
     },
     "905691e4823d42359a7ed10718bc69b7": {
      "model_module": "@jupyter-widgets/controls",
      "model_module_version": "2.0.0",
      "model_name": "HTMLStyleModel",
      "state": {
       "description_width": "",
       "font_size": null,
       "text_color": null
      }
     },
     "90c970ff833c417493e5159a253e861b": {
      "model_module": "@jupyter-widgets/controls",
      "model_module_version": "2.0.0",
      "model_name": "FloatProgressModel",
      "state": {
       "bar_style": "success",
       "layout": "IPY_MODEL_2e9e8180076d44308cd37b98648757fb",
       "max": 24,
       "style": "IPY_MODEL_c83d25cb7bd041b290a91ab7654568d1",
       "value": 24
      }
     },
     "90f89d790ab241abafe08d785c434dbd": {
      "model_module": "@jupyter-widgets/controls",
      "model_module_version": "2.0.0",
      "model_name": "HTMLModel",
      "state": {
       "layout": "IPY_MODEL_0398602eb21a43c4a5ea7016d54c2034",
       "style": "IPY_MODEL_f2e67d3b0ff8427ebb376e546ddc6947",
       "value": "Processing Event Videos: 100%"
      }
     },
     "923618ad36154e61a5a2fe94dcfe1652": {
      "model_module": "@jupyter-widgets/base",
      "model_module_version": "2.0.0",
      "model_name": "LayoutModel",
      "state": {}
     },
     "94cfa86fc5494dc49c8e716000008254": {
      "model_module": "@jupyter-widgets/controls",
      "model_module_version": "2.0.0",
      "model_name": "FloatProgressModel",
      "state": {
       "bar_style": "success",
       "layout": "IPY_MODEL_ab6d091c825c441296fe626d38e1c27a",
       "max": 1,
       "style": "IPY_MODEL_c393b348eede4ec88fa298f1fd456590",
       "value": 1
      }
     },
     "95dace80cbe6415ebee15f34b53e9f3f": {
      "model_module": "@jupyter-widgets/controls",
      "model_module_version": "2.0.0",
      "model_name": "HTMLStyleModel",
      "state": {
       "description_width": "",
       "font_size": null,
       "text_color": null
      }
     },
     "984f14366f0b40d299d3871cb9f41a9b": {
      "model_module": "@jupyter-widgets/base",
      "model_module_version": "2.0.0",
      "model_name": "LayoutModel",
      "state": {}
     },
     "98755ac01efb4d7e8e8744719e12335f": {
      "model_module": "@jupyter-widgets/controls",
      "model_module_version": "2.0.0",
      "model_name": "FloatProgressModel",
      "state": {
       "bar_style": "success",
       "layout": "IPY_MODEL_6a169627451e425e81f3ba01a78f4b54",
       "max": 24,
       "style": "IPY_MODEL_7dcd2384840a422095a64bf775c37b2c",
       "value": 24
      }
     },
     "9925ba1973ad4362911abfd1e2f7444f": {
      "model_module": "@jupyter-widgets/controls",
      "model_module_version": "2.0.0",
      "model_name": "HTMLStyleModel",
      "state": {
       "description_width": "",
       "font_size": null,
       "text_color": null
      }
     },
     "9bfc5680e20d41fe8c28370b2be0d3f8": {
      "model_module": "@jupyter-widgets/base",
      "model_module_version": "2.0.0",
      "model_name": "LayoutModel",
      "state": {}
     },
     "9ed4374f8c97456aaee83abf637abcac": {
      "model_module": "@jupyter-widgets/controls",
      "model_module_version": "2.0.0",
      "model_name": "HBoxModel",
      "state": {
       "children": [
        "IPY_MODEL_6eeb365027504986a7d66bf846bb0c81",
        "IPY_MODEL_5d2469983c9e41c28857bf4cc7c2103a",
        "IPY_MODEL_6a059bd5616f4870b2d64aec0f6c38b3"
       ],
       "layout": "IPY_MODEL_79f3fad10ade4cb499113e12b4567599"
      }
     },
     "9fe31b3b74574b18b077ca96c9b706eb": {
      "model_module": "@jupyter-widgets/controls",
      "model_module_version": "2.0.0",
      "model_name": "HTMLModel",
      "state": {
       "layout": "IPY_MODEL_cdfd4cf35a1a4e85ac5dbb295e26a496",
       "style": "IPY_MODEL_905691e4823d42359a7ed10718bc69b7",
       "value": " 24/24 [00:28&lt;00:00,  1.85it/s]"
      }
     },
     "a25013b5393748bf9e6b3dbe00bb592d": {
      "model_module": "@jupyter-widgets/controls",
      "model_module_version": "2.0.0",
      "model_name": "HBoxModel",
      "state": {
       "children": [
        "IPY_MODEL_2e3ee5d0cc924b8bb20a5b3b5c6f9b47",
        "IPY_MODEL_1e27b7dd9fad4b2e9b788f3202356885",
        "IPY_MODEL_c7f1b12de7b145b395a3c53cfc3fa2d1"
       ],
       "layout": "IPY_MODEL_80846c9a7bd1428c8950ba59acbfb7c9"
      }
     },
     "a54fac00f9c749a2bfba5241ea136182": {
      "model_module": "@jupyter-widgets/controls",
      "model_module_version": "2.0.0",
      "model_name": "ProgressStyleModel",
      "state": {
       "description_width": ""
      }
     },
     "a5b7e56e483346a08466e04534ea11ab": {
      "model_module": "@jupyter-widgets/controls",
      "model_module_version": "2.0.0",
      "model_name": "FloatProgressModel",
      "state": {
       "bar_style": "success",
       "layout": "IPY_MODEL_2fccd3aa081d4b9584a1a86a1851b856",
       "max": 250,
       "style": "IPY_MODEL_44dd89d64bd5417790f2c74b2a3816ca",
       "value": 250
      }
     },
     "a811fd8db19c4ab5944013aa9ac5bad0": {
      "model_module": "@jupyter-widgets/controls",
      "model_module_version": "2.0.0",
      "model_name": "FloatProgressModel",
      "state": {
       "bar_style": "success",
       "layout": "IPY_MODEL_2ddc37da47ac4b28ba9f295696677e7f",
       "max": 18,
       "style": "IPY_MODEL_f27d7a5bea5640e888995467f1b3f50e",
       "value": 18
      }
     },
     "a85dfe181f454d81b0970c9efd88590e": {
      "model_module": "@jupyter-widgets/controls",
      "model_module_version": "2.0.0",
      "model_name": "HTMLStyleModel",
      "state": {
       "description_width": "",
       "font_size": null,
       "text_color": null
      }
     },
     "a92e4f656d9c4d33a4dd003ef7fd39cf": {
      "model_module": "@jupyter-widgets/controls",
      "model_module_version": "2.0.0",
      "model_name": "HTMLModel",
      "state": {
       "layout": "IPY_MODEL_f82252c2d74b44cbbadda22ada0a93f6",
       "style": "IPY_MODEL_70a48a5532bd49238df90a7389e9b1ca",
       "value": " 4/4 [00:03&lt;00:00,  1.13it/s]"
      }
     },
     "aa1318daf5814b9eb28820337e75ac6e": {
      "model_module": "@jupyter-widgets/base",
      "model_module_version": "2.0.0",
      "model_name": "LayoutModel",
      "state": {}
     },
     "aa3a4c643151400481fe7628427aa34c": {
      "model_module": "@jupyter-widgets/base",
      "model_module_version": "2.0.0",
      "model_name": "LayoutModel",
      "state": {}
     },
     "aa79bc6394584598955876a61429290a": {
      "model_module": "@jupyter-widgets/controls",
      "model_module_version": "2.0.0",
      "model_name": "HTMLStyleModel",
      "state": {
       "description_width": "",
       "font_size": null,
       "text_color": null
      }
     },
     "ab23c03af3354c6c8e9da3eda47d1f9d": {
      "model_module": "@jupyter-widgets/controls",
      "model_module_version": "2.0.0",
      "model_name": "ProgressStyleModel",
      "state": {
       "description_width": ""
      }
     },
     "ab6d091c825c441296fe626d38e1c27a": {
      "model_module": "@jupyter-widgets/base",
      "model_module_version": "2.0.0",
      "model_name": "LayoutModel",
      "state": {}
     },
     "ada36379e2194cb0ae0440eca54ed004": {
      "model_module": "@jupyter-widgets/base",
      "model_module_version": "2.0.0",
      "model_name": "LayoutModel",
      "state": {}
     },
     "ae7668f1994a42db922e7395bc661aef": {
      "model_module": "@jupyter-widgets/controls",
      "model_module_version": "2.0.0",
      "model_name": "HTMLStyleModel",
      "state": {
       "description_width": "",
       "font_size": null,
       "text_color": null
      }
     },
     "b44f0fe94e3744a2973e3cda66dfb48c": {
      "model_module": "@jupyter-widgets/controls",
      "model_module_version": "2.0.0",
      "model_name": "HTMLStyleModel",
      "state": {
       "description_width": "",
       "font_size": null,
       "text_color": null
      }
     },
     "b554e7d67a1b43a180bffb7ac319b45b": {
      "model_module": "@jupyter-widgets/controls",
      "model_module_version": "2.0.0",
      "model_name": "HTMLStyleModel",
      "state": {
       "description_width": "",
       "font_size": null,
       "text_color": null
      }
     },
     "b5e9553e06ff479689d7d2623e8aa06b": {
      "model_module": "@jupyter-widgets/controls",
      "model_module_version": "2.0.0",
      "model_name": "HTMLModel",
      "state": {
       "layout": "IPY_MODEL_225dbb8a9d884cc2b1e502262c838c43",
       "style": "IPY_MODEL_f42026a0b3814cd68ba8599aecedfadd",
       "value": " 24/24 [00:29&lt;00:00,  1.85it/s]"
      }
     },
     "b6d4671633e7436db02c80e25eb80177": {
      "model_module": "@jupyter-widgets/base",
      "model_module_version": "2.0.0",
      "model_name": "LayoutModel",
      "state": {}
     },
     "b8269b31df11463e9d2e0bdbb2115ded": {
      "model_module": "@jupyter-widgets/controls",
      "model_module_version": "2.0.0",
      "model_name": "HTMLStyleModel",
      "state": {
       "description_width": "",
       "font_size": null,
       "text_color": null
      }
     },
     "be16b6b25ea342f69986aa0d090c3826": {
      "model_module": "@jupyter-widgets/controls",
      "model_module_version": "2.0.0",
      "model_name": "HTMLStyleModel",
      "state": {
       "description_width": "",
       "font_size": null,
       "text_color": null
      }
     },
     "bf981a26dac14bfeae90cdd2dadb51c8": {
      "model_module": "@jupyter-widgets/controls",
      "model_module_version": "2.0.0",
      "model_name": "HTMLModel",
      "state": {
       "layout": "IPY_MODEL_26eac1f5b63e4426946e72156bfb641b",
       "style": "IPY_MODEL_c900bafceaad4f219c7de09bd5f0f5c1",
       "value": "Processing Event Videos: 100%"
      }
     },
     "c18d9cdf170b4300a3822827dff0edba": {
      "model_module": "@jupyter-widgets/base",
      "model_module_version": "2.0.0",
      "model_name": "LayoutModel",
      "state": {}
     },
     "c2edb14ab8b34e9490bf65a9bc022791": {
      "model_module": "@jupyter-widgets/base",
      "model_module_version": "2.0.0",
      "model_name": "LayoutModel",
      "state": {}
     },
     "c393b348eede4ec88fa298f1fd456590": {
      "model_module": "@jupyter-widgets/controls",
      "model_module_version": "2.0.0",
      "model_name": "ProgressStyleModel",
      "state": {
       "description_width": ""
      }
     },
     "c64c79f88ed34fd3a17edc874dcb81f6": {
      "model_module": "@jupyter-widgets/controls",
      "model_module_version": "2.0.0",
      "model_name": "FloatProgressModel",
      "state": {
       "bar_style": "success",
       "layout": "IPY_MODEL_b6d4671633e7436db02c80e25eb80177",
       "max": 250,
       "style": "IPY_MODEL_243fb3d4f8304c1a9094a0fa3c550e97",
       "value": 250
      }
     },
     "c73342e147594c20b2449e82cc806b3b": {
      "model_module": "@jupyter-widgets/controls",
      "model_module_version": "2.0.0",
      "model_name": "FloatProgressModel",
      "state": {
       "bar_style": "success",
       "layout": "IPY_MODEL_aa3a4c643151400481fe7628427aa34c",
       "max": 250,
       "style": "IPY_MODEL_8f8854520c154f63adc4a2426bb007b9",
       "value": 250
      }
     },
     "c73a6d5e861646c79dbd7718ea0a2025": {
      "model_module": "@jupyter-widgets/controls",
      "model_module_version": "2.0.0",
      "model_name": "HTMLModel",
      "state": {
       "layout": "IPY_MODEL_1f0ffda9c8924f3fbbed20a9e865d2f2",
       "style": "IPY_MODEL_5fcc1d4204b14f88b48c66b63b440023",
       "value": "Processing Event Videos: 100%"
      }
     },
     "c7b34482b6c243b6bff51a16012ee622": {
      "model_module": "@jupyter-widgets/base",
      "model_module_version": "2.0.0",
      "model_name": "LayoutModel",
      "state": {}
     },
     "c7f1b12de7b145b395a3c53cfc3fa2d1": {
      "model_module": "@jupyter-widgets/controls",
      "model_module_version": "2.0.0",
      "model_name": "HTMLModel",
      "state": {
       "layout": "IPY_MODEL_77d5aded1f004bdfabccb132b603b9f8",
       "style": "IPY_MODEL_a85dfe181f454d81b0970c9efd88590e",
       "value": " 250/250 [00:00&lt;00:00, 5477.51it/s]"
      }
     },
     "c83d25cb7bd041b290a91ab7654568d1": {
      "model_module": "@jupyter-widgets/controls",
      "model_module_version": "2.0.0",
      "model_name": "ProgressStyleModel",
      "state": {
       "description_width": ""
      }
     },
     "c900bafceaad4f219c7de09bd5f0f5c1": {
      "model_module": "@jupyter-widgets/controls",
      "model_module_version": "2.0.0",
      "model_name": "HTMLStyleModel",
      "state": {
       "description_width": "",
       "font_size": null,
       "text_color": null
      }
     },
     "cc2575b0493844229b621f036b1962cb": {
      "model_module": "@jupyter-widgets/controls",
      "model_module_version": "2.0.0",
      "model_name": "HTMLModel",
      "state": {
       "layout": "IPY_MODEL_e189ca2f0440466fa18efd05a96cd8fc",
       "style": "IPY_MODEL_df5eb7057e0146b18ad68dd0ba98508f",
       "value": "Social Event Mapping (Layer): 100%"
      }
     },
     "cdfd4cf35a1a4e85ac5dbb295e26a496": {
      "model_module": "@jupyter-widgets/base",
      "model_module_version": "2.0.0",
      "model_name": "LayoutModel",
      "state": {}
     },
     "cf0e06a2c0a749e394d92686407abbc2": {
      "model_module": "@jupyter-widgets/controls",
      "model_module_version": "2.0.0",
      "model_name": "ProgressStyleModel",
      "state": {
       "description_width": ""
      }
     },
     "d33b7691353846d09eae9c7eae1922bd": {
      "model_module": "@jupyter-widgets/controls",
      "model_module_version": "2.0.0",
      "model_name": "HTMLModel",
      "state": {
       "layout": "IPY_MODEL_5f3c6202696840df87aec7cce995d09a",
       "style": "IPY_MODEL_307ab2ea3c604120906c5bf9cfd9bfb1",
       "value": "Global Progress (Extractor Batch): 100%"
      }
     },
     "d637545acedc47c6a81231a823edd389": {
      "model_module": "@jupyter-widgets/base",
      "model_module_version": "2.0.0",
      "model_name": "LayoutModel",
      "state": {}
     },
     "d8b2511ff7a0469fb2db1fac7b6544dc": {
      "model_module": "@jupyter-widgets/controls",
      "model_module_version": "2.0.0",
      "model_name": "HBoxModel",
      "state": {
       "children": [
        "IPY_MODEL_03825997e0fd454f99e779d46b80a440",
        "IPY_MODEL_0e1aa785ac644a919060e2796875ad5a",
        "IPY_MODEL_248c8a6c1a95412a800775b598d73d1a"
       ],
       "layout": "IPY_MODEL_f9e5007cf9a448ab845b5d68f7bf1ab1"
      }
     },
     "dc28d1c5279d4b0a8bf5faf57f39a96c": {
      "model_module": "@jupyter-widgets/controls",
      "model_module_version": "2.0.0",
      "model_name": "FloatProgressModel",
      "state": {
       "bar_style": "success",
       "layout": "IPY_MODEL_7e6fb69c53e14748bdd25c2b9d55a5a7",
       "max": 4,
       "style": "IPY_MODEL_55b11d8506204dfc97af35e948ebbd66",
       "value": 4
      }
     },
     "dce0b33468644c67bf440606989df480": {
      "model_module": "@jupyter-widgets/base",
      "model_module_version": "2.0.0",
      "model_name": "LayoutModel",
      "state": {}
     },
     "de205131ec1f41bc8ed613cac074fdcb": {
      "model_module": "@jupyter-widgets/base",
      "model_module_version": "2.0.0",
      "model_name": "LayoutModel",
      "state": {}
     },
     "df5eb7057e0146b18ad68dd0ba98508f": {
      "model_module": "@jupyter-widgets/controls",
      "model_module_version": "2.0.0",
      "model_name": "HTMLStyleModel",
      "state": {
       "description_width": "",
       "font_size": null,
       "text_color": null
      }
     },
     "dfac3575c9ff46b4b4f5392e34288f43": {
      "model_module": "@jupyter-widgets/controls",
      "model_module_version": "2.0.0",
      "model_name": "HTMLStyleModel",
      "state": {
       "description_width": "",
       "font_size": null,
       "text_color": null
      }
     },
     "e0245633c7554f6083af89f9a1dc1dfe": {
      "model_module": "@jupyter-widgets/controls",
      "model_module_version": "2.0.0",
      "model_name": "HBoxModel",
      "state": {
       "children": [
        "IPY_MODEL_70e7f02f9a6546fbb11469ab75487d3d",
        "IPY_MODEL_94cfa86fc5494dc49c8e716000008254",
        "IPY_MODEL_3e1ed312985e4144ac3bcc7612fc9e3e"
       ],
       "layout": "IPY_MODEL_e8f36967e70f45628d7f7e1e2a2bc688"
      }
     },
     "e189ca2f0440466fa18efd05a96cd8fc": {
      "model_module": "@jupyter-widgets/base",
      "model_module_version": "2.0.0",
      "model_name": "LayoutModel",
      "state": {}
     },
     "e37227f8e0854e97a0f617739ad777a1": {
      "model_module": "@jupyter-widgets/controls",
      "model_module_version": "2.0.0",
      "model_name": "HBoxModel",
      "state": {
       "children": [
        "IPY_MODEL_72489e62e40c4789b000ae609ffa65b9",
        "IPY_MODEL_c64c79f88ed34fd3a17edc874dcb81f6",
        "IPY_MODEL_fe5f10cc06ec46f9a277ab909484796a"
       ],
       "layout": "IPY_MODEL_177129fb1e914ada980ed7238fc54658"
      }
     },
     "e3d2a25f0a1a42158493fc5db6bef214": {
      "model_module": "@jupyter-widgets/controls",
      "model_module_version": "2.0.0",
      "model_name": "HBoxModel",
      "state": {
       "children": [
        "IPY_MODEL_d33b7691353846d09eae9c7eae1922bd",
        "IPY_MODEL_347ee2fec09d42ec958dd41c9d1d5edd",
        "IPY_MODEL_41348531eb8845ee8c2166969d45c206"
       ],
       "layout": "IPY_MODEL_de205131ec1f41bc8ed613cac074fdcb"
      }
     },
     "e5a4e6e939534efa92f9a7cc11e42ed2": {
      "model_module": "@jupyter-widgets/controls",
      "model_module_version": "2.0.0",
      "model_name": "HTMLModel",
      "state": {
       "layout": "IPY_MODEL_09e37336234f46b0a9b360e1bd6ea2db",
       "style": "IPY_MODEL_e9b2b82d754f4a4580db023f3c2cf738",
       "value": "Processing Event Videos: 100%"
      }
     },
     "e813f5ac6b614bca8ef385aab0c13ae2": {
      "model_module": "@jupyter-widgets/base",
      "model_module_version": "2.0.0",
      "model_name": "LayoutModel",
      "state": {}
     },
     "e8eba2b1cd4844d99e009a8dc94e2186": {
      "model_module": "@jupyter-widgets/controls",
      "model_module_version": "2.0.0",
      "model_name": "HBoxModel",
      "state": {
       "children": [
        "IPY_MODEL_0573679be180454abf669536ba88f3c1",
        "IPY_MODEL_dc28d1c5279d4b0a8bf5faf57f39a96c",
        "IPY_MODEL_a92e4f656d9c4d33a4dd003ef7fd39cf"
       ],
       "layout": "IPY_MODEL_f51104882b4d4453884b3a443c867f4c"
      }
     },
     "e8f36967e70f45628d7f7e1e2a2bc688": {
      "model_module": "@jupyter-widgets/base",
      "model_module_version": "2.0.0",
      "model_name": "LayoutModel",
      "state": {}
     },
     "e926bf1bab7c4b00805b1f0bb890bd93": {
      "model_module": "@jupyter-widgets/base",
      "model_module_version": "2.0.0",
      "model_name": "LayoutModel",
      "state": {}
     },
     "e9b2b82d754f4a4580db023f3c2cf738": {
      "model_module": "@jupyter-widgets/controls",
      "model_module_version": "2.0.0",
      "model_name": "HTMLStyleModel",
      "state": {
       "description_width": "",
       "font_size": null,
       "text_color": null
      }
     },
     "eb4b23e7313e44e0856b88c11f8a0437": {
      "model_module": "@jupyter-widgets/base",
      "model_module_version": "2.0.0",
      "model_name": "LayoutModel",
      "state": {}
     },
     "eb8d8c572d854ed5a0aed66fddca8693": {
      "model_module": "@jupyter-widgets/base",
      "model_module_version": "2.0.0",
      "model_name": "LayoutModel",
      "state": {}
     },
     "eb9f3eecbeb24c158f9162384618aae7": {
      "model_module": "@jupyter-widgets/controls",
      "model_module_version": "2.0.0",
      "model_name": "HTMLModel",
      "state": {
       "layout": "IPY_MODEL_21c7d5b1068141fb877bbb81362d6afe",
       "style": "IPY_MODEL_37d805ef0ead428ea8bf106a910f4c13",
       "value": "Global Progress (Extractor Batch): 100%"
      }
     },
     "ed5c3949f91147e19c66399198ab0b73": {
      "model_module": "@jupyter-widgets/controls",
      "model_module_version": "2.0.0",
      "model_name": "HBoxModel",
      "state": {
       "children": [
        "IPY_MODEL_bf981a26dac14bfeae90cdd2dadb51c8",
        "IPY_MODEL_00ca7d5be16243a982b86fb9aad6558e",
        "IPY_MODEL_0a74349ce6fb4b6ea2897fa97fbe4930"
       ],
       "layout": "IPY_MODEL_f41dbf03af4843acaec3eaff6feab866"
      }
     },
     "ee29928e8e5041809a5c8d59642b771e": {
      "model_module": "@jupyter-widgets/base",
      "model_module_version": "2.0.0",
      "model_name": "LayoutModel",
      "state": {}
     },
     "ee38ac69fd3f4faf87467fda33312f1c": {
      "model_module": "@jupyter-widgets/base",
      "model_module_version": "2.0.0",
      "model_name": "LayoutModel",
      "state": {}
     },
     "f27d7a5bea5640e888995467f1b3f50e": {
      "model_module": "@jupyter-widgets/controls",
      "model_module_version": "2.0.0",
      "model_name": "ProgressStyleModel",
      "state": {
       "description_width": ""
      }
     },
     "f28491dd52314460a6b50d1b90d92715": {
      "model_module": "@jupyter-widgets/controls",
      "model_module_version": "2.0.0",
      "model_name": "FloatProgressModel",
      "state": {
       "bar_style": "success",
       "layout": "IPY_MODEL_5d3b9db148b8483d89d971e0088fce4c",
       "max": 1,
       "style": "IPY_MODEL_64d96148e9c540c4be96e5e1c99fc4dc",
       "value": 1
      }
     },
     "f2e67d3b0ff8427ebb376e546ddc6947": {
      "model_module": "@jupyter-widgets/controls",
      "model_module_version": "2.0.0",
      "model_name": "HTMLStyleModel",
      "state": {
       "description_width": "",
       "font_size": null,
       "text_color": null
      }
     },
     "f41dbf03af4843acaec3eaff6feab866": {
      "model_module": "@jupyter-widgets/base",
      "model_module_version": "2.0.0",
      "model_name": "LayoutModel",
      "state": {}
     },
     "f42026a0b3814cd68ba8599aecedfadd": {
      "model_module": "@jupyter-widgets/controls",
      "model_module_version": "2.0.0",
      "model_name": "HTMLStyleModel",
      "state": {
       "description_width": "",
       "font_size": null,
       "text_color": null
      }
     },
     "f51104882b4d4453884b3a443c867f4c": {
      "model_module": "@jupyter-widgets/base",
      "model_module_version": "2.0.0",
      "model_name": "LayoutModel",
      "state": {}
     },
     "f82252c2d74b44cbbadda22ada0a93f6": {
      "model_module": "@jupyter-widgets/base",
      "model_module_version": "2.0.0",
      "model_name": "LayoutModel",
      "state": {}
     },
     "f852890ccff541b19a85de072c63b624": {
      "model_module": "@jupyter-widgets/controls",
      "model_module_version": "2.0.0",
      "model_name": "HTMLModel",
      "state": {
       "layout": "IPY_MODEL_e813f5ac6b614bca8ef385aab0c13ae2",
       "style": "IPY_MODEL_b8269b31df11463e9d2e0bdbb2115ded",
       "value": " 250/250 [00:00&lt;00:00, 6386.71it/s]"
      }
     },
     "f8578504542e4cdfb9f279eee9f4f1c4": {
      "model_module": "@jupyter-widgets/controls",
      "model_module_version": "2.0.0",
      "model_name": "ProgressStyleModel",
      "state": {
       "description_width": ""
      }
     },
     "f9e5007cf9a448ab845b5d68f7bf1ab1": {
      "model_module": "@jupyter-widgets/base",
      "model_module_version": "2.0.0",
      "model_name": "LayoutModel",
      "state": {}
     },
     "fc2ff03f7c49494c8720f18c4a06bb2e": {
      "model_module": "@jupyter-widgets/base",
      "model_module_version": "2.0.0",
      "model_name": "LayoutModel",
      "state": {}
     },
     "fce645771a874b8ab6762bb5ad062fba": {
      "model_module": "@jupyter-widgets/base",
      "model_module_version": "2.0.0",
      "model_name": "LayoutModel",
      "state": {}
     },
     "fda770d7f6954bcb899565421fc15bcc": {
      "model_module": "@jupyter-widgets/controls",
      "model_module_version": "2.0.0",
      "model_name": "HTMLStyleModel",
      "state": {
       "description_width": "",
       "font_size": null,
       "text_color": null
      }
     },
     "fe5f10cc06ec46f9a277ab909484796a": {
      "model_module": "@jupyter-widgets/controls",
      "model_module_version": "2.0.0",
      "model_name": "HTMLModel",
      "state": {
       "layout": "IPY_MODEL_4c2b6c89ccda44af8487458ffa84e2fa",
       "style": "IPY_MODEL_025144a070ae4530be0e1c1dfa070129",
       "value": " 250/250 [00:00&lt;00:00, 6388.11it/s]"
      }
     },
     "ff052396e84e42a5b98d85e48320f034": {
      "model_module": "@jupyter-widgets/controls",
      "model_module_version": "2.0.0",
      "model_name": "HBoxModel",
      "state": {
       "children": [
        "IPY_MODEL_024c34e9ba1a40938802a997f0c299f4",
        "IPY_MODEL_a811fd8db19c4ab5944013aa9ac5bad0",
        "IPY_MODEL_01a026d716134728b3283ae5003f0ba1"
       ],
       "layout": "IPY_MODEL_923618ad36154e61a5a2fe94dcfe1652"
      }
     },
     "ff7e115da9b24f78aaae399a458730d3": {
      "model_module": "@jupyter-widgets/controls",
      "model_module_version": "2.0.0",
      "model_name": "HTMLStyleModel",
      "state": {
       "description_width": "",
       "font_size": null,
       "text_color": null
      }
     }
    },
    "version_major": 2,
    "version_minor": 0
   }
  }
 },
 "nbformat": 4,
 "nbformat_minor": 5
}
