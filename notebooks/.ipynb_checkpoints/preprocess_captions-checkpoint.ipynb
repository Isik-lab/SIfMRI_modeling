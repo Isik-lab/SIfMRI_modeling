{
 "cells": [
  {
   "cell_type": "code",
   "execution_count": 1,
   "id": "6902208b-74ec-49f3-b40b-59d0bea85b51",
   "metadata": {},
   "outputs": [],
   "source": [
    "import re\n",
    "from glob import glob\n",
    "import os\n",
    "from pathlib import Path\n",
    "from tqdm import tqdm\n",
    "\n",
    "import pandas as pd\n",
    "import numpy as np\n",
    "from scipy.spatial.distance import pdist, squareform\n",
    "import matplotlib.pyplot as plt\n",
    "import seaborn as sns\n",
    "\n",
    "import dropbox, getpass"
   ]
  },
  {
   "cell_type": "code",
   "execution_count": 2,
   "id": "883b132f-b839-4500-b8bf-da1e3bc1e377",
   "metadata": {},
   "outputs": [],
   "source": [
    "pd.set_option('display.max_columns', None)\n",
    "pd.set_option('display.max_rows', None)"
   ]
  },
  {
   "cell_type": "code",
   "execution_count": 3,
   "id": "f08991d1-6c12-49d3-97fe-85908d032f86",
   "metadata": {},
   "outputs": [],
   "source": [
    "top_dir = '/scratch4/lisik3/emcmaho7/SIfMRI_modeling'\n",
    "figures_dir = f'{top_dir}/reports/figures'\n",
    "interim_dir = f'{top_dir}/data/interim'\n",
    "raw_dir = f'{top_dir}/data/raw'\n",
    "remote_path = '/projects/SI_fmri/SIfMRI_modeling/data/raw'\n",
    "\n",
    "out_path = f'{interim_dir}/CaptionData'\n",
    "Path(out_path).mkdir(exist_ok=True, parents=True)"
   ]
  },
  {
   "cell_type": "code",
   "execution_count": 4,
   "id": "562c65cb-80a9-4aaa-a298-5e6e8df6b564",
   "metadata": {},
   "outputs": [],
   "source": [
    "catch_trials = ['flickr-0-5-7-5-4-0-7-0-2605754070_54.mp4', 'yt-dfOVWymr76U_103.mp4']"
   ]
  },
  {
   "cell_type": "code",
   "execution_count": 5,
   "id": "a919ad49-776a-4c02-9a13-5adcc5669128",
   "metadata": {},
   "outputs": [],
   "source": [
    "if False:\n",
    "    personal_access_token = getpass.getpass('Enter your Personal Access Token: ')\n",
    "    dbx = dropbox.Dropbox(personal_access_token)\n",
    "\n",
    "    list_folder_result = dbx.files_list_folder(path=f'{remote_path}/captions')\n",
    "    for entry in tqdm(list_folder_result.entries, total=len(list_folder_result.entries)):\n",
    "        file = entry.path_lower.split('/')[-1]\n",
    "        print(file)\n",
    "        Path(f'{raw_dir}/captions/').mkdir(exist_ok=True, parents=True)\n",
    "        dbx.files_download_to_file(f'{raw_dir}/captions/{file}', entry.path_lower)"
   ]
  },
  {
   "cell_type": "code",
   "execution_count": 6,
   "id": "f1c0a4d6-38bf-4f48-b683-ccfe65e0c431",
   "metadata": {},
   "outputs": [],
   "source": [
    "if False:\n",
    "    personal_access_token = getpass.getpass('Enter your Personal Access Token: ')\n",
    "    dbx = dropbox.Dropbox(personal_access_token)\n",
    "\n",
    "    list_folder_result = dbx.files_list_folder(path=f'{remote_path}/videos')\n",
    "    for entry in tqdm(list_folder_result.entries, total=len(list_folder_result.entries)):\n",
    "        file = entry.path_lower.split('/')[-1]\n",
    "\n",
    "        Path(f'{raw_dir}/videos/').mkdir(exist_ok=True, parents=True)\n",
    "        dbx.files_download_to_file(f'{raw_dir}/videos/{file}', entry.path_lower)"
   ]
  },
  {
   "cell_type": "code",
   "execution_count": 7,
   "id": "3d40f580-e764-4944-b3b1-e84072b9666d",
   "metadata": {},
   "outputs": [],
   "source": [
    "if False:\n",
    "    personal_access_token = getpass.getpass('Enter your Personal Access Token: ')\n",
    "    dbx = dropbox.Dropbox(personal_access_token)\n",
    "    \n",
    "    list_folder_result = dbx.files_list_folder(path=f'{remote_path}/annotations')\n",
    "    for entry in tqdm(list_folder_result.entries, total=len(list_folder_result.entries)):\n",
    "        file = entry.path_lower.split('/')[-1]\n",
    "        print(file)\n",
    "        Path(f'{raw_dir}/annotations').mkdir(exist_ok=True, parents=True)\n",
    "        dbx.files_download_to_file(f'{raw_dir}/annotations/{file}', entry.path_lower)"
   ]
  },
  {
   "cell_type": "markdown",
   "id": "a6077459-af37-45aa-9a6c-ba20111bdd0f",
   "metadata": {},
   "source": [
    "## Load and clean data"
   ]
  },
  {
   "cell_type": "code",
   "execution_count": 8,
   "id": "221e3495-75fe-48a3-ad82-3104dc7197b0",
   "metadata": {},
   "outputs": [
    {
     "name": "stdout",
     "output_type": "stream",
     "text": [
      "sub_id: 5ca216d52a83ec00175c4eaf, condition: 00, date: 20230831142730\n",
      "sub_id: 6401041925b69c601d8c81eb, condition: 15, date: 20230901105315\n",
      "sub_id: 6124ea99728014c37c9635c7, condition: 00, date: 20230831142735\n",
      "sub_id: 63d196c147d1f420690e5b87, condition: 24, date: 20230901112232\n",
      "sub_id: 5e64e1d3ffed3225090e814d, condition: 14, date: 20230901104433\n",
      "sub_id: 5d5ad9a38fd0020001d2403f, condition: 01, date: 20230831142845\n",
      "sub_id: 60bbe5dac754ff6671006e16, condition: 01, date: 20230831142842\n",
      "sub_id: 5efa66c030577f1782e0311a, condition: 08, date: \n",
      "oops that file is empty. moving on...\n",
      "sub_id: 62d18a8949920240954954c4, condition: 01, date: 20230831142808\n",
      "sub_id: 5c3f0188ba40520001d33fc2, condition: 01, date: 20230831142811\n",
      "sub_id: 630be3605287a0f49b87c709, condition: 05, date: 20230831143613\n",
      "sub_id: 61587f16e25d1946774ea99a, condition: 00, date: 20230831142754\n",
      "sub_id: 5cf517728951b400019b1a24, condition: 02, date: 20230831142856\n",
      "sub_id: 5f904410ef86570b6eeebcb6, condition: 13, date: 20230901104158\n",
      "sub_id: 5e3842b92fdfd2000fc286a4, condition: 22, date: 20230901112246\n",
      "sub_id: 5d3112122401af0018ba2919, condition: 01, date: 20230831142821\n",
      "sub_id: 5ce7046a9390750017b64ac6, condition: 01, date: 20230831142848\n",
      "sub_id: 5f86e6019a0cbc03afd4ac20, condition: 07, date: 20230831150334\n",
      "sub_id: 5bfec39e571cea00018aa783, condition: 11, date: 20230901103927\n",
      "sub_id: 5cf656e90acc8f000147f643, condition: 06, date: 20230831150330\n",
      "sub_id: 5a4d194c87c6f8000137d680, condition: 00, date: 20230831142734\n",
      "sub_id: 59d4e426c618a50001cf5cab, condition: 00, date: 20230831142749\n",
      "sub_id: 5c576553fcbb880001fd0acd, condition: 21, date: 20230901112100\n",
      "sub_id: 62861bcc5f0edf6340c914df, condition: 09, date: 20230831150339\n",
      "sub_id: 63af557b3d4f219c3226b7d6, condition: 23, date: 20230901112151\n",
      "sub_id: 6466249c27b5e4161f763c32, condition: 17, date: 20230901110415\n",
      "sub_id: 5ea5d14393216f4545bb2368, condition: 01, date: 20230831142839\n",
      "sub_id: 603cfe49880ceeb4bf3aa72e, condition: 10, date: 20230831150340\n",
      "sub_id: 5671927473f58b000d664293, condition: 18, date: 20230901110503\n",
      "sub_id: 5e93138a7d69590115fa1e21, condition: 12, date: 20230901104009\n",
      "sub_id: 5b773e58a1c0710001a0ebad, condition: 16, date: 20230901105530\n",
      "sub_id: 5f4380bb7ca9ca5ca407fc04, condition: 04, date: 20230831143231\n",
      "sub_id: 5b5a4c642696a70001ee1722, condition: 00, date: 20230831142739\n",
      "sub_id: 5f7886db76d26207cd969fe6, condition: 22, date: 20230831140804\n",
      "sub_id: 609140cea1442672dd2141d7, condition: 19, date: 20230901111735\n",
      "sub_id: 5f1e1924c9f24d7af7632e2e, condition: 01, date: 20230831142833\n",
      "sub_id: 590819e205fbfc000147720c, condition: 01, date: 20230831142814\n",
      "sub_id: 606194ac4588bc4748d83964, condition: 01, date: 20230831142848\n",
      "sub_id: 5f516a44067fba1b4c562a55, condition: 20, date: 20230901112032\n",
      "sub_id: 5efa66c030577f1782e0311a, condition: 08, date: 20230831150336\n",
      "sub_id: 5cf15c363858150001955011, condition: 01, date: 20230831142825\n",
      "sub_id: 646a80bdba313585345b567a, condition: 00, date: 20230831142753\n",
      "sub_id: 5ebb26c872b18c0f47c14bb4, condition: 03, date: 20230831143058\n",
      "sub_id: 59ad56559fdf6c0001cba91c, condition: 01, date: 20230831142823\n",
      "sub_id: 6384e8f79ddf2df1432db0e8, condition: 05, date: 20230831143522\n",
      "sub_id: 60b7ae30dc4cd72192734427, condition: 01, date: 20230831142837\n"
     ]
    }
   ],
   "source": [
    "all_sub_data = []\n",
    "for path in glob(f'{raw_dir}/sentence_captions/*.csv'):\n",
    "    match = re.search(r'sub-(.*?)_condition-(.*?)_(.*).csv', path)\n",
    "    if match:\n",
    "        sub_id = match.group(1)\n",
    "        condition = match.group(2)\n",
    "        date = match.group(3)\n",
    "        print(f\"sub_id: {sub_id}, condition: {condition}, date: {date}\")\n",
    "\n",
    "    if os.path.getsize(path) == 0:\n",
    "        print('oops that file is empty. moving on...')\n",
    "    else:\n",
    "        df = pd.read_csv(path, header=None)\n",
    "        df.columns = ['url', 'caption']\n",
    "        df['url'] = df['url'].str.extract(\"(https://[^']+)\")\n",
    "        df['video_name'] = df['url'].str.extract(r'/([^/]+\\.mp4)')[0]\n",
    "        df[['sub_id', 'condition', 'date']] = sub_id, condition, date\n",
    "        all_sub_data.append(df)\n",
    "all_sub_data = pd.concat(all_sub_data)"
   ]
  },
  {
   "cell_type": "code",
   "execution_count": 9,
   "id": "1ec6513a-ff80-41e6-b28d-ce01780367ec",
   "metadata": {},
   "outputs": [],
   "source": [
    "incomplete_data = all_sub_data.groupby('sub_id').filter(lambda x: len(x) != 12)\n",
    "data = all_sub_data.groupby('sub_id').filter(lambda x: len(x) == 12)"
   ]
  },
  {
   "cell_type": "code",
   "execution_count": 10,
   "id": "1cf1d65f-7960-45c5-b55c-c5cf0208c77a",
   "metadata": {},
   "outputs": [
    {
     "name": "stderr",
     "output_type": "stream",
     "text": [
      "/home/emcmaho7/.conda/envs/llm/lib/python3.10/site-packages/tqdm/auto.py:21: TqdmWarning: IProgress not found. Please update jupyter and ipywidgets. See https://ipywidgets.readthedocs.io/en/stable/user_install.html\n",
      "  from .autonotebook import tqdm as notebook_tqdm\n"
     ]
    }
   ],
   "source": [
    "from sentence_transformers import SentenceTransformer\n",
    "llm = SentenceTransformer('sentence-transformers/all-MiniLM-L12-v1')"
   ]
  },
  {
   "cell_type": "code",
   "execution_count": 11,
   "id": "528b39ee-0a26-4c0e-a8f3-8cd7fd9f4feb",
   "metadata": {},
   "outputs": [
    {
     "name": "stdout",
     "output_type": "stream",
     "text": [
      "['5ce7046a9390750017b64ac6', '5cf15c363858150001955011', '5b773e58a1c0710001a0ebad']\n",
      "['00', '01', '02', '03', '04', '05', '06', '07', '08', '09', '10', '11', '12', '13', '14', '15', '17', '18', '19', '20', '21', '22', '23', '24']\n"
     ]
    },
    {
     "data": {
      "image/png": "[encoded data removed]",
      "text/plain": [
       "<Figure size 640x480 with 4 Axes>"
      ]
     },
     "metadata": {},
     "output_type": "display_data"
    }
   ],
   "source": [
    "_, axes = plt.subplots(len(catch_trials), len(catch_trials))\n",
    "bad_subs = []\n",
    "for ax, catch_trial in zip(axes, catch_trials):\n",
    "    catch_data = data.loc[data.video_name == catch_trial].reset_index(drop=True)    \n",
    "    captions = catch_data.caption.to_list()\n",
    "    embeddings = llm.encode(captions, normalize_embeddings=False)\n",
    "\n",
    "    pairwise_dist = squareform(pdist(embeddings, metric='correlation'))\n",
    "    ax[0].imshow(pairwise_dist)\n",
    "    ax[0].set_title(catch_trial)\n",
    "    \n",
    "    pairwise_dist[pairwise_dist == 0] = np.nan\n",
    "    distance = np.nanmean(pairwise_dist, axis=0)\n",
    "    dist_mean = distance.mean()\n",
    "    dist_std = distance.std()\n",
    "    dist_threshold = dist_mean + (2.5 * dist_std)\n",
    "    ax[1].hist(distance)\n",
    "    ax[1].vlines(x=dist_threshold, ymin=0, ymax=10, color='red')\n",
    "    ax[1].set_title(catch_trial)\n",
    "\n",
    "    bad_subs = bad_subs + catch_data.loc[distance > dist_threshold, 'sub_id'].to_list()\n",
    "print(bad_subs)\n",
    "filtered_data = all_sub_data[(~all_sub_data['sub_id'].isin(bad_subs)) & (~all_sub_data['video_name'].isin(catch_trials))].reset_index(drop=True)\n",
    "print(sorted(filtered_data.condition.unique()))"
   ]
  },
  {
   "cell_type": "code",
   "execution_count": 12,
   "id": "1ed88a5a-c210-4c42-9595-4ca4493899c9",
   "metadata": {},
   "outputs": [
    {
     "name": "stderr",
     "output_type": "stream",
     "text": [
      "/tmp/ipykernel_2176315/1566932434.py:2: SettingWithCopyWarning: \n",
      "A value is trying to be set on a copy of a slice from a DataFrame.\n",
      "Try using .loc[row_indexer,col_indexer] = value instead\n",
      "\n",
      "See the caveats in the documentation: https://pandas.pydata.org/pandas-docs/stable/user_guide/indexing.html#returning-a-view-versus-a-copy\n",
      "  caption_df['n_caption'] = caption_df.groupby('video_name').cumcount() + 1\n",
      "/tmp/ipykernel_2176315/1566932434.py:3: SettingWithCopyWarning: \n",
      "A value is trying to be set on a copy of a slice from a DataFrame.\n",
      "Try using .loc[row_indexer,col_indexer] = value instead\n",
      "\n",
      "See the caveats in the documentation: https://pandas.pydata.org/pandas-docs/stable/user_guide/indexing.html#returning-a-view-versus-a-copy\n",
      "  caption_df['n_caption'] = 'caption' + caption_df['n_caption'].astype('str').str.zfill(2)\n"
     ]
    }
   ],
   "source": [
    "caption_df = filtered_data[['video_name', 'caption']]\n",
    "caption_df['n_caption'] = caption_df.groupby('video_name').cumcount() + 1\n",
    "caption_df['n_caption'] = 'caption' + caption_df['n_caption'].astype('str').str.zfill(2)\n",
    "captions = caption_df.pivot(columns='n_caption', index='video_name', values='caption')\n",
    "captions.to_csv(f'{out_path}/captions.csv')"
   ]
  },
  {
   "cell_type": "code",
   "execution_count": 13,
   "id": "8bb541af-c530-48ae-92ea-dbba5b8e674b",
   "metadata": {},
   "outputs": [],
   "source": [
    "annotations = pd.read_csv(f'{raw_dir}/annotations/annotations.csv').drop(columns=['cooperation', 'dominance', 'intimacy'])\n",
    "annotations = annotations.merge(pd.read_csv(f'{raw_dir}/annotations/train.csv'), on='video_name').reset_index(drop=True)\n",
    "data = annotations.merge(captions.reset_index()[['video_name', 'caption01']], on='video_name')"
   ]
  },
  {
   "cell_type": "markdown",
   "id": "1ea3f153-dbaf-48f3-a119-b21280cca366",
   "metadata": {},
   "source": [
    "## LLM Regression"
   ]
  },
  {
   "cell_type": "code",
   "execution_count": 14,
   "id": "aa68f00c-d976-4751-bd28-71054fb567a5",
   "metadata": {},
   "outputs": [],
   "source": [
    "def scale2d(train_, test_):\n",
    "    mean = np.nanmean(train_, axis=0).squeeze()\n",
    "    variance = np.nanstd(train_, axis=0).squeeze()\n",
    "    variance[np.isclose(variance, 0.)] = np.nan\n",
    "    return (train_ - mean) / variance, (test_ - mean) / variance\n",
    "\n",
    "def scale1d(train_, test_):\n",
    "    mean = train_.mean()\n",
    "    variance = train_.std()\n",
    "    return (train_ - mean) / variance, (test_ - mean) / variance\n",
    "\n",
    "def preprocess(train, test):\n",
    "    if train.ndim > 1:\n",
    "        train_scaled, test_scaled = scale2d(train, test)\n",
    "    else:\n",
    "        train_scaled, test_scaled = scale1d(train, test)\n",
    "    return train_scaled, test_scaled\n",
    "\n",
    "def corr(x, y):\n",
    "    x_m = x - np.nanmean(x)\n",
    "    y_m = y - np.nanmean(y)\n",
    "    numer = np.nansum(x_m * y_m)\n",
    "    denom = np.sqrt(np.nansum(x_m * x_m) * np.nansum(y_m * y_m))\n",
    "    if denom != 0:\n",
    "        return numer / denom\n",
    "    else:\n",
    "        return np.nan\n",
    "\n",
    "def pearson_r_scorer(y_true, y_pred):\n",
    "    r = corr(y_true, y_pred)\n",
    "    return r"
   ]
  },
  {
   "cell_type": "code",
   "execution_count": 15,
   "id": "f0cc0d96-188c-41bf-b32a-bcc985fdbdf2",
   "metadata": {},
   "outputs": [],
   "source": [
    "from sklearn.linear_model import RidgeCV\n",
    "from sklearn.model_selection import KFold\n",
    "from sklearn.metrics import make_scorer\n",
    "import warnings\n",
    "warnings.filterwarnings(\"ignore\")\n",
    "\n",
    "def regression(X, y, n_splits=10):\n",
    "    kf = KFold(n_splits=n_splits)\n",
    "    pearson_scorer = make_scorer(pearson_r_scorer)\n",
    "    rcv = RidgeCV(alphas=(1e-2, 1e-1, 1e0, 1e1, 1e2, 1e3, 1e4), fit_intercept=False,\n",
    "                  scoring=pearson_scorer, cv=5)\n",
    "\n",
    "    y_pred = np.zeros_like(y)\n",
    "    for i, (train_index, test_index) in tqdm(enumerate(kf.split(X)), total=n_splits):\n",
    "        #split the data\n",
    "        X_train, X_test = X[train_index, :], X[test_index, :]\n",
    "        y_train, y_test = y[train_index], y[test_index]\n",
    "\n",
    "        # preprocess\n",
    "        X_train_scaled, X_test_scaled = preprocess(X_train, X_test)\n",
    "        y_train_scaled, y_test_scaled = preprocess(y_train, y_test)\n",
    "\n",
    "        # fit and predict\n",
    "        rcv.fit(X_train, y_train)\n",
    "        y_pred[test_index] = rcv.predict(X_test)\n",
    "    score = pearson_r_scorer(y, y_pred)\n",
    "    print(f'CV prediction = {score:.3f}')\n",
    "    return pearson_r_scorer(y, y_pred)"
   ]
  },
  {
   "cell_type": "code",
   "execution_count": 16,
   "id": "9f39288a-19d1-4db7-9ed3-8e8126fb0bc1",
   "metadata": {},
   "outputs": [
    {
     "name": "stderr",
     "output_type": "stream",
     "text": [
      "100%|██████████| 10/10 [00:20<00:00,  2.06s/it]"
     ]
    },
    {
     "name": "stdout",
     "output_type": "stream",
     "text": [
      "CV prediction = 0.455\n"
     ]
    },
    {
     "name": "stderr",
     "output_type": "stream",
     "text": [
      "\n"
     ]
    }
   ],
   "source": [
    "X = data['caption01']\n",
    "y = data['communication'].to_numpy()\n",
    "n_splits = 10\n",
    "\n",
    "kf = KFold(n_splits=n_splits)\n",
    "pearson_scorer = make_scorer(pearson_r_scorer)\n",
    "rcv = RidgeCV(alphas=(1e-2, 1e-1, 1e0, 1e1, 1e2, 1e3, 1e4), fit_intercept=False,\n",
    "              scoring=pearson_scorer, cv=5)\n",
    "\n",
    "y_pred = np.zeros_like(y)\n",
    "for i, (train_index, test_index) in tqdm(enumerate(kf.split(X)), total=n_splits):\n",
    "    #split the data\n",
    "    X_train = llm.encode(X[train_index].to_list(), normalize_embeddings=False)\n",
    "    X_test = llm.encode(X[test_index].to_list(), normalize_embeddings=False)\n",
    "    y_train, y_test = y[train_index], y[test_index]\n",
    "\n",
    "    # preprocess\n",
    "    X_train_scaled, X_test_scaled = preprocess(X_train, X_test)\n",
    "    y_train_scaled, y_test_scaled = preprocess(y_train, y_test)\n",
    "\n",
    "    # fit and predict\n",
    "    rcv.fit(X_train, y_train)\n",
    "    y_pred[test_index] = rcv.predict(X_test)\n",
    "    \n",
    "score = pearson_r_scorer(y, y_pred)\n",
    "print(f'CV prediction = {score:.3f}')"
   ]
  },
  {
   "cell_type": "markdown",
   "id": "f6d64f20-5ab1-47e9-b2bf-dbc56681e674",
   "metadata": {},
   "source": [
    "## AlexNet"
   ]
  },
  {
   "cell_type": "code",
   "execution_count": 17,
   "id": "ea7c1baa-c620-444d-bf21-896ad2a4ef6c",
   "metadata": {},
   "outputs": [],
   "source": [
    "import torchvision.models as models\n",
    "from torchvision import transforms as trn\n",
    "from torch.autograd import Variable as V\n",
    "import torch.nn as nn\n",
    "import torch\n",
    "\n",
    "import imageio\n",
    "from PIL import Image\n",
    "\n",
    "import copy"
   ]
  },
  {
   "cell_type": "code",
   "execution_count": 18,
   "id": "240022af-b95b-4c6f-9619-6015727be4c6",
   "metadata": {},
   "outputs": [],
   "source": [
    "def combine(X, combination=None):\n",
    "    X = X.data.numpy()\n",
    "\n",
    "    # Take the mean of the spatial axes\n",
    "    if X.ndim > 2 and combination is not None:\n",
    "        if combination == 'mean':\n",
    "            X = X.mean(axis=(X.ndim-2, X.ndim-1))\n",
    "        elif combination == 'max':\n",
    "            X = X.max(axis=(X.ndim-2, X.ndim-1))\n",
    "    elif X.ndim > 2 and combination is None:\n",
    "        X = X.reshape((X.shape[0], -1))\n",
    "    return X\n",
    "\n",
    "def image_preprocess(image_fname, resize=256):\n",
    "    transform = trn.Compose([\n",
    "        trn.Resize((resize, resize)),\n",
    "        trn.ToTensor(),\n",
    "        trn.Normalize([0.485, 0.456, 0.406], [0.229, 0.224, 0.225])\n",
    "    ])\n",
    "    if isinstance(image_fname, str):\n",
    "        img_input = Image.open(image_fname)\n",
    "    else:\n",
    "        img_input = image_fname\n",
    "    return V(transform(img_input).unsqueeze(0))\n",
    "\n",
    "class AlexNet_Extractor(nn.Module):\n",
    "    def __init__(self, net):\n",
    "        super(AlexNet_Extractor, self).__init__()\n",
    "        self.net = net\n",
    "\n",
    "    def forward(self, img, layer, feature_set, combination=None):\n",
    "        if feature_set == 'features':\n",
    "            #conv layers activation\n",
    "            model = self._get_features(layer)\n",
    "            model.eval()\n",
    "            X = model(img)\n",
    "        elif feature_set == 'classifier':\n",
    "            #fc activations\n",
    "            model = copy.deepcopy(self.net)\n",
    "            model.classifier = self._get_classifier(layer)\n",
    "            model.eval()\n",
    "            X = model(img)\n",
    "        return combine(X, combination)\n",
    "\n",
    "    def _get_features(self, layer):\n",
    "        features = nn.Sequential(\n",
    "            # stop at the layer\n",
    "            *list(self.net.features.children())[:layer+1]\n",
    "        )\n",
    "        return features\n",
    "\n",
    "    def _get_classifier(self, layer):\n",
    "        classifier = nn.Sequential(\n",
    "            # stop at the layer\n",
    "            *list(self.net.classifier.children())[:layer+1]\n",
    "        )\n",
    "        return classifier"
   ]
  },
  {
   "cell_type": "code",
   "execution_count": 19,
   "id": "8fc36a40-3b60-4b8d-9690-fae8eb635a79",
   "metadata": {},
   "outputs": [],
   "source": [
    "def regression(X, y, n_splits=10):\n",
    "    kf = KFold(n_splits=n_splits)\n",
    "    pearson_scorer = make_scorer(pearson_r_scorer)\n",
    "    rcv = RidgeCV(alphas=(1e-2, 1e-1, 1e0, 1e1, 1e2, 1e3, 1e4), fit_intercept=False,\n",
    "                  scoring=pearson_scorer, cv=5)\n",
    "\n",
    "    y_pred = np.zeros_like(y)\n",
    "    for i, (train_index, test_index) in tqdm(enumerate(kf.split(X)), total=n_splits):\n",
    "        #split the data\n",
    "        X_train, X_test = X[train_index, :], X[test_index, :]\n",
    "        y_train, y_test = y[train_index], y[test_index]\n",
    "\n",
    "        # preprocess\n",
    "        X_train_scaled, X_test_scaled = preprocess(X_train, X_test)\n",
    "        y_train_scaled, y_test_scaled = preprocess(y_train, y_test)\n",
    "\n",
    "        # fit and predict\n",
    "        rcv.fit(X_train, y_train)\n",
    "        y_pred[test_index] = rcv.predict(X_test)\n",
    "    score = pearson_r_scorer(y, y_pred)\n",
    "    return score"
   ]
  },
  {
   "cell_type": "code",
   "execution_count": 20,
   "id": "47a4c5f4-2ab9-4697-8dd3-1b16e0dfb975",
   "metadata": {},
   "outputs": [
    {
     "name": "stdout",
     "output_type": "stream",
     "text": [
      "AlexNet(\n",
      "  (features): Sequential(\n",
      "    (0): Conv2d(3, 64, kernel_size=(11, 11), stride=(4, 4), padding=(2, 2))\n",
      "    (1): ReLU(inplace=True)\n",
      "    (2): MaxPool2d(kernel_size=3, stride=2, padding=0, dilation=1, ceil_mode=False)\n",
      "    (3): Conv2d(64, 192, kernel_size=(5, 5), stride=(1, 1), padding=(2, 2))\n",
      "    (4): ReLU(inplace=True)\n",
      "    (5): MaxPool2d(kernel_size=3, stride=2, padding=0, dilation=1, ceil_mode=False)\n",
      "    (6): Conv2d(192, 384, kernel_size=(3, 3), stride=(1, 1), padding=(1, 1))\n",
      "    (7): ReLU(inplace=True)\n",
      "    (8): Conv2d(384, 256, kernel_size=(3, 3), stride=(1, 1), padding=(1, 1))\n",
      "    (9): ReLU(inplace=True)\n",
      "    (10): Conv2d(256, 256, kernel_size=(3, 3), stride=(1, 1), padding=(1, 1))\n",
      "    (11): ReLU(inplace=True)\n",
      "    (12): MaxPool2d(kernel_size=3, stride=2, padding=0, dilation=1, ceil_mode=False)\n",
      "  )\n",
      "  (avgpool): AdaptiveAvgPool2d(output_size=(6, 6))\n",
      "  (classifier): Sequential(\n",
      "    (0): Dropout(p=0.5, inplace=False)\n",
      "    (1): Linear(in_features=9216, out_features=4096, bias=True)\n",
      "    (2): ReLU(inplace=True)\n",
      "    (3): Dropout(p=0.5, inplace=False)\n",
      "    (4): Linear(in_features=4096, out_features=4096, bias=True)\n",
      "    (5): ReLU(inplace=True)\n",
      "    (6): Linear(in_features=4096, out_features=1000, bias=True)\n",
      "  )\n",
      ")\n"
     ]
    }
   ],
   "source": [
    "os.environ[\"TOKENIZERS_PARALLELISM\"] = \"false\"\n",
    "model = models.alexnet(weights='IMAGENET1K_V1')\n",
    "model.eval()\n",
    "feature_extractor = AlexNet_Extractor(model)\n",
    "print(model)"
   ]
  },
  {
   "cell_type": "code",
   "execution_count": 21,
   "id": "52c19218-6f30-43fb-9670-f04348ab14ff",
   "metadata": {},
   "outputs": [
    {
     "name": "stderr",
     "output_type": "stream",
     "text": [
      "100%|██████████| 182/182 [00:16<00:00, 10.84it/s]\n"
     ]
    }
   ],
   "source": [
    "images = []\n",
    "for vid in tqdm(data.video_name):\n",
    "    vid = imageio.get_reader(f'{raw_dir}/videos/{vid.lower()}', 'ffmpeg')\n",
    "    images.append(image_preprocess(Image.fromarray(vid.get_data(0))))\n",
    "images = np.concatenate(images)"
   ]
  },
  {
   "cell_type": "code",
   "execution_count": 22,
   "id": "af6b24d4-d97c-4e22-be18-a86d7d90f255",
   "metadata": {},
   "outputs": [
    {
     "name": "stderr",
     "output_type": "stream",
     "text": [
      "100%|██████████| 10/10 [01:43<00:00, 10.33s/it]\n"
     ]
    }
   ],
   "source": [
    "score = regression(images.reshape((images.shape[0], -1)), y)\n",
    "output = [{'layer': 'pixels', 'score': score}, ]"
   ]
  },
  {
   "cell_type": "code",
   "execution_count": 23,
   "id": "259b91a4-206c-429e-9cd6-c0dca9cf99c9",
   "metadata": {},
   "outputs": [
    {
     "name": "stderr",
     "output_type": "stream",
     "text": [
      "100%|██████████| 10/10 [00:00<00:00, 22.65it/s]\n",
      "100%|██████████| 10/10 [00:00<00:00, 22.29it/s]\n",
      "100%|██████████| 10/10 [00:00<00:00, 23.12it/s]\n",
      "100%|██████████| 10/10 [00:00<00:00, 16.83it/s]\n",
      "100%|██████████| 10/10 [00:00<00:00, 16.18it/s]\n",
      "100%|██████████| 10/10 [00:00<00:00, 14.06it/s]\n",
      "100%|██████████| 10/10 [00:00<00:00, 15.24it/s]\n",
      "100%|██████████| 10/10 [00:00<00:00, 14.74it/s]\n",
      "100%|██████████| 10/10 [00:00<00:00, 14.13it/s]\n",
      "100%|██████████| 10/10 [00:00<00:00, 16.23it/s]\n",
      "100%|██████████| 10/10 [00:00<00:00, 14.50it/s]\n",
      "100%|██████████| 10/10 [00:00<00:00, 16.62it/s]\n",
      "100%|██████████| 10/10 [00:00<00:00, 16.81it/s]\n",
      "100%|██████████| 10/10 [00:04<00:00,  2.20it/s]\n",
      "100%|██████████| 10/10 [00:02<00:00,  4.71it/s]\n",
      "100%|██████████| 10/10 [00:01<00:00,  5.56it/s]\n",
      "100%|██████████| 10/10 [00:02<00:00,  4.88it/s]\n",
      "100%|██████████| 10/10 [00:02<00:00,  4.95it/s]\n",
      "100%|██████████| 10/10 [00:02<00:00,  4.59it/s]\n",
      "100%|██████████| 10/10 [00:00<00:00, 10.36it/s]\n"
     ]
    }
   ],
   "source": [
    "verbose=False\n",
    "output = []\n",
    "for feature_set in ['features', 'classifier']: \n",
    "    if feature_set == 'features':\n",
    "        sub_model = model.features\n",
    "        n_layers = len(sub_model)\n",
    "    else:\n",
    "        sub_model = model.classifier\n",
    "        n_layers = len(sub_model)\n",
    "\n",
    "    for layer in range(n_layers):\n",
    "        features = feature_extractor.forward(torch.from_numpy(images),\n",
    "                                             layer=layer,\n",
    "                                             feature_set=feature_set,\n",
    "                                             combination='mean')\n",
    "        score = regression(features, y)\n",
    "        output.append({'layer': f'{feature_set}_layer-{layer}', 'score': score})\n",
    "        if verbose:\n",
    "            print(f'{feature_set} layer {layer}')\n",
    "            print(list(sub_model.children())[layer])\n",
    "            print(f'CV prediction = {score:.3f}\\n')"
   ]
  },
  {
   "cell_type": "code",
   "execution_count": 25,
   "id": "346e97ae-59db-45f8-9699-350e6162af48",
   "metadata": {},
   "outputs": [
    {
     "name": "stdout",
     "output_type": "stream",
     "text": [
      "layer    features_layer-9\n",
      "score            0.328868\n",
      "dtype: object\n"
     ]
    },
    {
     "data": {
      "image/png": "[encoded data removed]",
      "text/plain": [
       "<Figure size 640x480 with 1 Axes>"
      ]
     },
     "metadata": {},
     "output_type": "display_data"
    }
   ],
   "source": [
    "### This is the result of taking the mean\n",
    "alexnet_perf = pd.DataFrame(output)\n",
    "_, ax = plt.subplots()\n",
    "alexnet_perf.plot(x='layer', y='score', ax=ax)\n",
    "ax.set_xticks(range(len(alexnet_perf.layer)))\n",
    "ax.set_xticklabels(alexnet_perf.layer,\n",
    "                   rotation=45, ha='right')\n",
    "print(alexnet_perf.max())"
   ]
  },
  {
   "cell_type": "code",
   "execution_count": null,
   "id": "33e137d7-f3b3-4f3c-a992-e239618f68a2",
   "metadata": {},
   "outputs": [],
   "source": []
  }
 ],
 "metadata": {
  "kernelspec": {
   "display_name": "llm",
   "language": "python",
   "name": "llm"
  },
  "language_info": {
   "codemirror_mode": {
    "name": "ipython",
    "version": 3
   },
   "file_extension": ".py",
   "mimetype": "text/x-python",
   "name": "python",
   "nbconvert_exporter": "python",
   "pygments_lexer": "ipython3",
   "version": "3.10.12"
  }
 },
 "nbformat": 4,
 "nbformat_minor": 5
}
