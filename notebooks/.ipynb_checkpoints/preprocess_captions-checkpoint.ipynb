{
 "cells": [
  {
   "cell_type": "code",
   "execution_count": 1,
   "id": "6902208b-74ec-49f3-b40b-59d0bea85b51",
   "metadata": {},
   "outputs": [],
   "source": [
    "import re\n",
    "from glob import glob\n",
    "import os\n",
    "\n",
    "import pandas as pd\n",
    "import numpy as np\n",
    "import matplotlib.pyplot as plt\n",
    "import seaborn as sns"
   ]
  },
  {
   "cell_type": "code",
   "execution_count": 2,
   "id": "f08991d1-6c12-49d3-97fe-85908d032f86",
   "metadata": {},
   "outputs": [],
   "source": [
    "top_dir = '/Users/emcmaho7/Dropbox/projects/SI_fmri/SIfMRI_modeling'\n",
    "figures_dir = f'{top_dir}/reports/figures'\n",
    "interim_dir = f'{top_dir}/data/interim'\n",
    "raw_dir = f'{top_dir}/data/raw'"
   ]
  },
  {
   "cell_type": "code",
   "execution_count": 3,
   "id": "562c65cb-80a9-4aaa-a298-5e6e8df6b564",
   "metadata": {},
   "outputs": [],
   "source": [
    "catch_trials = ['flickr-0-5-7-5-4-0-7-0-2605754070_54.mp4', 'yt-dfOVWymr76U_103.mp4']"
   ]
  },
  {
   "cell_type": "code",
   "execution_count": 4,
   "id": "5dc42c01-c25b-4958-973b-c2dadce6bed6",
   "metadata": {},
   "outputs": [],
   "source": [
    "caption_files = glob(f'{raw_dir}/sentence_captions/*.csv')"
   ]
  },
  {
   "cell_type": "code",
   "execution_count": 5,
   "id": "221e3495-75fe-48a3-ad82-3104dc7197b0",
   "metadata": {},
   "outputs": [
    {
     "name": "stdout",
     "output_type": "stream",
     "text": [
      "sub_id: 606194ac4588bc4748d83964, condition: 01, date: 20230831142848\n",
      "sub_id: 5efa66c030577f1782e0311a, condition: 08, date: \n",
      "oops that file is empty. moving on...\n",
      "sub_id: 5cf15c363858150001955011, condition: 01, date: 20230831142825\n",
      "sub_id: 5f7886db76d26207cd969fe6, condition: 22, date: 20230831140804\n",
      "sub_id: 5c3f0188ba40520001d33fc2, condition: 01, date: 20230831142811\n",
      "sub_id: 5f1e1924c9f24d7af7632e2e, condition: 01, date: 20230831142833\n",
      "sub_id: 60b7ae30dc4cd72192734427, condition: 01, date: 20230831142837\n",
      "sub_id: 5b5a4c642696a70001ee1722, condition: 00, date: 20230831142739\n",
      "sub_id: 5a4d194c87c6f8000137d680, condition: 00, date: 20230831142734\n",
      "sub_id: 5f4380bb7ca9ca5ca407fc04, condition: 04, date: 20230831143231\n",
      "sub_id: 60bbe5dac754ff6671006e16, condition: 01, date: 20230831142842\n",
      "sub_id: 5d5ad9a38fd0020001d2403f, condition: 01, date: 20230831142845\n",
      "sub_id: 5d3112122401af0018ba2919, condition: 01, date: 20230831142821\n",
      "sub_id: 59ad56559fdf6c0001cba91c, condition: 01, date: 20230831142823\n",
      "sub_id: 603cfe49880ceeb4bf3aa72e, condition: 10, date: 20230831150340\n",
      "sub_id: 6124ea99728014c37c9635c7, condition: 00, date: 20230831142735\n",
      "sub_id: 630be3605287a0f49b87c709, condition: 05, date: 20230831143613\n",
      "sub_id: 5cf517728951b400019b1a24, condition: 02, date: 20230831142856\n",
      "sub_id: 5ca216d52a83ec00175c4eaf, condition: 00, date: 20230831142730\n",
      "sub_id: 62861bcc5f0edf6340c914df, condition: 09, date: 20230831150339\n",
      "sub_id: 62d18a8949920240954954c4, condition: 01, date: 20230831142808\n",
      "sub_id: 5ebb26c872b18c0f47c14bb4, condition: 03, date: 20230831143058\n",
      "sub_id: 5efa66c030577f1782e0311a, condition: 08, date: 20230831150336\n",
      "sub_id: 646a80bdba313585345b567a, condition: 00, date: 20230831142753\n",
      "sub_id: 5ea5d14393216f4545bb2368, condition: 01, date: 20230831142839\n",
      "sub_id: 61587f16e25d1946774ea99a, condition: 00, date: 20230831142754\n",
      "sub_id: 590819e205fbfc000147720c, condition: 01, date: 20230831142814\n",
      "sub_id: 5f86e6019a0cbc03afd4ac20, condition: 07, date: 20230831150334\n",
      "sub_id: 6384e8f79ddf2df1432db0e8, condition: 05, date: 20230831143522\n",
      "sub_id: 59d4e426c618a50001cf5cab, condition: 00, date: 20230831142749\n",
      "sub_id: 5cf656e90acc8f000147f643, condition: 06, date: 20230831150330\n",
      "sub_id: 5ce7046a9390750017b64ac6, condition: 01, date: 20230831142848\n"
     ]
    }
   ],
   "source": [
    "data = []\n",
    "for path in caption_files:\n",
    "    match = re.search(r'sub-(.*?)_condition-(.*?)_(.*).csv', path)\n",
    "    if match:\n",
    "        sub_id = match.group(1)\n",
    "        condition = match.group(2)\n",
    "        date = match.group(3)\n",
    "        print(f\"sub_id: {sub_id}, condition: {condition}, date: {date}\")\n",
    "\n",
    "    if os.path.getsize(path) == 0:\n",
    "        print('oops that file is empty. moving on...')\n",
    "    else:\n",
    "        df = pd.read_csv(path, header=None)\n",
    "        df.columns = ['url', 'caption']\n",
    "        df['url'] = df['url'].str.extract(\"(https://[^']+)\")\n",
    "        df['video_name'] = df['url'].str.extract(r'/([^/]+\\.mp4)')[0]\n",
    "        df[['sub_id', 'condition', 'date']] = sub_id, condition, date\n",
    "        data.append(df)\n",
    "data = pd.concat(data)"
   ]
  },
  {
   "cell_type": "code",
   "execution_count": 6,
   "id": "1ec6513a-ff80-41e6-b28d-ce01780367ec",
   "metadata": {},
   "outputs": [],
   "source": [
    "incomplete_data = data.groupby('sub_id').filter(lambda x: len(x) != 12)\n",
    "filtered_data = data.groupby('sub_id').filter(lambda x: len(x) == 12)"
   ]
  },
  {
   "cell_type": "code",
   "execution_count": 7,
   "id": "528b39ee-0a26-4c0e-a8f3-8cd7fd9f4feb",
   "metadata": {},
   "outputs": [],
   "source": [
    "for catch_trial in catch_trials:\n",
    "    catch_data = filtered_data.loc[filtered_data.video_name == catch_trial].reset_index(drop=True)\n",
    "    "
   ]
  },
  {
   "cell_type": "code",
   "execution_count": 2,
   "id": "e076a0a1-ec58-4907-9249-c63d095c75e3",
   "metadata": {},
   "outputs": [
    {
     "ename": "ModuleNotFoundError",
     "evalue": "No module named 'sentence_transformers'",
     "output_type": "error",
     "traceback": [
      "\u001b[0;31m---------------------------------------------------------------------------\u001b[0m",
      "\u001b[0;31mModuleNotFoundError\u001b[0m                       Traceback (most recent call last)",
      "Input \u001b[0;32mIn [2]\u001b[0m, in \u001b[0;36m<cell line: 1>\u001b[0;34m()\u001b[0m\n\u001b[0;32m----> 1\u001b[0m \u001b[38;5;28;01mfrom\u001b[39;00m \u001b[38;5;21;01msentence_transformers\u001b[39;00m \u001b[38;5;28;01mimport\u001b[39;00m SentenceTransformer\n\u001b[1;32m      2\u001b[0m model \u001b[38;5;241m=\u001b[39m SentenceTransformer(\u001b[38;5;124m'\u001b[39m\u001b[38;5;124mmodel_name_or_path\u001b[39m\u001b[38;5;124m'\u001b[39m)\n",
      "\u001b[0;31mModuleNotFoundError\u001b[0m: No module named 'sentence_transformers'"
     ]
    }
   ],
   "source": [
    "from sentence_transformers import SentenceTransformer\n",
    "model = SentenceTransformer('model_name_or_path')"
   ]
  },
  {
   "cell_type": "code",
   "execution_count": null,
   "id": "386d3557-e69c-41db-80af-105cbadd9ee9",
   "metadata": {},
   "outputs": [],
   "source": []
  }
 ],
 "metadata": {
  "kernelspec": {
   "display_name": "Python 3 (ipykernel)",
   "language": "python",
   "name": "python3"
  },
  "language_info": {
   "codemirror_mode": {
    "name": "ipython",
    "version": 3
   },
   "file_extension": ".py",
   "mimetype": "text/x-python",
   "name": "python",
   "nbconvert_exporter": "python",
   "pygments_lexer": "ipython3",
   "version": "3.9.12"
  }
 },
 "nbformat": 4,
 "nbformat_minor": 5
}
