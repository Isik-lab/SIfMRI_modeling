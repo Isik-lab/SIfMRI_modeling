{
 "cells": [
  {
   "cell_type": "markdown",
   "id": "040c79c5-3ece-442d-9b4f-c7c7ac098031",
   "metadata": {},
   "source": [
    "## Imports + Setup"
   ]
  },
  {
   "cell_type": "code",
   "execution_count": 1,
   "id": "e7a9b942-7335-4493-872b-9f3e4bf66b1f",
   "metadata": {},
   "outputs": [],
   "source": [
    "%load_ext autoreload\n",
    "%autoreload complete"
   ]
  },
  {
   "cell_type": "code",
   "execution_count": 23,
   "id": "743dd7f6-e9fc-42e3-ba44-a52db812def5",
   "metadata": {},
   "outputs": [],
   "source": [
    "from src import lang_permute\n",
    "import pandas as pd\n",
    "from random import seed as random_seed\n",
    "import numpy as np"
   ]
  },
  {
   "cell_type": "code",
   "execution_count": 3,
   "id": "eaf5b2fc-e1a6-4a60-9e30-82acbca0250d",
   "metadata": {},
   "outputs": [
    {
     "name": "stdout",
     "output_type": "stream",
     "text": [
      "spacy backend: en_core_web_trf\n"
     ]
    }
   ],
   "source": [
    "syntax_model = lang_permute.get_spacy_model()\n",
    "fix_spelling = lang_permute.load_spellcheck()"
   ]
  },
  {
   "cell_type": "code",
   "execution_count": 4,
   "id": "cbfba3ce-cf41-4970-ac59-689459cdceb0",
   "metadata": {},
   "outputs": [],
   "source": [
    "def shuffle_words(sentence, seed=0):\n",
    "    random_seed(0) # set seed\n",
    "    words = sentence.split(' ')\n",
    "    lang_permute.shuffle(words)\n",
    "    return ' '.join(words)"
   ]
  },
  {
   "cell_type": "code",
   "execution_count": 35,
   "id": "21948de2-a067-4366-af7f-ccdb9ea4fb5f",
   "metadata": {},
   "outputs": [],
   "source": [
    "def pos_extraction(sentences, model, pos_tags, \n",
    "             lemmatize=False, shuffle=False,\n",
    "                   exclude=False):\n",
    "        \n",
    "    if not isinstance(sentences, list):\n",
    "        sentences = [sentences]\n",
    "    \n",
    "    extracts = lang_permute.batch_extract_pos(sentences, pos_tags, model,\n",
    "                                              lemmatize=lemmatize, exclude=exclude)\n",
    "    extracts = [' '.join(extract) for extract in extracts] \n",
    "    \n",
    "    if shuffle:\n",
    "        return [shuffle_words(words) for words in extracts]\n",
    "    \n",
    "    return extracts"
   ]
  },
  {
   "cell_type": "code",
   "execution_count": 14,
   "id": "e6fc84b9-9464-4af5-9137-b9d773698560",
   "metadata": {},
   "outputs": [
    {
     "name": "stderr",
     "output_type": "stream",
     "text": [
      "/home/emcmaho7/.conda/envs/fmri_modeling/lib/python3.10/site-packages/transformers/generation/utils.py:1273: UserWarning: Using the model-agnostic default `max_length` (=20) to control the generation length. We recommend setting `max_new_tokens` to control the maximum length of the generation.\n",
      "  warnings.warn(\n",
      "POS Extraction (over Sentences): 100%|██████████| 1250/1250 [00:04<00:00, 258.86it/s]\n"
     ]
    }
   ],
   "source": [
    "cap_cols = [f'caption{str(i+1).zfill(2)}'for i in range(5)]\n",
    "caption_df = pd.read_csv('../data/interim/CaptionData/captions.csv').set_index('video_name')\n",
    "captions = list(caption_df[cap_cols].to_numpy().flatten())\n",
    "corrected_captions_dict = fix_spelling(captions)\n",
    "corrected_captions = [cap['generated_text'] for cap in corrected_captions_dict]\n",
    "corrected_captions = pos_extraction(corrected_captions, syntax_model, ['PUNCT'], exclude=True)"
   ]
  },
  {
   "cell_type": "code",
   "execution_count": 37,
   "id": "367e1009-8b9b-4d6b-a613-4b21a0c88265",
   "metadata": {},
   "outputs": [],
   "source": [
    "out_conditions = {'lemmas_shuffled': [['PUNC'], True, True],\n",
    "                  'lemmas_ordered': [['PUNC'], False, True],\n",
    "                  'excnv_shuffled': [['NOUN','VERB'], True, True],\n",
    "                  'excnv_ordered': [['NOUN','VERB'], False, True],\n",
    "                  'nv_shuffled': [['NOUN','VERB'], True, False],\n",
    "                  'nv_ordered': [['NOUN','VERB'], False, False],\n",
    "                  'verb_shuffled': [['VERB'], True, False],\n",
    "                  'verb_ordered': [['VERB'], False, False],\n",
    "                  'noun_shuffled': [['NOUN'], True, False],\n",
    "                  'noun_ordered': [['NOUN'], False, False],\n",
    "                  }"
   ]
  },
  {
   "cell_type": "code",
   "execution_count": 39,
   "id": "7472bf4c-0e3b-4a70-8f48-2b035a215d4f",
   "metadata": {},
   "outputs": [
    {
     "name": "stdout",
     "output_type": "stream",
     "text": [
      "lemmas_shuffled [['PUNC'], True, True]\n"
     ]
    },
    {
     "name": "stderr",
     "output_type": "stream",
     "text": [
      "POS Extraction (over Sentences): 100%|██████████| 1250/1250 [00:04<00:00, 251.60it/s]\n"
     ]
    },
    {
     "name": "stdout",
     "output_type": "stream",
     "text": [
      "['hold two game man while sit play a with his tv video a on small baby', 'lap play man on a baby with a wii his', 'a a in man to in short standard with chair next sit a a smile lamp', 'man baby the wii chuckle play on be make the a dog while which the', 'a child and father show enjoy']\n",
      "\n",
      "lemmas_ordered [['PUNC'], False, True]\n"
     ]
    },
    {
     "name": "stderr",
     "output_type": "stream",
     "text": [
      "POS Extraction (over Sentences): 100%|██████████| 1250/1250 [00:04<00:00, 259.21it/s]\n"
     ]
    },
    {
     "name": "stdout",
     "output_type": "stream",
     "text": [
      "['a man sit play video game on his tv while hold a baby with two small', 'a man with a baby on his lap play wii', 'a man in short sit in a chair next to a standard lamp with a smile', 'a man play on the wii which be make the baby chuckle while the dog', 'father and child enjoy a show']\n",
      "\n",
      "excnv_shuffled [['NOUN', 'VERB'], True, True]\n"
     ]
    },
    {
     "name": "stderr",
     "output_type": "stream",
     "text": [
      "POS Extraction (over Sentences): 100%|██████████| 1250/1250 [00:04<00:00, 261.04it/s]\n"
     ]
    },
    {
     "name": "stdout",
     "output_type": "stream",
     "text": [
      "['a on with his a while small two', 'his a with a wii on', 'standard with in to a next in a a a', 'be on the the a which the while', 'and a']\n",
      "\n",
      "excnv_ordered [['NOUN', 'VERB'], False, True]\n"
     ]
    },
    {
     "name": "stderr",
     "output_type": "stream",
     "text": [
      "POS Extraction (over Sentences): 100%|██████████| 1250/1250 [00:04<00:00, 261.33it/s]"
     ]
    },
    {
     "name": "stdout",
     "output_type": "stream",
     "text": [
      "['a on his while a with two small', 'a with a on his wii', 'a in in a next to a standard with a', 'a on the which be the while the', 'and a']\n",
      "\n"
     ]
    },
    {
     "name": "stderr",
     "output_type": "stream",
     "text": [
      "\n"
     ]
    }
   ],
   "source": [
    "for key, val in out_conditions.items(): \n",
    "    print(key, val)\n",
    "    out_name = f'../data/interim/CaptionData/{key}.txt'\n",
    "    extracted_captions = pos_extraction(corrected_captions, syntax_model,\n",
    "                                        val[0], lemmatize=True, \n",
    "                                        shuffle=val[1], exclude=val[2])\n",
    "    print(extracted_captions[:5])\n",
    "    print()\n",
    "    file = open(out_name,'w')\n",
    "    for item in extracted_captions:\n",
    "        file.write(item+\"\\n\")\n",
    "    file.close()"
   ]
  },
  {
   "cell_type": "code",
   "execution_count": null,
   "id": "1f6fb22f-3ad9-4a1c-8ff6-e2e8563925e1",
   "metadata": {},
   "outputs": [],
   "source": []
  }
 ],
 "metadata": {
  "kernelspec": {
   "display_name": "fmri_modeling",
   "language": "python",
   "name": "myenv"
  },
  "language_info": {
   "codemirror_mode": {
    "name": "ipython",
    "version": 3
   },
   "file_extension": ".py",
   "mimetype": "text/x-python",
   "name": "python",
   "nbconvert_exporter": "python",
   "pygments_lexer": "ipython3",
   "version": "3.10.13"
  }
 },
 "nbformat": 4,
 "nbformat_minor": 5
}
