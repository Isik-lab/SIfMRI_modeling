{
 "cells": [
  {
   "cell_type": "markdown",
   "id": "040c79c5-3ece-442d-9b4f-c7c7ac098031",
   "metadata": {},
   "source": [
    "## Imports + Setup"
   ]
  },
  {
   "cell_type": "code",
   "execution_count": 1,
   "id": "e7a9b942-7335-4493-872b-9f3e4bf66b1f",
   "metadata": {},
   "outputs": [],
   "source": [
    "%load_ext autoreload\n",
    "%autoreload complete"
   ]
  },
  {
   "cell_type": "code",
   "execution_count": 2,
   "id": "743dd7f6-e9fc-42e3-ba44-a52db812def5",
   "metadata": {},
   "outputs": [],
   "source": [
    "from src import lang_permute"
   ]
  },
  {
   "cell_type": "code",
   "execution_count": 3,
   "id": "eaf5b2fc-e1a6-4a60-9e30-82acbca0250d",
   "metadata": {},
   "outputs": [
    {
     "name": "stdout",
     "output_type": "stream",
     "text": [
      "spacy backend: en_core_web_trf\n"
     ]
    }
   ],
   "source": [
    "syntax_model = get_spacy_model()\n",
    "fix_spelling = load_spellcheck()"
   ]
  },
  {
   "cell_type": "markdown",
   "id": "093f6a63-be5d-4d94-863a-02801999de78",
   "metadata": {},
   "source": [
    "### Spellchecking"
   ]
  },
  {
   "cell_type": "code",
   "execution_count": 4,
   "id": "cdd381e2-e226-4e26-bac8-057803c1fc91",
   "metadata": {},
   "outputs": [
    {
     "data": {
      "text/plain": [
       "[{'generated_text': 'The cats are playing with the toys and the dogs are barking at the birds.'}]"
      ]
     },
     "execution_count": 4,
     "metadata": {},
     "output_type": "execute_result"
    }
   ],
   "source": [
    "fix_spelling(\"The cts are playin with the tys and the dgs are barking at the brds.\")"
   ]
  },
  {
   "cell_type": "markdown",
   "id": "d0892bbd-cb21-47fa-8aa5-5df772b72c8c",
   "metadata": {},
   "source": [
    "## POS Extraction"
   ]
  },
  {
   "cell_type": "code",
   "execution_count": 5,
   "id": "d6f435e1-8360-4997-b8b6-49516f00aaca",
   "metadata": {},
   "outputs": [
    {
     "name": "stdout",
     "output_type": "stream",
     "text": [
      "ADJ: Adjective\n",
      "ADP: Adposition (Pre- & Post-)\n",
      "ADV: Adverb\n",
      "AUX: Auxiliary Verb\n",
      "CONJ: Conjunction\n",
      "CCONJ: Coordinating Conjunction\n",
      "DET: Determiner\n",
      "INTJ: Interjection\n",
      "NOUN: Noun\n",
      "NUM: Numeral\n",
      "PART: Particle\n",
      "PRON: Pronoun\n",
      "PROPN: Proper Noun\n",
      "PUNCT: Punctuation\n",
      "SCONJ: Subordinating Conjunction\n",
      "SYM: Symbol\n",
      "VERB: Verb\n",
      "X: Other\n"
     ]
    }
   ],
   "source": [
    "get_nltk_pos_descriptions()"
   ]
  },
  {
   "cell_type": "code",
   "execution_count": 6,
   "id": "aaac63b4-3efe-41fa-807f-7777c95d4cc3",
   "metadata": {},
   "outputs": [],
   "source": [
    "sentences = [\"The cats are playing with strings.\",\n",
    "             \"The dogs are barking at the birds.\",\n",
    "             \"The catfish are jumping in the river.\"]"
   ]
  },
  {
   "cell_type": "code",
   "execution_count": 7,
   "id": "27f0e8fc-59ba-4c79-9298-46700fba57f9",
   "metadata": {},
   "outputs": [
    {
     "data": {
      "text/plain": [
       "['cats', 'strings']"
      ]
     },
     "execution_count": 7,
     "metadata": {},
     "output_type": "execute_result"
    }
   ],
   "source": [
    "extract_pos(sentences[0], ['NOUN'], model=syntax_model)"
   ]
  },
  {
   "cell_type": "code",
   "execution_count": 8,
   "id": "89baaf6d-b946-4be4-a0d0-97df9c2a0cf9",
   "metadata": {},
   "outputs": [
    {
     "data": {
      "application/vnd.jupyter.widget-view+json": {
       "model_id": "55f3e4bc417044d59eb612ecf6c294e9",
       "version_major": 2,
       "version_minor": 0
      },
      "text/plain": [
       "POS Extraction (over Sentences):   0%|          | 0/3 [00:00<?, ?it/s]"
      ]
     },
     "metadata": {},
     "output_type": "display_data"
    },
    {
     "data": {
      "text/plain": [
       "[['cats', 'strings'], ['dogs', 'birds'], ['catfish', 'river']]"
      ]
     },
     "execution_count": 8,
     "metadata": {},
     "output_type": "execute_result"
    }
   ],
   "source": [
    "batch_extract_pos(sentences, ['NOUN'], syntax_model)"
   ]
  },
  {
   "cell_type": "code",
   "execution_count": 9,
   "id": "c878b530-99af-4f6f-bd8f-3907016a0298",
   "metadata": {},
   "outputs": [
    {
     "data": {
      "application/vnd.jupyter.widget-view+json": {
       "model_id": "72321d0b87ba474d90f2860d0e5b1f79",
       "version_major": 2,
       "version_minor": 0
      },
      "text/plain": [
       "POS Extraction (over Sentences):   0%|          | 0/3 [00:00<?, ?it/s]"
      ]
     },
     "metadata": {},
     "output_type": "display_data"
    },
    {
     "data": {
      "text/plain": [
       "[['playing'], ['barking'], ['jumping']]"
      ]
     },
     "execution_count": 9,
     "metadata": {},
     "output_type": "execute_result"
    }
   ],
   "source": [
    "batch_extract_pos(sentences, ['VERB'], syntax_model)"
   ]
  },
  {
   "cell_type": "code",
   "execution_count": 10,
   "id": "318a5a28-7bc5-4781-8d4c-47547c4c8e68",
   "metadata": {},
   "outputs": [
    {
     "data": {
      "application/vnd.jupyter.widget-view+json": {
       "model_id": "6fb0cbce0f4543b79d9d910b07a52c88",
       "version_major": 2,
       "version_minor": 0
      },
      "text/plain": [
       "POS Extraction (over Sentences):   0%|          | 0/3 [00:00<?, ?it/s]"
      ]
     },
     "metadata": {},
     "output_type": "display_data"
    },
    {
     "data": {
      "text/plain": [
       "[['play'], ['bark'], ['jump']]"
      ]
     },
     "execution_count": 10,
     "metadata": {},
     "output_type": "execute_result"
    }
   ],
   "source": [
    "batch_extract_pos(sentences, ['VERB'], syntax_model, lemmatize=True)"
   ]
  },
  {
   "cell_type": "code",
   "execution_count": 11,
   "id": "5e5aa12d-bf1c-46a6-80d5-2081bfa4d463",
   "metadata": {},
   "outputs": [
    {
     "data": {
      "application/vnd.jupyter.widget-view+json": {
       "model_id": "edf7d17b1e244f648b6556957f0665b7",
       "version_major": 2,
       "version_minor": 0
      },
      "text/plain": [
       "POS Extraction (over Sentences):   0%|          | 0/3 [00:00<?, ?it/s]"
      ]
     },
     "metadata": {},
     "output_type": "display_data"
    },
    {
     "data": {
      "text/plain": [
       "[['the', 'cats', 'are', 'with', 'strings', '.'],\n",
       " ['the', 'dogs', 'are', 'at', 'the', 'birds', '.'],\n",
       " ['the', 'catfish', 'are', 'in', 'the', 'river', '.']]"
      ]
     },
     "execution_count": 11,
     "metadata": {},
     "output_type": "execute_result"
    }
   ],
   "source": [
    "batch_extract_pos(sentences, ['VERB'], syntax_model, exclude=True)"
   ]
  },
  {
   "cell_type": "code",
   "execution_count": 12,
   "id": "08c79bf5-dd59-43ed-95cb-0d8a5a3d3a81",
   "metadata": {},
   "outputs": [
    {
     "data": {
      "application/vnd.jupyter.widget-view+json": {
       "model_id": "48d304397cc947db91f96375602fac1f",
       "version_major": 2,
       "version_minor": 0
      },
      "text/plain": [
       "POS Extraction (over Sentences):   0%|          | 0/3 [00:00<?, ?it/s]"
      ]
     },
     "metadata": {},
     "output_type": "display_data"
    },
    {
     "data": {
      "text/plain": [
       "[['the', 'cats', 'are', 'playing', 'with', 'strings'],\n",
       " ['the', 'dogs', 'are', 'barking', 'at', 'the', 'birds'],\n",
       " ['the', 'catfish', 'are', 'jumping', 'in', 'the', 'river']]"
      ]
     },
     "execution_count": 12,
     "metadata": {},
     "output_type": "execute_result"
    }
   ],
   "source": [
    "batch_extract_pos(sentences, ['PUNCT'], syntax_model, exclude=True)"
   ]
  },
  {
   "cell_type": "markdown",
   "id": "0f00c130-015a-477c-aba1-051b76f42b53",
   "metadata": {},
   "source": [
    "## Perturbations"
   ]
  },
  {
   "cell_type": "markdown",
   "id": "5373615f-75b8-4e65-88a9-43f5c8796272",
   "metadata": {},
   "source": [
    "### Word Shuffling"
   ]
  },
  {
   "cell_type": "code",
   "execution_count": 22,
   "id": "3cb467b2-74c4-4a3d-894e-1a3f5861be59",
   "metadata": {},
   "outputs": [],
   "source": [
    "from random import seed"
   ]
  },
  {
   "cell_type": "code",
   "execution_count": 34,
   "id": "9d652b6d-fbef-428d-9b7d-edc6b240036a",
   "metadata": {},
   "outputs": [],
   "source": [
    "from random import seed as random_seed\n",
    "\n",
    "def shuffle_words(sentence, seed=0):\n",
    "    random_seed(0) # set seed\n",
    "    words = sentence.split(' ')\n",
    "    shuffle(words)\n",
    "    return ' '.join(words)"
   ]
  },
  {
   "cell_type": "code",
   "execution_count": 35,
   "id": "29e33543-74af-483d-88a4-f2ab268c63bf",
   "metadata": {},
   "outputs": [
    {
     "data": {
      "text/plain": [
       "['with are cats The strings. playing',\n",
       " 'at are dogs The the barking birds.',\n",
       " 'in are catfish The the jumping river.']"
      ]
     },
     "execution_count": 35,
     "metadata": {},
     "output_type": "execute_result"
    }
   ],
   "source": [
    "[shuffle_words(sentence) for sentence in sentences]"
   ]
  },
  {
   "cell_type": "code",
   "execution_count": 36,
   "id": "4d30e21a-f726-4af6-a2ea-2add53c7d587",
   "metadata": {},
   "outputs": [],
   "source": [
    "def nouns_only(sentences, model, lemmatize=False, \n",
    "               shuffle=False, rejoin=True):\n",
    "    \n",
    "    if not isinstance(sentences, list):\n",
    "        sentences = [sentences]\n",
    "\n",
    "    extracts = batch_extract_pos(sentences, ['NOUN'], model,\n",
    "                                 lemmatize = lemmatize)\n",
    "\n",
    "    if shuffle:\n",
    "        [shuffle(words) for words in extracts]\n",
    "\n",
    "    if not rejoin:\n",
    "        return extracts\n",
    "\n",
    "    return [' '.join(extract) for extract in extracts] "
   ]
  },
  {
   "cell_type": "code",
   "execution_count": 37,
   "id": "979a8bad-392d-47a1-b738-a1f0e5d2467b",
   "metadata": {},
   "outputs": [
    {
     "data": {
      "application/vnd.jupyter.widget-view+json": {
       "model_id": "abcfbce17b3b4c448b759fc5bd345d62",
       "version_major": 2,
       "version_minor": 0
      },
      "text/plain": [
       "POS Extraction (over Sentences):   0%|          | 0/3 [00:00<?, ?it/s]"
      ]
     },
     "metadata": {},
     "output_type": "display_data"
    },
    {
     "data": {
      "text/plain": [
       "['cats strings', 'dogs birds', 'catfish river']"
      ]
     },
     "execution_count": 37,
     "metadata": {},
     "output_type": "execute_result"
    }
   ],
   "source": [
    "nouns_only(sentences, syntax_model)"
   ]
  },
  {
   "cell_type": "code",
   "execution_count": 38,
   "id": "6cd90eaa-62e0-4646-94f0-bb9e5655cff0",
   "metadata": {},
   "outputs": [],
   "source": [
    "def everything_but(sentences, model, pos_tags,\n",
    "                   shuffle=False, rejoin=True):\n",
    "    \n",
    "    if not isinstance(sentences, list):\n",
    "        sentences = [sentences]\n",
    "\n",
    "    extracts = batch_extract_pos(sentences, pos_tags, model,\n",
    "                                 exclude = True)\n",
    "\n",
    "    if shuffle:\n",
    "        [shuffle(words) for words in extracts]\n",
    "\n",
    "    if not rejoin:\n",
    "        return extracts\n",
    "\n",
    "    return [' '.join(extract) for extract in extracts] "
   ]
  },
  {
   "cell_type": "code",
   "execution_count": 39,
   "id": "f9c9940c-ce24-435c-84f5-a6f3882e1f05",
   "metadata": {},
   "outputs": [
    {
     "data": {
      "application/vnd.jupyter.widget-view+json": {
       "model_id": "4b621d1880f648ad961b02032c65b5b4",
       "version_major": 2,
       "version_minor": 0
      },
      "text/plain": [
       "POS Extraction (over Sentences):   0%|          | 0/3 [00:00<?, ?it/s]"
      ]
     },
     "metadata": {},
     "output_type": "display_data"
    },
    {
     "data": {
      "text/plain": [
       "['are playing with', 'are barking at', 'are jumping in']"
      ]
     },
     "execution_count": 39,
     "metadata": {},
     "output_type": "execute_result"
    }
   ],
   "source": [
    "exclude_pos_tags = ['NOUN','DET','PUNCT']\n",
    "everything_but(sentences, syntax_model, exclude_pos_tags)"
   ]
  },
  {
   "cell_type": "code",
   "execution_count": null,
   "id": "1f6fb22f-3ad9-4a1c-8ff6-e2e8563925e1",
   "metadata": {},
   "outputs": [],
   "source": []
  }
 ],
 "metadata": {
  "kernelspec": {
   "display_name": "Synthese",
   "language": "python",
   "name": "synthese"
  },
  "language_info": {
   "codemirror_mode": {
    "name": "ipython",
    "version": 3
   },
   "file_extension": ".py",
   "mimetype": "text/x-python",
   "name": "python",
   "nbconvert_exporter": "python",
   "pygments_lexer": "ipython3",
   "version": "3.10.11"
  }
 },
 "nbformat": 4,
 "nbformat_minor": 5
}
